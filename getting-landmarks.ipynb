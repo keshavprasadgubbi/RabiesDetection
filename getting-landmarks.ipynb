{
 "cells": [
  {
   "cell_type": "markdown",
   "metadata": {},
   "source": [
    "# Generating Landmarks\n",
    "\n",
    "## Local Landmark of Neuron\n",
    "* Step1: Obtain the tiles that are either single neurons and/or stitched partial ones that are eligible to generate neurons\n",
    "* Step2: Obtain the central location of a given tile, based on thresholding and centre of mass of image which is the landmark needed : (x,y)   \n",
    "\n",
    "## Global Landmark of Neuron\n",
    "* Step3: In order to obtain global landmarks, get the respective tilenumber and also global coordinates of the tile. \n",
    "* Step4: The local coordinates need to be subtracted from the (x2,y2) of the global coordinates: landmark_x = x2 - cx, landmark_y = y2 - cy\n",
    "\n",
    "## Generate landmarks and landmark files\n",
    "* Step5: Add all the landmarks into a separate  text file"
   ]
  },
  {
   "cell_type": "markdown",
   "metadata": {},
   "source": [
    "## Step2"
   ]
  },
  {
   "cell_type": "markdown",
   "metadata": {},
   "source": [
    "## Importing and displaying the particular tile"
   ]
  },
  {
   "cell_type": "code",
   "execution_count": 50,
   "metadata": {},
   "outputs": [
    {
     "data": {
      "image/png": "[encoded data removed]",
      "text/plain": [
       "<Figure size 432x288 with 1 Axes>"
      ]
     },
     "metadata": {
      "needs_background": "light"
     },
     "output_type": "display_data"
    }
   ],
   "source": [
    "import cv2 as cv\n",
    "import numpy as np\n",
    "source_path = '/Users/keshavaprasad/Desktop/image/Classification_model/singleneurontiles/1.tif'\n",
    "img = cv.imread(source_path,0)\n",
    "#print(img.shape)\n",
    "\n",
    "import matplotlib.pyplot as plt\n",
    "plt.imshow(img,cmap='gray')\n",
    "plt.show()"
   ]
  },
  {
   "cell_type": "code",
   "execution_count": 28,
   "metadata": {},
   "outputs": [],
   "source": [
    "# Blurring for removing the noise\n",
    "#img_blur = cv.bilateralFilter(img, d = 7,sigmaSpace = 75, sigmaColor =75)\n",
    "#plt.imshow(img_blur,cmap='gray')\n",
    "#plt.show()"
   ]
  },
  {
   "cell_type": "markdown",
   "metadata": {},
   "source": [
    "## Binary Thresholding "
   ]
  },
  {
   "cell_type": "code",
   "execution_count": 31,
   "metadata": {},
   "outputs": [
    {
     "name": "stdout",
     "output_type": "stream",
     "text": [
      "255\n"
     ]
    },
    {
     "data": {
      "text/plain": [
       "<matplotlib.image.AxesImage at 0x11db58090>"
      ]
     },
     "execution_count": 31,
     "metadata": {},
     "output_type": "execute_result"
    },
    {
     "data": {
      "image/png": "[encoded data removed]",
      "text/plain": [
       "<Figure size 432x288 with 1 Axes>"
      ]
     },
     "metadata": {
      "needs_background": "light"
     },
     "output_type": "display_data"
    }
   ],
   "source": [
    "# Apply the thresholding\n",
    "a = img.max()\n",
    "print(a)\n",
    "_, thresh = cv.threshold(img_blur, a/2, a,cv.THRESH_BINARY_INV)\n",
    "plt.imshow(thresh, cmap = 'gray')"
   ]
  },
  {
   "cell_type": "markdown",
   "metadata": {},
   "source": [
    "## Otsu thresholding"
   ]
  },
  {
   "cell_type": "code",
   "execution_count": 32,
   "metadata": {
    "ExecuteTime": {
     "end_time": "2020-03-24T13:35:51.938746Z",
     "start_time": "2020-03-24T13:35:51.934088Z"
    }
   },
   "outputs": [],
   "source": [
    "# only thresholding + otsu + find contours\n",
    "ret1,th1 = cv.threshold(img,127,255,cv.THRESH_BINARY+cv.THRESH_OTSU) \n",
    "#ret1 is the thresholding value and th1 is the thresholded image\n"
   ]
  },
  {
   "cell_type": "code",
   "execution_count": 33,
   "metadata": {},
   "outputs": [
    {
     "data": {
      "image/png": "[encoded data removed]",
      "text/plain": [
       "<Figure size 432x288 with 1 Axes>"
      ]
     },
     "metadata": {
      "needs_background": "light"
     },
     "output_type": "display_data"
    }
   ],
   "source": [
    "plt.imshow(th1,cmap='gray')\n",
    "plt.show()"
   ]
  },
  {
   "cell_type": "markdown",
   "metadata": {},
   "source": [
    "## finding contours in order to find centroid"
   ]
  },
  {
   "cell_type": "code",
   "execution_count": 52,
   "metadata": {},
   "outputs": [],
   "source": [
    "contours,hierarchy = cv.findContours(th1, 1, 2)\n",
    "cnt = contours[0]\n",
    "#len(contours)\n",
    "#contours[2]"
   ]
  },
  {
   "cell_type": "markdown",
   "metadata": {},
   "source": [
    "## Method1 : via minimum enclosing circle around the contour and then finding the centre of the circle"
   ]
  },
  {
   "cell_type": "code",
   "execution_count": 53,
   "metadata": {},
   "outputs": [
    {
     "data": {
      "text/plain": [
       "(12, 32)"
      ]
     },
     "execution_count": 53,
     "metadata": {},
     "output_type": "execute_result"
    }
   ],
   "source": [
    "(cx,cy),radius = cv.minEnclosingCircle(cnt)\n",
    "center = (int(cx),int(cy))\n",
    "radius = int(radius/10)\n",
    "#cv.circle(img,center,1, (0, 0, 255), 3)\n",
    "cv.circle(img,center,1, (255, 0,0,), 1)\n",
    "center\n",
    "## but this is not correct!"
   ]
  },
  {
   "cell_type": "code",
   "execution_count": 54,
   "metadata": {},
   "outputs": [
    {
     "data": {
      "text/plain": [
       "<matplotlib.image.AxesImage at 0x11f410510>"
      ]
     },
     "execution_count": 54,
     "metadata": {},
     "output_type": "execute_result"
    },
    {
     "data": {
      "image/png": "[encoded data removed]",
      "text/plain": [
       "<Figure size 432x288 with 1 Axes>"
      ]
     },
     "metadata": {
      "needs_background": "light"
     },
     "output_type": "display_data"
    }
   ],
   "source": [
    "plt.imshow(img,cmap='gray')\n"
   ]
  },
  {
   "cell_type": "markdown",
   "metadata": {},
   "source": [
    "## Method 2: Via image moments through pixel intensities"
   ]
  },
  {
   "cell_type": "code",
   "execution_count": 42,
   "metadata": {},
   "outputs": [
    {
     "name": "stdout",
     "output_type": "stream",
     "text": [
      "{'m00': 0.0, 'm10': 0.0, 'm01': 0.0, 'm20': 0.0, 'm11': 0.0, 'm02': 0.0, 'm30': 0.0, 'm21': 0.0, 'm12': 0.0, 'm03': 0.0, 'mu20': 0.0, 'mu11': 0.0, 'mu02': 0.0, 'mu30': 0.0, 'mu21': 0.0, 'mu12': 0.0, 'mu03': 0.0, 'nu20': 0.0, 'nu11': 0.0, 'nu02': 0.0, 'nu30': 0.0, 'nu21': 0.0, 'nu12': 0.0, 'nu03': 0.0}\n"
     ]
    }
   ],
   "source": [
    "# this might not work since image has thresholded and there is no variation in pixel intensities\n",
    "M = cv.moments(cnt)\n",
    "print(M)\n"
   ]
  },
  {
   "cell_type": "code",
   "execution_count": 43,
   "metadata": {},
   "outputs": [
    {
     "ename": "ZeroDivisionError",
     "evalue": "float division by zero",
     "output_type": "error",
     "traceback": [
      "\u001b[0;31m---------------------------------------------------------------------------\u001b[0m",
      "\u001b[0;31mZeroDivisionError\u001b[0m                         Traceback (most recent call last)",
      "\u001b[0;32m<ipython-input-43-07394f05e74b>\u001b[0m in \u001b[0;36m<module>\u001b[0;34m\u001b[0m\n\u001b[0;32m----> 1\u001b[0;31m \u001b[0mcx\u001b[0m \u001b[0;34m=\u001b[0m \u001b[0mint\u001b[0m\u001b[0;34m(\u001b[0m\u001b[0mM\u001b[0m\u001b[0;34m[\u001b[0m\u001b[0;34m'm10'\u001b[0m\u001b[0;34m]\u001b[0m\u001b[0;34m/\u001b[0m\u001b[0mM\u001b[0m\u001b[0;34m[\u001b[0m\u001b[0;34m'm00'\u001b[0m\u001b[0;34m]\u001b[0m\u001b[0;34m)\u001b[0m\u001b[0;34m\u001b[0m\u001b[0;34m\u001b[0m\u001b[0m\n\u001b[0m\u001b[1;32m      2\u001b[0m \u001b[0mcy\u001b[0m \u001b[0;34m=\u001b[0m \u001b[0mint\u001b[0m\u001b[0;34m(\u001b[0m\u001b[0mM\u001b[0m\u001b[0;34m[\u001b[0m\u001b[0;34m'm01'\u001b[0m\u001b[0;34m]\u001b[0m\u001b[0;34m/\u001b[0m\u001b[0mM\u001b[0m\u001b[0;34m[\u001b[0m\u001b[0;34m'm00'\u001b[0m\u001b[0;34m]\u001b[0m\u001b[0;34m)\u001b[0m\u001b[0;34m\u001b[0m\u001b[0;34m\u001b[0m\u001b[0m\n\u001b[1;32m      3\u001b[0m \u001b[0mprint\u001b[0m\u001b[0;34m(\u001b[0m\u001b[0;34m\"cx:\"\u001b[0m\u001b[0;34m,\u001b[0m\u001b[0mcx\u001b[0m\u001b[0;34m,\u001b[0m\u001b[0;34m\",cy:\"\u001b[0m\u001b[0;34m,\u001b[0m\u001b[0mcy\u001b[0m\u001b[0;34m)\u001b[0m \u001b[0;31m# cx and cy is the local coordinate of the tile\u001b[0m\u001b[0;34m\u001b[0m\u001b[0;34m\u001b[0m\u001b[0m\n\u001b[1;32m      4\u001b[0m \u001b[0mcv\u001b[0m\u001b[0;34m.\u001b[0m\u001b[0mcircle\u001b[0m\u001b[0;34m(\u001b[0m\u001b[0mimg\u001b[0m\u001b[0;34m,\u001b[0m\u001b[0mcenter\u001b[0m\u001b[0;34m,\u001b[0m\u001b[0;36m1\u001b[0m\u001b[0;34m,\u001b[0m \u001b[0;34m(\u001b[0m\u001b[0;36m0\u001b[0m\u001b[0;34m,\u001b[0m \u001b[0;36m255\u001b[0m\u001b[0;34m,\u001b[0m\u001b[0;36m0\u001b[0m\u001b[0;34m)\u001b[0m\u001b[0;34m,\u001b[0m \u001b[0;36m1\u001b[0m\u001b[0;34m)\u001b[0m\u001b[0;34m\u001b[0m\u001b[0;34m\u001b[0m\u001b[0m\n",
      "\u001b[0;31mZeroDivisionError\u001b[0m: float division by zero"
     ]
    }
   ],
   "source": [
    "cx = int(M['m10']/M['m00'])\n",
    "cy = int(M['m01']/M['m00'])\n",
    "print(\"cx:\",cx,\",cy:\",cy) # cx and cy is the local coordinate of the tile\n",
    "cv.circle(img,center,1, (0, 255,0), 1)\n"
   ]
  },
  {
   "cell_type": "code",
   "execution_count": 38,
   "metadata": {},
   "outputs": [
    {
     "data": {
      "image/png": "[encoded data removed]",
      "text/plain": [
       "<Figure size 432x288 with 1 Axes>"
      ]
     },
     "metadata": {
      "needs_background": "light"
     },
     "output_type": "display_data"
    }
   ],
   "source": [
    "plt.imshow(img,cmap='gray')\n",
    "plt.show()"
   ]
  },
  {
   "cell_type": "markdown",
   "metadata": {},
   "source": [
    "## Calculating Landmarks"
   ]
  },
  {
   "cell_type": "code",
   "execution_count": null,
   "metadata": {},
   "outputs": [],
   "source": [
    "# calculating landmarks\n",
    "#Need to get value of x2, y2 here which is the global coordinates of the tile! these are the global coordinates!\n",
    "#landmark_x = x2 - cx # is the global landmark of the particular neuron\n",
    "#landmark_y = y2 - cy\n",
    "\n",
    "landmarks = [] \n",
    "landmarks.extend(list(zip(landmark_x,landmark_y)))# containing a tuple of landmarks\n",
    "\n",
    "import csv\n",
    "\n",
    "with open('landmarks.csv','wb') as out:\n",
    "    csv_out=csv.writer(out)\n",
    "    csv_out.writerow([landmark_x,landmark_y])\n",
    "    for row in data:\n",
    "        csv_out.writerow(row)\n",
    "\n",
    "    "
   ]
  },
  {
   "cell_type": "code",
   "execution_count": null,
   "metadata": {},
   "outputs": [],
   "source": [
    "#ret,thresh = cv2.threshold(img,127,255,0)\n",
    "#contours,hierarchy = cv2.findContours(thresh, 1, 2)\n",
    "#cnt = contours[0]\n",
    "\n",
    "#print(len(contours))\n",
    "#print(ret)\n",
    "#print(thresh)\n",
    "#print(contours[0])\n",
    "#print(hierarchy)\n",
    "#M = cv2.moments(cnt)\n",
    "#print( M)\n",
    "#cx = int(M['m10']/M['m00'])\n",
    "#cy = int(M['m01']/M['m00'])\n",
    "#print(\"cx:\",cx,\",cy:\",cy) # cx and cy is the local coordinate of the tile\n",
    "\n",
    "\n",
    "\n",
    "#(cx,cy),radius = cv2.minEnclosingCircle(cnt)\n",
    "#center = (int(cx),int(cy))\n",
    "#radius = int(radius/10)\n",
    "#cv2.circle(img,center,radius,(0,255, 0), -1)\n",
    "#print(cx,cy)\n",
    "\n",
    "#cv2.circle(img, (cx, cy), 1, (0, 0, 255), -1)\n"
   ]
  }
 ],
 "metadata": {
  "kernelspec": {
   "display_name": "Python 3",
   "language": "python",
   "name": "python3"
  },
  "language_info": {
   "codemirror_mode": {
    "name": "ipython",
    "version": 3
   },
   "file_extension": ".py",
   "mimetype": "text/x-python",
   "name": "python",
   "nbconvert_exporter": "python",
   "pygments_lexer": "ipython3",
   "version": "3.7.6"
  },
  "varInspector": {
   "cols": {
    "lenName": 16,
    "lenType": 16,
    "lenVar": 40
   },
   "kernels_config": {
    "python": {
     "delete_cmd_postfix": "",
     "delete_cmd_prefix": "del ",
     "library": "var_list.py",
     "varRefreshCmd": "print(var_dic_list())"
    },
    "r": {
     "delete_cmd_postfix": ") ",
     "delete_cmd_prefix": "rm(",
     "library": "var_list.r",
     "varRefreshCmd": "cat(var_dic_list()) "
    }
   },
   "types_to_exclude": [
    "module",
    "function",
    "builtin_function_or_method",
    "instance",
    "_Feature"
   ],
   "window_display": false
  }
 },
 "nbformat": 4,
 "nbformat_minor": 2
}
