{
 "cells": [
  {
   "cell_type": "code",
   "execution_count": 1,
   "metadata": {},
   "outputs": [],
   "source": [
    "import SimpleITK as sitk\n",
    "import glob\n",
    "import os\n",
    "from scipy.ndimage import distance_transform_cdt\n",
    "import numpy as np"
   ]
  },
  {
   "cell_type": "code",
   "execution_count": 15,
   "metadata": {},
   "outputs": [],
   "source": [
    "path = '/Users/keshavaprasad/Desktop/image/Classification_model/singleneurontiles/*'\n",
    "output_path = '/Users/keshavaprasad/Desktop/image/Classification_model/landmarks/'\n",
    "#for file in glob.glob(path):\n",
    "#    print(file)"
   ]
  },
  {
   "cell_type": "code",
   "execution_count": 29,
   "metadata": {
    "run_control": {
     "marked": false
    }
   },
   "outputs": [],
   "source": [
    "x_coordinates = [] #x-coordinate\n",
    "y_coordinates = [] #y-coordinate   \n",
    "z_coordinates = [] #y-coordinate \n",
    "coordinates = [] #x,y-coordinate put together\n",
    "for file in glob.glob(path):\n",
    "    #print(file)\n",
    "    im = sitk.ReadImage(file)\n",
    "    fil = sitk.OtsuThresholdImageFilter()\n",
    "    fil.SetInsideValue(0)\n",
    "    fil.SetOutsideValue(255)\n",
    "    binim = fil.Execute(im)\n",
    "    sitk.WriteImage(binim,output_path+os.path.basename(file))\n",
    "    npimage = sitk.GetArrayFromImage(binim)\n",
    "    #dists = distance_transform_cdt(npimage,return_distances=True)\n",
    "    indsx,indsy = np.where(npimage>0)\n",
    "    z=0\n",
    "    #centroid = [indsy.mean(),indsx.mean()]\n",
    "    x,y = [indsy.mean(),indsx.mean()]\n",
    "    coordinates.append([x,y,z])\n",
    "    #print(centroid)\n",
    "\n",
    "    \n",
    "#print(coordinates)"
   ]
  },
  {
   "cell_type": "code",
   "execution_count": 26,
   "metadata": {},
   "outputs": [],
   "source": [
    "def writeLandmarkCoords(filename, landmarkList):\n",
    "  with open(filename, 'w') as file:\n",
    "     file.write(\"# Avizo 3D ASCII 2.0 \\n\")\n",
    "     file.write(\"define Markers \")\n",
    "     file.write(\"{}\".format(len(landmarkList)))\n",
    "     file.write(\"\\n\")\n",
    "     file.write(\"Parameters {\\n\")\n",
    "     file.write(\"    NumSets 1,\\n\")\n",
    "     file.write(\"    ContentType \\\"LandmarkSet\\\"\\n\")\n",
    "     file.write(\"}\\n\")\n",
    "\n",
    "     file.write(\"Markers { float[3] Coordinates } @1\\n\")\n",
    "\n",
    "     file.write(\"# Data section follows\\n\")\n",
    "     file.write(\"@1\\n\")\n",
    "     for landmark in landmarkList:\n",
    "         file.write(\"{}\".format(landmark[0]))\n",
    "         file.write(\" \")\n",
    "         file.write(\"{}\".format(landmark[1]))\n",
    "         file.write(\" \")\n",
    "         file.write(\"{}\".format(landmark[2]))\n",
    "         file.write(\"\\n\")\n"
   ]
  },
  {
   "cell_type": "code",
   "execution_count": 27,
   "metadata": {},
   "outputs": [],
   "source": [
    "writeLandmarkCoords(output_path+\"first.landmarkAscii\", coordinates)"
   ]
  },
  {
   "cell_type": "code",
   "execution_count": null,
   "metadata": {},
   "outputs": [],
   "source": []
  }
 ],
 "metadata": {
  "kernelspec": {
   "display_name": "Python 3",
   "language": "python",
   "name": "python3"
  },
  "language_info": {
   "codemirror_mode": {
    "name": "ipython",
    "version": 3
   },
   "file_extension": ".py",
   "mimetype": "text/x-python",
   "name": "python",
   "nbconvert_exporter": "python",
   "pygments_lexer": "ipython3",
   "version": "3.7.6"
  },
  "varInspector": {
   "cols": {
    "lenName": 16,
    "lenType": 16,
    "lenVar": 40
   },
   "kernels_config": {
    "python": {
     "delete_cmd_postfix": "",
     "delete_cmd_prefix": "del ",
     "library": "var_list.py",
     "varRefreshCmd": "print(var_dic_list())"
    },
    "r": {
     "delete_cmd_postfix": ") ",
     "delete_cmd_prefix": "rm(",
     "library": "var_list.r",
     "varRefreshCmd": "cat(var_dic_list()) "
    }
   },
   "types_to_exclude": [
    "module",
    "function",
    "builtin_function_or_method",
    "instance",
    "_Feature"
   ],
   "window_display": false
  }
 },
 "nbformat": 4,
 "nbformat_minor": 4
}
