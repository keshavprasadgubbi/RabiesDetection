{
 "cells": [
  {
   "cell_type": "code",
   "execution_count": 3,
   "metadata": {},
   "outputs": [
    {
     "name": "stdout",
     "output_type": "stream",
     "text": [
      "//ibs9010/current_data/Data_Keshav/Cropped_Images/trial/Background\n",
      "0\n",
      "//ibs9010/current_data/Data_Keshav/Cropped_Images/trial/Neuron\n",
      "1\n"
     ]
    }
   ],
   "source": [
    "import numpy as np\n",
    "import matplotlib.pyplot as plt\n",
    "import cv2\n",
    "import os\n",
    "import random \n",
    "\n",
    "#DATADIR = \"//ibs9010/current_data/Data_Keshav/image/Classification_model/Data/Train/\"\n",
    "DATADIR = '//ibs9010/current_data/Data_Keshav/Cropped_Images/trial/'\n",
    "#DATADIR = '//ibs9010/current_data/Data_Keshav/Cropped_Images/trainingdata_bigtile/'\n",
    "#CATEGORIES = [\"Background\",\"Single\",\"Partial\"]\n",
    "#CATEGORIES = [\"Background\",\"GarbageForeground\",\"Single\",\"Partial\"]\n",
    "#CATEGORIES = [\"Background\",\"GarbageForeground\",\"Single\"]\n",
    "CATEGORIES = [\"Background\",\"Neuron\"]\n",
    "def create_training_data():\n",
    "    Training_Data = []\n",
    "    img_size = 70\n",
    "    X = []\n",
    "    y = []\n",
    "    for categories in CATEGORIES:\n",
    "        Path = os.path.join(DATADIR,categories) # gives the path to the images; Data/Train/Image or Background\n",
    "        print(Path)\n",
    "        #print(len(os.listdir(\"//ibs9010/current_data/Data_Keshav/image/Classification_model/Data/Train/Background/\")))\n",
    "        #print(len(os.listdir(\"//ibs9010/current_data/Data_Keshav/Cropped_Images/trial/\")))\n",
    "        #print(len(os.listdir(\"//ibs9010/current_data/Data_Keshav/image/Classification_model/Data/Train/Neuron/\")))\n",
    "        #print(len(os.listdir(\"//ibs9010/current_data/Data_Keshav/Cropped_Images/trial/\")))\n",
    "        class_num = CATEGORIES.index(categories) # numbers the classes\n",
    "        print(class_num)\n",
    "        try:\n",
    "            for img in os.listdir(Path): #gives the images from the path\n",
    "                img_array = cv2.imread(os.path.join(Path,img),cv2.IMREAD_GRAYSCALE) \n",
    "                Training_Data.append([img_array,class_num])\n",
    "                #plt.imshow(img_array,cmap='gray')\n",
    "                #plt.show()\n",
    "                #break\n",
    "        except Exception as e:\n",
    "            pass\n",
    "    random.shuffle(Training_Data) # do it before conversion to array as list is mutable\n",
    "    \n",
    "    for features,labels in Training_Data:\n",
    "        X.append(features)\n",
    "        y.append(labels)\n",
    "    #try:\n",
    "    X = np.array(X).reshape(-1,img_size,img_size,1) # converts it to arrays with shape (number of images,dim of image)\n",
    "    y = np.array(y)\n",
    "    X = X/255.0 # this is normalization of only the images\n",
    "    #except Exception as e:\n",
    "     #       pass\n",
    "    #print(y[5])\n",
    "    return X,y\n",
    "\n",
    "X,y = create_training_data()\n"
   ]
  },
  {
   "cell_type": "code",
   "execution_count": null,
   "metadata": {},
   "outputs": [],
   "source": []
  }
 ],
 "metadata": {
  "kernelspec": {
   "display_name": "Python 3",
   "language": "python",
   "name": "python3"
  },
  "language_info": {
   "codemirror_mode": {
    "name": "ipython",
    "version": 3
   },
   "file_extension": ".py",
   "mimetype": "text/x-python",
   "name": "python",
   "nbconvert_exporter": "python",
   "pygments_lexer": "ipython3",
   "version": "3.7.7"
  },
  "varInspector": {
   "cols": {
    "lenName": 16,
    "lenType": 16,
    "lenVar": 40
   },
   "kernels_config": {
    "python": {
     "delete_cmd_postfix": "",
     "delete_cmd_prefix": "del ",
     "library": "var_list.py",
     "varRefreshCmd": "print(var_dic_list())"
    },
    "r": {
     "delete_cmd_postfix": ") ",
     "delete_cmd_prefix": "rm(",
     "library": "var_list.r",
     "varRefreshCmd": "cat(var_dic_list()) "
    }
   },
   "types_to_exclude": [
    "module",
    "function",
    "builtin_function_or_method",
    "instance",
    "_Feature"
   ],
   "window_display": false
  }
 },
 "nbformat": 4,
 "nbformat_minor": 2
}
