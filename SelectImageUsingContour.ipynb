{
 "cells": [
  {
   "cell_type": "code",
   "execution_count": 14,
   "metadata": {
    "ExecuteTime": {
     "end_time": "2020-05-06T10:03:39.481243Z",
     "start_time": "2020-05-06T10:03:39.242107Z"
    }
   },
   "outputs": [],
   "source": [
    "import sys\n",
    "import os\n",
    "sys.path.insert(0,os.path.abspath('..'))\n",
    "from spatial_graphs.AmiraSpatialGraph import AmiraSpatialGraph,MatchBarrels\n",
    "from spatial_graphs.Landmarks import Landmarks\n",
    "from spatial_graphs.Surfaces import Surface\n",
    "from spatial_graphs.Vectors import Vectors\n",
    "from spatial_graphs.Alignment import Alignment\n",
    "from dask import compute,multiprocessing,delayed\n",
    "import pathlib\n",
    "import shutil\n",
    "import glob\n",
    "import pandas as pd\n",
    "import vtk\n",
    "from scipy.spatial import distance\n",
    "import numpy as np\n",
    "from sklearn.decomposition import PCA\n",
    "import SimpleITK as sitk"
   ]
  },
  {
   "cell_type": "code",
   "execution_count": null,
   "metadata": {
    "collapsed": true
   },
   "outputs": [],
   "source": []
  },
  {
   "cell_type": "code",
   "execution_count": 6,
   "metadata": {
    "ExecuteTime": {
     "end_time": "2020-05-06T10:03:15.733107Z",
     "start_time": "2020-05-06T10:03:15.722089Z"
    },
    "collapsed": true
   },
   "outputs": [],
   "source": [
    "def erode_image(im,radius):\n",
    "    erode = sitk.BinaryErodeImageFilter()\n",
    "    erode.SetKernelRadius(radius)\n",
    "    erode.SetKernelType(sitk.sitkAnnulus)\n",
    "    erode.SetBackgroundValue(0)\n",
    "    erode.SetForegroundValue(255)\n",
    "    eroded = erode.Execute(im)\n",
    "    \n",
    "    return eroded"
   ]
  },
  {
   "cell_type": "code",
   "execution_count": 7,
   "metadata": {
    "ExecuteTime": {
     "end_time": "2020-05-06T10:03:16.040706Z",
     "start_time": "2020-05-06T10:03:16.029329Z"
    },
    "collapsed": true
   },
   "outputs": [],
   "source": [
    "def convertPointsToImage2D(pts,templateimg):\n",
    "    arrim = sitk.Image(templateimg.GetWidth(),templateimg.GetHeight(),templateimg.GetPixelID())\n",
    "    arr = sitk.GetArrayFromImage(arrim)\n",
    "    if len(pts)>0:\n",
    "        apts = np.transpose([list(map(int,np.array(pts)[:,0])),list(map(int,np.array(pts)[:,1]))])\n",
    "        arr[apts[:,1],apts[:,0]] = 255\n",
    "    im = sitk.GetImageFromArray(arr)\n",
    "    im.SetOrigin([templateimg.GetWidth(),templateimg.GetHeight(),0])\n",
    "    return im"
   ]
  },
  {
   "cell_type": "code",
   "execution_count": 8,
   "metadata": {
    "ExecuteTime": {
     "end_time": "2020-05-06T10:03:16.644435Z",
     "start_time": "2020-05-06T10:03:16.638318Z"
    },
    "collapsed": true
   },
   "outputs": [],
   "source": [
    "def scaleToImageCoords2D(points,XY_RESOLUTION=1,Z_RESOLUTION=1):\n",
    "    _points = np.reshape(np.array(points,dtype=np.int64),[len(points),2])\n",
    "    _points[:,0] = list(map(round,(_points[:,0] / XY_RESOLUTION)))\n",
    "    _points[:,1] = list(map(round,(_points[:,1] / XY_RESOLUTION)))\n",
    "    #_points[:,2] = list(map(round,(_points[:,2] / Z_RESOLUTION)))\n",
    "   \n",
    "    return _points"
   ]
  },
  {
   "cell_type": "code",
   "execution_count": 18,
   "metadata": {
    "ExecuteTime": {
     "end_time": "2020-05-06T10:05:27.957164Z",
     "start_time": "2020-05-06T10:05:27.942542Z"
    },
    "collapsed": true
   },
   "outputs": [],
   "source": [
    "def getMidLine(ptlist,limit):\n",
    "    newptlist = []\n",
    "    #print(ptlist)\n",
    "    if len(ptlist) < (limit/2):\n",
    "        for i in range(len(ptlist)-1):\n",
    "            newptlist.append(ptlist[i])\n",
    "            newptlist.append([(ptlist[i][0]+ptlist[i+1][0])/2,(ptlist[i][1]+ptlist[i+1][1])/2])\n",
    "        newptlist.append(ptlist[i+1])\n",
    "        ptlist = newptlist\n",
    "        #print(ptlist)\n",
    "        return getMidLine(ptlist,limit)\n",
    "        #return newptlist\n",
    "    else:\n",
    "        return (ptlist)"
   ]
  },
  {
   "cell_type": "code",
   "execution_count": 19,
   "metadata": {
    "ExecuteTime": {
     "end_time": "2020-05-06T10:05:28.120598Z",
     "start_time": "2020-05-06T10:05:28.092869Z"
    },
    "collapsed": true
   },
   "outputs": [],
   "source": [
    "def resample_contours(contours,res,downscale=1):\n",
    "    resampled_conts_list = []\n",
    "    for cnt in contours:\n",
    "        resampled_cont_list = []\n",
    "        for i in range(len(cnt)):\n",
    "            if i == len(cnt)-1:\n",
    "                pt1 = np.reshape(np.array(cnt)[i,:],[1,3])\n",
    "                pt2 = np.reshape(np.array(cnt)[0,:],[1,3])\n",
    "            else:\n",
    "                pt1 = np.reshape(np.array(cnt)[i,:],[1,3])\n",
    "                pt2 = np.reshape(np.array(cnt)[i+1,:],[1,3])\n",
    "            \n",
    "            dist = (distance.cdist(pt1,pt2))\n",
    "            num_pts_inserted = int(dist / res)\n",
    "            #print('num_pts_inserted: {}'.format(num_pts_inserted))\n",
    "            m = (pt2[:,1]-pt2[:,0]) / (pt1[:,1]-pt1[:,0])\n",
    "\n",
    "            #print('needed_{}'.format(num_pts_inserted))\n",
    "            ptlist = []\n",
    "            ptlist.append(cnt[i])\n",
    "            if i == len(cnt)-1:\n",
    "                ptlist.append(cnt[0])\n",
    "            else:\n",
    "                ptlist.append(cnt[i+1])\n",
    "            ptlist = getMidLine(ptlist,num_pts_inserted)\n",
    "            #print('added{}'.format(len(ptlist)))\n",
    "            for pt in ptlist:\n",
    "                resampled_cont_list.append([pt[0]/downscale,pt[1]/downscale,])\n",
    "        resampled_conts_list.append(resampled_cont_list)\n",
    "    return resampled_conts_list"
   ]
  },
  {
   "cell_type": "code",
   "execution_count": 23,
   "metadata": {
    "ExecuteTime": {
     "end_time": "2020-05-06T10:05:54.004838Z",
     "start_time": "2020-05-06T10:05:53.995043Z"
    },
    "collapsed": true
   },
   "outputs": [],
   "source": [
    "def dilate_image(im,radius):\n",
    "    dilate = sitk.BinaryDilateImageFilter()\n",
    "    dilate.SetKernelRadius(radius)\n",
    "    dilate.SetKernelType(sitk.sitkAnnulus)\n",
    "    dilate.SetBackgroundValue(0)\n",
    "    dilate.SetForegroundValue(255)\n",
    "    dilated = dilate.Execute(im)\n",
    "    \n",
    "    return dilated"
   ]
  },
  {
   "cell_type": "code",
   "execution_count": 24,
   "metadata": {
    "ExecuteTime": {
     "end_time": "2020-05-06T10:05:54.173232Z",
     "start_time": "2020-05-06T10:05:54.162358Z"
    },
    "collapsed": true
   },
   "outputs": [],
   "source": [
    "def convertContourCoordsIntoBinaryImage(cont,im,resample_res = 0):\n",
    "    if resample_res != 0:\n",
    "        [resampled_pia] = resample_contours([cont],resample_res)\n",
    "    pia_imcords = scaleToImageCoords2D(resampled_pia,XY_RESOLUTION=XY_RES)\n",
    "    pia_cont_im = convertPointsToImage2D(pia_imcords,im)\n",
    "    pia_cont_im.SetOrigin(im.GetOrigin())\n",
    "    pia_hole_filled = erode_image(sitk.BinaryFillhole(dilate_image(pia_cont_im,1),foregroundValue=255,fullyConnected=False),1)\n",
    "    \n",
    "    return pia_hole_filled"
   ]
  },
  {
   "cell_type": "code",
   "execution_count": 33,
   "metadata": {
    "ExecuteTime": {
     "end_time": "2020-05-06T10:11:06.901108Z",
     "start_time": "2020-05-06T10:11:06.886405Z"
    },
    "collapsed": true
   },
   "outputs": [],
   "source": [
    "XY_RES = 0.868\n",
    "Z_RES = 50\n",
    "\n",
    "#exp_name = 'MG50_rhs/'\n",
    "exp_name = 'MG48_3Day_bs'\n",
    "#input_image_path =  '/nas1/Data_Mythreya/MotorCortexProject/V0/0_Inputs/Images/Rabies/NeuN/' + exp_name\n",
    "#input_contours_path = '/nas1/Data_Mythreya/MotorCortexProject/V0/0_Inputs/Contours/Rabies/' + exp_name\n",
    "#output_path = '/nas1/Data_Mythreya/MotorCortexProject/V0/0_Inputs/Landmarks/Rabies/NeuN/' + exp_name\n",
    "\n",
    "input_image_path =  '/nas1/Data_aman/00_Rabies/{}/00_Images/00_Confocal/ch_00_stacks/'.format(exp_name)\n",
    "input_contours_path = '/nas1/Share/Project_Rabies/MG48_bs_contour_labeled/'\n",
    "output_path = '/nas1/Data_aman/00_Rabies/{}/00_Images/00_Confocal/masked_for_rabies_auto_detection/'.format(exp_name)\n",
    "\n",
    "# output_path = '/rall/rabies_neun_counts/' + exp_name\n",
    "pathlib.Path(output_path).mkdir(exist_ok= True)\n",
    "#sec_num_start = 1\n",
    "#sec_num_end = 1\n",
    "sec_num = 21"
   ]
  },
  {
   "cell_type": "code",
   "execution_count": 38,
   "metadata": {
    "ExecuteTime": {
     "end_time": "2020-05-06T10:39:51.416628Z",
     "start_time": "2020-05-06T10:36:33.574937Z"
    }
   },
   "outputs": [],
   "source": [
    "for sec_num in [1,11,21,31,41,51,61,71,82,91]:\n",
    "    im = sitk.ReadImage(input_image_path+'S{:03d}_00.tif'.format(sec_num))\n",
    "\n",
    "    spatial_graph_file = input_contours_path + 'S{:03d}.am'.format(sec_num)\n",
    "    sg = AmiraSpatialGraph(spatial_graph_file)\n",
    "    pia_bin = convertContourCoordsIntoBinaryImage(sg.pia.edge_pt_coords,im,resample_res=0.1)\n",
    "    pia_only = sitk.Mask(im,pia_bin)\n",
    "    sitk.WriteImage(pia_only,output_path+'S{}_Pia_Only.tif'.format(sec_num))"
   ]
  },
  {
   "cell_type": "code",
   "execution_count": 35,
   "metadata": {
    "ExecuteTime": {
     "end_time": "2020-05-06T10:11:14.877324Z",
     "start_time": "2020-05-06T10:11:07.819634Z"
    }
   },
   "outputs": [],
   "source": [
    "\n"
   ]
  },
  {
   "cell_type": "code",
   "execution_count": 36,
   "metadata": {
    "ExecuteTime": {
     "end_time": "2020-05-06T10:11:15.265327Z",
     "start_time": "2020-05-06T10:11:14.879949Z"
    }
   },
   "outputs": [],
   "source": []
  },
  {
   "cell_type": "code",
   "execution_count": null,
   "metadata": {
    "collapsed": true
   },
   "outputs": [],
   "source": []
  }
 ],
 "metadata": {
  "kernelspec": {
   "display_name": "Python 3",
   "language": "python",
   "name": "python3"
  },
  "language_info": {
   "codemirror_mode": {
    "name": "ipython",
    "version": 3
   },
   "file_extension": ".py",
   "mimetype": "text/x-python",
   "name": "python",
   "nbconvert_exporter": "python",
   "pygments_lexer": "ipython3",
   "version": "3.7.6"
  },
  "toc": {
   "base_numbering": 1,
   "nav_menu": {},
   "number_sections": true,
   "sideBar": true,
   "skip_h1_title": false,
   "title_cell": "Table of Contents",
   "title_sidebar": "Contents",
   "toc_cell": false,
   "toc_position": {},
   "toc_section_display": true,
   "toc_window_display": false
  },
  "varInspector": {
   "cols": {
    "lenName": 16,
    "lenType": 16,
    "lenVar": 40
   },
   "kernels_config": {
    "python": {
     "delete_cmd_postfix": "",
     "delete_cmd_prefix": "del ",
     "library": "var_list.py",
     "varRefreshCmd": "print(var_dic_list())"
    },
    "r": {
     "delete_cmd_postfix": ") ",
     "delete_cmd_prefix": "rm(",
     "library": "var_list.r",
     "varRefreshCmd": "cat(var_dic_list()) "
    }
   },
   "types_to_exclude": [
    "module",
    "function",
    "builtin_function_or_method",
    "instance",
    "_Feature"
   ],
   "window_display": false
  }
 },
 "nbformat": 4,
 "nbformat_minor": 2
}
