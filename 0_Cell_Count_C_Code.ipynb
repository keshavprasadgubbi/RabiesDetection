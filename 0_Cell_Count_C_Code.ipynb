{
 "cells": [
  {
   "cell_type": "code",
   "execution_count": 1,
   "metadata": {
    "ExecuteTime": {
     "end_time": "2019-06-21T13:27:54.482306Z",
     "start_time": "2019-06-21T13:27:30.267614Z"
    },
    "collapsed": true
   },
   "outputs": [],
   "source": [
    "import os\n",
    "import glob\n",
    "import numpy as np\n",
    "import pathlib\n",
    "import SimpleITK as sitk\n",
    "import scipy.spatial.distance as distance\n",
    "from dask import delayed,diagnostics,multiprocessing,compute\n",
    "%run functions.ipynb"
   ]
  },
  {
   "cell_type": "code",
   "execution_count": 16,
   "metadata": {
    "ExecuteTime": {
     "end_time": "2019-06-22T14:29:07.361430Z",
     "start_time": "2019-06-22T14:29:07.351129Z"
    },
    "collapsed": true
   },
   "outputs": [],
   "source": [
    "XY_RES = 0.868\n",
    "Z_RES = 50\n",
    "\n",
    "exp_name = 'MG50_rhs/'\n",
    "input_image_path =  '/nas1/Data_Mythreya/MotorCortexProject/V0/0_Inputs/Images/Rabies/NeuN/' + exp_name\n",
    "input_contours_path = '/nas1/Data_Mythreya/MotorCortexProject/V0/0_Inputs/Contours/Rabies/' + exp_name\n",
    "#output_path = '/nas1/Data_Mythreya/MotorCortexProject/V0/0_Inputs/Landmarks/Rabies/NeuN/' + exp_name\n",
    "\n",
    "output_path = '/rall/rabies_neun_counts/' + exp_name\n",
    "pathlib.Path(output_path).mkdir(exist_ok= True)\n",
    "sec_num_start = 36\n",
    "sec_num_end = 40\n",
    "#sec_num = 45\n"
   ]
  },
  {
   "cell_type": "code",
   "execution_count": 17,
   "metadata": {
    "ExecuteTime": {
     "end_time": "2019-06-22T14:29:41.625906Z",
     "start_time": "2019-06-22T14:29:41.592633Z"
    },
    "collapsed": true,
    "scrolled": false
   },
   "outputs": [],
   "source": [
    "@delayed\n",
    "def count_cells(i):\n",
    "    if os.path.exists(output_path+'S_{}/landmarks.landmarkAscii'.format(i)):\n",
    "        landmarks = getLandmarkCoords(output_path+'S_{}/landmarks.landmarkAscii'.format(i))\n",
    "        if len(landmarks) > 0:\n",
    "            # count already exists... so skip this section\n",
    "            return\n",
    "    print(i)\n",
    "    \n",
    "    try:\n",
    "        pathlib.Path(output_path+'S_{}/'.format(i)).mkdir(exist_ok= True)\n",
    "        # mask the image so that only cortex is used for counting\n",
    "        im = sitk.ReadImage(input_image_path+'S{}_01.tif'.format(i))\n",
    "        spatial_graph_file = input_contours_path + 'S{:03d}_ct.am'.format(i)\n",
    "        pia,wm = getSectionPiaWMPoints(spatial_graph_file)\n",
    "        pia_bin = convertContourCoordsIntoBinaryImage(pia,im,resample_res=0.1)\n",
    "        wm_bin = convertContourCoordsIntoBinaryImage(wm,im,resample_res=0.1)\n",
    "\n",
    "        pia_only = sitk.Mask(im,pia_bin)\n",
    "        cortex_im = sitk.Mask(pia_only,sitk.Not(wm_bin))\n",
    "        sitk.WriteImage(cortex_im,output_path+'S_{}/S_{}.tif'.format(i,i))\n",
    "        with open(output_path+'S_{}'.format(i)+'/arguments_{}.txt'.format(i),'w') as f:\n",
    "            f.write('<command> CMD_COUNT \\n')\n",
    "            f.write('<ifilename> {}S_{}/S_{}.tif\\n'.format(output_path,i,i))\n",
    "            f.write('<ofilename>    {}\\n'.format(output_path+'S_{}/'.format(i)))\n",
    "            f.write('<cfilename>    {}/CellClusterList.csv\\n'.format(output_path+'section_{}/'.format(i)))\n",
    "            f.write('<scantype> 1\\n')\n",
    "            f.write('<xysampling> 0.868\\n')\n",
    "            f.write('<zsampling> 1\\n')\n",
    "            f.write('<bricksize>  300 m\\n')\n",
    "            f.write('<somaradius> 4\\n')\n",
    "            f.close()\n",
    "        os.system('/home/mythreya//projects/CellCount/source_code/bugfix/Version20120306_ColocV2/Version20120306_ColocV2_Copy/build/CellCount \\\n",
    "        {} > {}'.format(output_path+'S_{}'.format(i)+'/arguments_{}.txt'.format(i),output_path+'S_{}'.format(i)+'/screen_outputs{}.txt'.format(i)))\n",
    "    \n",
    "    except RuntimeError:\n",
    "        print('Image file not found')"
   ]
  },
  {
   "cell_type": "code",
   "execution_count": 18,
   "metadata": {
    "ExecuteTime": {
     "end_time": "2019-06-22T18:02:30.178006Z",
     "start_time": "2019-06-22T14:29:41.743594Z"
    },
    "scrolled": true
   },
   "outputs": [
    {
     "name": "stdout",
     "output_type": "stream",
     "text": [
      "36\n",
      "383739\n",
      "40\n",
      "\n",
      "\n"
     ]
    }
   ],
   "source": [
    "fun_list = []\n",
    "for i in range(sec_num_start,sec_num_end+1):\n",
    "    fun_list.append(count_cells(i))\n",
    "    if (len(fun_list)%5)==0:\n",
    "        compute(fun_list)\n",
    "        fun_list = []\n"
   ]
  },
  {
   "cell_type": "code",
   "execution_count": null,
   "metadata": {
    "collapsed": true
   },
   "outputs": [],
   "source": []
  }
 ],
 "metadata": {
  "kernelspec": {
   "display_name": "Python 3",
   "language": "python",
   "name": "python3"
  },
  "language_info": {
   "codemirror_mode": {
    "name": "ipython",
    "version": 3
   },
   "file_extension": ".py",
   "mimetype": "text/x-python",
   "name": "python",
   "nbconvert_exporter": "python",
   "pygments_lexer": "ipython3",
   "version": "3.7.6"
  },
  "toc": {
   "base_numbering": 1,
   "nav_menu": {},
   "number_sections": true,
   "sideBar": true,
   "skip_h1_title": false,
   "title_cell": "Table of Contents",
   "title_sidebar": "Contents",
   "toc_cell": false,
   "toc_position": {},
   "toc_section_display": true,
   "toc_window_display": false
  },
  "varInspector": {
   "cols": {
    "lenName": 16,
    "lenType": 16,
    "lenVar": 40
   },
   "kernels_config": {
    "python": {
     "delete_cmd_postfix": "",
     "delete_cmd_prefix": "del ",
     "library": "var_list.py",
     "varRefreshCmd": "print(var_dic_list())"
    },
    "r": {
     "delete_cmd_postfix": ") ",
     "delete_cmd_prefix": "rm(",
     "library": "var_list.r",
     "varRefreshCmd": "cat(var_dic_list()) "
    }
   },
   "types_to_exclude": [
    "module",
    "function",
    "builtin_function_or_method",
    "instance",
    "_Feature"
   ],
   "window_display": false
  }
 },
 "nbformat": 4,
 "nbformat_minor": 2
}
