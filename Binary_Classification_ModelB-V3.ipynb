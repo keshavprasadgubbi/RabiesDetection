{
 "cells": [
  {
   "cell_type": "code",
   "execution_count": 1,
   "metadata": {},
   "outputs": [],
   "source": [
    "import tensorflow as tf\n",
    "from tensorflow.python.keras.models import Sequential\n",
    "from tensorflow.python.keras.layers import Dense, Dropout, Activation, Flatten, Conv2D, MaxPooling2D\n",
    "from keras.optimizers import Adam\n",
    "\n",
    "from keras.utils import to_categorical\n",
    "#from keras.layers import LeakyReLU\n",
    "import numpy as np\n",
    "import matplotlib.pyplot as plt\n",
    "import cv2\n",
    "import os\n",
    "import random "
   ]
  },
  {
   "cell_type": "code",
   "execution_count": 2,
   "metadata": {},
   "outputs": [
    {
     "name": "stdout",
     "output_type": "stream",
     "text": [
      "Background\n",
      "//ibs9010/current_data/Data_Keshav/Cropped_Images/trial23/Background 0\n",
      "13485\n",
      "1509\n",
      "cant include the file\n",
      "Neuron\n",
      "//ibs9010/current_data/Data_Keshav/Cropped_Images/trial23/Neuron 1\n",
      "16851\n",
      "1509\n",
      "Length of training data: 10582\n"
     ]
    }
   ],
   "source": [
    "#DATADIR = '//ibs9010/current_data/Data_Keshav/Cropped_Images/MG23plus48/'\n",
    "#DATADIR = '//ibs9010/current_data/Data_Keshav/Cropped_Images/test/S5152/'\n",
    "DATADIR = '//ibs9010/current_data/Data_Keshav/Cropped_Images/trial23/'\n",
    "#DATADIR = '//ibs9010/current_data/Data_Keshav/Cropped_Images/trial5/'\n",
    "CATEGORIES = [\"Background\",\"Neuron\"]\n",
    "def create_training_data():\n",
    "    Training_Data = []\n",
    "    img_size = 90\n",
    "    X = []\n",
    "    y = []\n",
    "    for categories in CATEGORIES:\n",
    "        print(categories)\n",
    "        Path = os.path.join(DATADIR,categories) # gives the path to the images; Data/Train/Image or Background\n",
    "        class_num = CATEGORIES.index(categories) # numbers the classes\n",
    "        print(Path,class_num)\n",
    "        print(len(os.listdir(DATADIR+\"/Background/\")))\n",
    "        print(len(os.listdir(DATADIR+\"/Neuron/\")))\n",
    "        try:\n",
    "            for img in os.listdir(Path): #gives the images from the path\n",
    "                #print(len(os.listdir(Path)))\n",
    "                img_array = cv2.imread(os.path.join(Path,img),cv2.IMREAD_GRAYSCALE) \n",
    "                if img_array.any():\n",
    "                    s1,s2  = img_array.shape\n",
    "                    if s1 != img_size or s2 != img_size:\n",
    "                        print(s1,s2)\n",
    "                    #print(img_array)    \n",
    "                    Training_Data.append([img_array,class_num])\n",
    "            #print(Training_Data)\n",
    "            \n",
    "        except Exception as e:\n",
    "            print('cant include the file')\n",
    "            #pass\n",
    "    random.shuffle(Training_Data) # do it before conversion to array as list is mutable\n",
    "    #print(\"Length of training data 1:\",len(Training_Data))\n",
    "    for features,labels in Training_Data:\n",
    "        X.append(features)\n",
    "        y.append(labels)\n",
    "    #print(len(X))\n",
    "    #print(len(y))\n",
    "    #try:\n",
    "    #print(\"Length of training data:\",len(Training_Data))\n",
    "    X = np.array(X).reshape(-1,img_size,img_size,1) # converts it to arrays with shape (number of images,dim of image)\n",
    "    y = np.array(y)\n",
    "    X = X/255.0 # this is normalization of only the images\n",
    "    #except Exception as e:\n",
    "     #       pass\n",
    "    #print(y[5])\n",
    "    \n",
    "    print(\"Length of training data:\",len(Training_Data))\n",
    "    return X,y\n",
    "\n",
    "X,y = create_training_data()"
   ]
  },
  {
   "cell_type": "code",
   "execution_count": null,
   "metadata": {},
   "outputs": [],
   "source": []
  },
  {
   "cell_type": "code",
   "execution_count": null,
   "metadata": {},
   "outputs": [],
   "source": []
  },
  {
   "cell_type": "code",
   "execution_count": 3,
   "metadata": {
    "scrolled": true
   },
   "outputs": [
    {
     "name": "stdout",
     "output_type": "stream",
     "text": [
      "Model: \"sequential\"\n",
      "_________________________________________________________________\n",
      "Layer (type)                 Output Shape              Param #   \n",
      "=================================================================\n",
      "conv2d (Conv2D)              (None, 90, 90, 256)       2560      \n",
      "_________________________________________________________________\n",
      "activation (Activation)      (None, 90, 90, 256)       0         \n",
      "_________________________________________________________________\n",
      "max_pooling2d (MaxPooling2D) (None, 45, 45, 256)       0         \n",
      "_________________________________________________________________\n",
      "dropout (Dropout)            (None, 45, 45, 256)       0         \n",
      "_________________________________________________________________\n",
      "conv2d_1 (Conv2D)            (None, 45, 45, 128)       295040    \n",
      "_________________________________________________________________\n",
      "activation_1 (Activation)    (None, 45, 45, 128)       0         \n",
      "_________________________________________________________________\n",
      "max_pooling2d_1 (MaxPooling2 (None, 22, 22, 128)       0         \n",
      "_________________________________________________________________\n",
      "dropout_1 (Dropout)          (None, 22, 22, 128)       0         \n",
      "_________________________________________________________________\n",
      "conv2d_2 (Conv2D)            (None, 22, 22, 128)       147584    \n",
      "_________________________________________________________________\n",
      "activation_2 (Activation)    (None, 22, 22, 128)       0         \n",
      "_________________________________________________________________\n",
      "max_pooling2d_2 (MaxPooling2 (None, 11, 11, 128)       0         \n",
      "_________________________________________________________________\n",
      "dropout_2 (Dropout)          (None, 11, 11, 128)       0         \n",
      "_________________________________________________________________\n",
      "conv2d_3 (Conv2D)            (None, 11, 11, 128)       147584    \n",
      "_________________________________________________________________\n",
      "activation_3 (Activation)    (None, 11, 11, 128)       0         \n",
      "_________________________________________________________________\n",
      "max_pooling2d_3 (MaxPooling2 (None, 5, 5, 128)         0         \n",
      "_________________________________________________________________\n",
      "dropout_3 (Dropout)          (None, 5, 5, 128)         0         \n",
      "_________________________________________________________________\n",
      "conv2d_4 (Conv2D)            (None, 5, 5, 64)          73792     \n",
      "_________________________________________________________________\n",
      "activation_4 (Activation)    (None, 5, 5, 64)          0         \n",
      "_________________________________________________________________\n",
      "max_pooling2d_4 (MaxPooling2 (None, 2, 2, 64)          0         \n",
      "_________________________________________________________________\n",
      "dropout_4 (Dropout)          (None, 2, 2, 64)          0         \n",
      "_________________________________________________________________\n",
      "conv2d_5 (Conv2D)            (None, 2, 2, 64)          36928     \n",
      "_________________________________________________________________\n",
      "activation_5 (Activation)    (None, 2, 2, 64)          0         \n",
      "_________________________________________________________________\n",
      "max_pooling2d_5 (MaxPooling2 (None, 1, 1, 64)          0         \n",
      "_________________________________________________________________\n",
      "dropout_5 (Dropout)          (None, 1, 1, 64)          0         \n",
      "_________________________________________________________________\n",
      "flatten (Flatten)            (None, 64)                0         \n",
      "_________________________________________________________________\n",
      "dense (Dense)                (None, 64)                4160      \n",
      "_________________________________________________________________\n",
      "activation_6 (Activation)    (None, 64)                0         \n",
      "_________________________________________________________________\n",
      "dense_1 (Dense)              (None, 64)                4160      \n",
      "_________________________________________________________________\n",
      "activation_7 (Activation)    (None, 64)                0         \n",
      "_________________________________________________________________\n",
      "dense_2 (Dense)              (None, 2)                 130       \n",
      "_________________________________________________________________\n",
      "activation_8 (Activation)    (None, 2)                 0         \n",
      "=================================================================\n",
      "Total params: 711,938\n",
      "Trainable params: 711,938\n",
      "Non-trainable params: 0\n",
      "_________________________________________________________________\n",
      "Epoch 1/20\n",
      "298/298 [==============================] - 459s 2s/step - loss: 0.4004 - accuracy: 0.8646 - val_loss: 0.2654 - val_accuracy: 0.9150\n",
      "Epoch 2/20\n",
      "298/298 [==============================] - 455s 2s/step - loss: 0.1330 - accuracy: 0.9552 - val_loss: 0.1311 - val_accuracy: 0.9622\n",
      "Epoch 3/20\n",
      "298/298 [==============================] - 456s 2s/step - loss: 0.0849 - accuracy: 0.9692 - val_loss: 0.0624 - val_accuracy: 0.9764\n",
      "Epoch 4/20\n",
      "298/298 [==============================] - 453s 2s/step - loss: 0.0805 - accuracy: 0.9735 - val_loss: 0.0526 - val_accuracy: 0.9877\n",
      "Epoch 5/20\n",
      "298/298 [==============================] - 460s 2s/step - loss: 0.0623 - accuracy: 0.9788 - val_loss: 0.0612 - val_accuracy: 0.9811\n",
      "Epoch 6/20\n",
      "298/298 [==============================] - 455s 2s/step - loss: 0.0562 - accuracy: 0.9806 - val_loss: 0.0551 - val_accuracy: 0.9821\n",
      "Epoch 7/20\n",
      "298/298 [==============================] - 457s 2s/step - loss: 0.0543 - accuracy: 0.9806 - val_loss: 0.0478 - val_accuracy: 0.9821\n",
      "Epoch 8/20\n",
      "298/298 [==============================] - 455s 2s/step - loss: 0.0495 - accuracy: 0.9831 - val_loss: 0.0489 - val_accuracy: 0.9868\n",
      "Epoch 9/20\n",
      "298/298 [==============================] - 454s 2s/step - loss: 0.0420 - accuracy: 0.9855 - val_loss: 0.0553 - val_accuracy: 0.9830\n",
      "Epoch 10/20\n",
      "298/298 [==============================] - 455s 2s/step - loss: 0.0465 - accuracy: 0.9850 - val_loss: 0.0804 - val_accuracy: 0.9783\n",
      "Epoch 11/20\n",
      "298/298 [==============================] - 453s 2s/step - loss: 0.0427 - accuracy: 0.9851 - val_loss: 0.0522 - val_accuracy: 0.9839\n",
      "Epoch 12/20\n",
      "298/298 [==============================] - 455s 2s/step - loss: 0.0377 - accuracy: 0.9863 - val_loss: 0.0586 - val_accuracy: 0.9830\n",
      "Epoch 13/20\n",
      "298/298 [==============================] - 458s 2s/step - loss: 0.0392 - accuracy: 0.9875 - val_loss: 0.0775 - val_accuracy: 0.9736\n",
      "Epoch 14/20\n",
      "298/298 [==============================] - 462s 2s/step - loss: 0.0341 - accuracy: 0.9888 - val_loss: 0.0344 - val_accuracy: 0.9830\n",
      "Epoch 15/20\n",
      "298/298 [==============================] - 455s 2s/step - loss: 0.0335 - accuracy: 0.9871 - val_loss: 0.0393 - val_accuracy: 0.9839\n",
      "Epoch 16/20\n",
      "298/298 [==============================] - 453s 2s/step - loss: 0.0326 - accuracy: 0.9883 - val_loss: 0.0431 - val_accuracy: 0.9849\n",
      "Epoch 17/20\n",
      "298/298 [==============================] - 454s 2s/step - loss: 0.0377 - accuracy: 0.9878 - val_loss: 0.0527 - val_accuracy: 0.9811\n",
      "Epoch 18/20\n",
      "298/298 [==============================] - 455s 2s/step - loss: 0.0283 - accuracy: 0.9904 - val_loss: 0.0512 - val_accuracy: 0.9821\n",
      "Epoch 19/20\n",
      "298/298 [==============================] - 453s 2s/step - loss: 0.0299 - accuracy: 0.9909 - val_loss: 0.0357 - val_accuracy: 0.9839\n",
      "Epoch 20/20\n",
      "298/298 [==============================] - 455s 2s/step - loss: 0.0396 - accuracy: 0.9878 - val_loss: 0.0537 - val_accuracy: 0.9802\n"
     ]
    }
   ],
   "source": [
    "#def binary_classification_model():\n",
    "model = Sequential()\n",
    "\n",
    "model.add(Conv2D(256,(3,3),padding = 'same',input_shape=(X.shape[1:]),kernel_initializer = 'he_normal'))\n",
    "model.add(Activation(\"relu\"))\n",
    "model.add(MaxPooling2D(pool_size=(2,2)))\n",
    "model.add(Dropout(0.3))\n",
    "\n",
    "model.add(Conv2D(128,(3,3),padding = 'same',input_shape=(X.shape[1:]),kernel_initializer = 'he_normal'))\n",
    "model.add(Activation(\"relu\"))\n",
    "model.add(MaxPooling2D(pool_size=(2,2)))\n",
    "model.add(Dropout(0.3))\n",
    "\n",
    "model.add(Conv2D(128,(3,3),padding = 'same',input_shape=(X.shape[1:]),kernel_initializer = 'he_normal'))\n",
    "model.add(Activation(\"relu\"))\n",
    "model.add(MaxPooling2D(pool_size=(2,2)))\n",
    "model.add(Dropout(0.3))\n",
    "\n",
    "model.add(Conv2D(128,(3,3),padding = 'same',input_shape=(X.shape[1:]),kernel_initializer = 'he_normal'))\n",
    "model.add(Activation(\"relu\"))\n",
    "model.add(MaxPooling2D(pool_size=(2,2)))\n",
    "model.add(Dropout(0.3))\n",
    "\n",
    "model.add(Conv2D(64,(3,3),padding = 'same',input_shape=(X.shape[1:]),kernel_initializer = 'he_normal'))\n",
    "model.add(Activation(\"relu\"))\n",
    "model.add(MaxPooling2D(pool_size=(2,2)))\n",
    "model.add(Dropout(0.3))\n",
    "\n",
    "model.add(Conv2D(64,(3,3),padding = 'same',kernel_initializer = 'he_normal'))\n",
    "model.add(Activation(\"relu\"))\n",
    "model.add(MaxPooling2D(pool_size=(2,2)))\n",
    "model.add(Dropout(0.2))\n",
    "\n",
    "model.add(Flatten())\n",
    "\n",
    "model.add(Dense(64))\n",
    "model.add(Activation(\"relu\")) # added a hidden layer\n",
    "\n",
    "model.add(Dense(64))\n",
    "model.add(Activation(\"relu\")) # added a new hidden layer\n",
    "\n",
    "# model.add(Dense(64))\n",
    "# model.add(Activation(\"relu\")) # added a new hidden layer\n",
    "\n",
    "# model.add(Dense(64))\n",
    "# model.add(Activation(\"relu\")) # added a new hidden layer\n",
    "\n",
    "model.add(Dense(2))\n",
    "#model.add(Dense(4))\n",
    "#model.add(Activation('softmax')) # chaging from sigmoid to softmax to include more classes\n",
    "model.add(Activation('sigmoid'))\n",
    "########################\n",
    "#class_weight = {0: 1., 1: 15.}\n",
    "#class_weight = {0: 5, 1: 10., 2: 1., 3:5.}\n",
    "########################\n",
    "\n",
    "#filepath=\"weights.best.hdf5\"\n",
    "ada = Adam(learning_rate=0.001, beta_1=0.9, beta_2=0.999, amsgrad=False)\n",
    "#model.compile(loss =\"categorical_crossentropy\", optimizer = 'adam', metrics = [\"accuracy\"])\n",
    "model.compile(loss =\"binary_crossentropy\", optimizer = 'adam', metrics = [\"accuracy\"])\n",
    "y_train=to_categorical(y, num_classes=2)\n",
    "\n",
    "model.summary()\n",
    "#lr_model_history=model.fit(X,y_train,batch_size=64,epochs= 10,validation_split=0.1,class_weight=class_weight)\n",
    "lr_model_history=model.fit(X,y_train,batch_size=32,epochs= 20,validation_split=0.1)\n"
   ]
  },
  {
   "cell_type": "code",
   "execution_count": null,
   "metadata": {},
   "outputs": [],
   "source": []
  },
  {
   "cell_type": "code",
   "execution_count": 4,
   "metadata": {},
   "outputs": [],
   "source": [
    "model.save(\"//ibs9010/current_data/Data_Keshav/image/Classification_model/NeuronClassifierModels/BinaryClassifier_automatic_trial23_20epoch_2layers.h5\")  "
   ]
  },
  {
   "cell_type": "code",
   "execution_count": 5,
   "metadata": {},
   "outputs": [
    {
     "data": {
      "image/png": "[encoded data removed]",
      "text/plain": [
       "<Figure size 1080x360 with 1 Axes>"
      ]
     },
     "metadata": {
      "needs_background": "light"
     },
     "output_type": "display_data"
    },
    {
     "data": {
      "image/png": "[encoded data removed]",
      "text/plain": [
       "<Figure size 1080x360 with 1 Axes>"
      ]
     },
     "metadata": {
      "needs_background": "light"
     },
     "output_type": "display_data"
    }
   ],
   "source": [
    "fig, ax = plt.subplots(1, 1, figsize=(15,5))\n",
    "ax.plot(np.sqrt(lr_model_history.history['loss']), 'r', label='training')\n",
    "ax.plot(np.sqrt(lr_model_history.history['val_loss']), 'b' ,label='validation')\n",
    "ax.set_xlabel(r'Epoch', fontsize=20)\n",
    "ax.set_ylabel(r'Loss', fontsize=20)\n",
    "ax.legend()\n",
    "ax.tick_params(labelsize=20)\n",
    "\n",
    "# Plot the accuracy\n",
    "fig, ax = plt.subplots(1, 1, figsize=(15,5))\n",
    "ax.plot(np.sqrt(lr_model_history.history['accuracy']), 'r', label='training')\n",
    "ax.plot(np.sqrt(lr_model_history.history['val_accuracy']), 'b' ,label='validation')\n",
    "ax.set_xlabel(r'Epoch', fontsize=20)\n",
    "ax.set_ylabel(r'Accuracy', fontsize=20)\n",
    "ax.legend()\n",
    "ax.tick_params(labelsize=20)"
   ]
  },
  {
   "cell_type": "markdown",
   "metadata": {},
   "source": [
    "## Loading Model"
   ]
  },
  {
   "cell_type": "markdown",
   "metadata": {},
   "source": [
    "## Running inference on all Tiles "
   ]
  },
  {
   "cell_type": "code",
   "execution_count": 11,
   "metadata": {
    "run_control": {
     "marked": false
    }
   },
   "outputs": [
    {
     "name": "stdout",
     "output_type": "stream",
     "text": [
      "Number of test images: 5762\n",
      "Total testing images: 5762\n",
      "bkgd_image_counter: 5740 neuron_image_counter: 22\n"
     ]
    }
   ],
   "source": [
    "import os\n",
    "import cv2\n",
    "import numpy as np\n",
    "img_size = 90 # fix the size of the image\n",
    "#Path = \"//ibs9010/current_data/Data_Keshav/Cropped_Images/100tile/S51/\" \n",
    "#Path = \"//ibs9010/current_data/Data_Keshav/Cropped_Images/trial90/Neuron/\"\n",
    "Path = '//ibs9010/current_data/Data_Keshav/Cropped_Images/90tile/MG23_bs/S22/'\n",
    "Testing_image = []# list of testing images\n",
    "image_name = []# list of image names\n",
    "\n",
    "for img in os.listdir(Path): #gives the images from the path\n",
    "    img_array = cv2.imread(os.path.join(Path,img),cv2.IMREAD_GRAYSCALE) # read every image in gray scale from the given path\n",
    "    Testing_image.append(img_array)\n",
    "    image_name.append(img)\n",
    "    \n",
    "print(\"Number of test images:\",len(Testing_image))\n",
    "#Running Inference\n",
    "Test_image = np.array(Testing_image).reshape(-1,img_size,img_size,1)\n",
    "#make an array of every element of list from Testing_image and then reshape them\n",
    "Test_image = Test_image/255.0\n",
    "scores = model.predict_classes(Test_image)\n",
    "\n",
    "# Results\n",
    "neuron_image_counter = bkgd_image_counter = 0\n",
    "for i in range(len(Test_image)):\n",
    "    if scores[i]==0:\n",
    "        bkgd_image_counter +=1\n",
    "    if scores[i]==1:\n",
    "        neuron_image_counter += 1\n",
    "    \n",
    "print(\"Total testing images:\",len(Testing_image))\n",
    "print(\"bkgd_image_counter:\",bkgd_image_counter,\"neuron_image_counter:\",neuron_image_counter)\n"
   ]
  },
  {
   "cell_type": "code",
   "execution_count": 12,
   "metadata": {},
   "outputs": [
    {
     "name": "stdout",
     "output_type": "stream",
     "text": [
      "22\n"
     ]
    }
   ],
   "source": [
    "## Saving classified tiles into respective folders\n",
    "\n",
    "# saving the single neuron tiles into a particular folder for now \n",
    "dest_path = '//ibs9010/current_data/Data_Keshav/image/Classification_model/Inference/BinaryClasses/trial'\n",
    "#dest_path = \"//ibs9010/current_data/Data_Keshav/image/Classification_model/Inference/BinaryClasses/NewTestsingleneurontiles\"\n",
    "#directory = '//ibs9010/current_data/Data_Keshav/image/Classification_model/Data/Test/'\n",
    "\n",
    "# Delete all exiting images\n",
    "import glob\n",
    "os.chdir(dest_path)\n",
    "files=glob.glob('*.tif')\n",
    "for filename in files:\n",
    "    os.unlink(filename)\n",
    "    \n",
    "#need the images of class1 to be appended in a separate list\n",
    "single_image_list  = [] # contains list of filenames of single neurons\n",
    "#sn_images = [] # conatins tiles of single neurons #(actual images itself)\n",
    "for k in range(1,len(Test_image)):\n",
    "    if scores[k]==1:\n",
    "        #print(Test_image[i])\n",
    "        #print(\"Image \",image_name[k])\n",
    "        #sn_images.append(Test_image[i])\n",
    "        single_image_list.append(image_name[k])\n",
    "        \n",
    "print(len(single_image_list))  \n",
    "#image_name[i]\n",
    "for i in range(len(Test_image)):\n",
    "    if scores[i]==1:\n",
    "        #print(\"Image:\",image_name[i])\n",
    "        #print(\"TestImage:\",Test_image[i])\n",
    "        #cv2.imwrite(image_name[i], Test_image[i])\n",
    "        cv2.imwrite(os.path.join(dest_path,image_name[i]), Test_image[i]*255)\n",
    "        #pass\n",
    "\n",
    "# Generating Pickle files for classified tiles\n",
    "## To be used for generating landmarks"
   ]
  },
  {
   "cell_type": "code",
   "execution_count": 8,
   "metadata": {},
   "outputs": [
    {
     "name": "stdout",
     "output_type": "stream",
     "text": [
      "4660\n"
     ]
    }
   ],
   "source": [
    "# saving the bkgd neuron tiles into a particular folder for now - as a adhoc fix!\n",
    "\n",
    "#dest_path = '//ibs9010/current_data/Data_Keshav/image/Classification_model/Inference/BinaryClasses/NewTestbackgroundneurontiles'\n",
    "dest_path = '//ibs9010/current_data/Data_Keshav/image/Classification_model/Inference/BinaryClasses/backgroundneurontiles/'\n",
    "directory = '//ibs9010/current_data/Data_Keshav/image/Classification_model/Data/Test/'\n",
    "\n",
    "# Delete all exiting images\n",
    "import glob\n",
    "os.chdir(dest_path)\n",
    "files=glob.glob('*.tif')\n",
    "for filename in files:\n",
    "    os.unlink(filename)\n",
    "\n",
    "#need the images of class1 to be appended in a separate list\n",
    "bkgd_image_list  = [] # contains list of filenames of single neurons\n",
    "#sn_images = [] # conatins tiles of single neurons #(actual images itself)\n",
    "for k in range(1,len(Test_image)):\n",
    "    if scores[k]==0:\n",
    "        #print(Test_image[i])\n",
    "        #print(\"Image \",image_name[k])\n",
    "        #sn_images.append(Test_image[i])\n",
    "        bkgd_image_list.append(image_name[k])\n",
    "        \n",
    "print(len(bkgd_image_list))  \n",
    "#image_name[i]\n",
    "for i in range(len(Test_image)):\n",
    "    if scores[i]==0:\n",
    "        #print(\"Image:\",image_name[i])\n",
    "        #print(\"TestImage:\",Test_image[i])\n",
    "        #cv2.imwrite(image_name[i], Test_image[i])\n",
    "        cv2.imwrite(os.path.join(dest_path,image_name[i]), Test_image[i]*255)\n",
    "        #pass"
   ]
  },
  {
   "cell_type": "code",
   "execution_count": null,
   "metadata": {},
   "outputs": [],
   "source": [
    "#from tensorflow import keras\n",
    "#import keras\n",
    "#import tensorflow as tf \n",
    "from keras.models import load_model\n",
    "model = load_model('//ibs9010/current_data/Data_Keshav/image/Classification_model/NeuronClassifierModels/BinaryClassifier_manual_every5thsection_15epoch.h5')"
   ]
  },
  {
   "cell_type": "code",
   "execution_count": null,
   "metadata": {},
   "outputs": [],
   "source": [
    "# Generating pickle file For Single neurons\n",
    "import pickle\n",
    "with open('//ibs9010/current_data/Data_Keshav/image/Classification_model/17aug_10thsection_binary_SN_MG48_S51.pkl', 'wb') as f:\n",
    "    pickle.dump(single_image_list, f)"
   ]
  },
  {
   "cell_type": "code",
   "execution_count": null,
   "metadata": {},
   "outputs": [],
   "source": []
  }
 ],
 "metadata": {
  "kernelspec": {
   "display_name": "Python 3",
   "language": "python",
   "name": "python3"
  },
  "language_info": {
   "codemirror_mode": {
    "name": "ipython",
    "version": 3
   },
   "file_extension": ".py",
   "mimetype": "text/x-python",
   "name": "python",
   "nbconvert_exporter": "python",
   "pygments_lexer": "ipython3",
   "version": "3.8.3"
  },
  "varInspector": {
   "cols": {
    "lenName": 16,
    "lenType": 16,
    "lenVar": 40
   },
   "kernels_config": {
    "python": {
     "delete_cmd_postfix": "",
     "delete_cmd_prefix": "del ",
     "library": "var_list.py",
     "varRefreshCmd": "print(var_dic_list())"
    },
    "r": {
     "delete_cmd_postfix": ") ",
     "delete_cmd_prefix": "rm(",
     "library": "var_list.r",
     "varRefreshCmd": "cat(var_dic_list()) "
    }
   },
   "types_to_exclude": [
    "module",
    "function",
    "builtin_function_or_method",
    "instance",
    "_Feature"
   ],
   "window_display": false
  }
 },
 "nbformat": 4,
 "nbformat_minor": 2
}
