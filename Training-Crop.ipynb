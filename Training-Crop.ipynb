{
 "cells": [
  {
   "cell_type": "code",
   "execution_count": 1,
   "metadata": {},
   "outputs": [],
   "source": [
    "#Import Stuff \n",
    "import os\n",
    "import cv2\n",
    "import math\n",
    "import numpy as np"
   ]
  },
  {
   "cell_type": "markdown",
   "metadata": {},
   "source": [
    "# Extract Data from Amira Files"
   ]
  },
  {
   "cell_type": "code",
   "execution_count": 2,
   "metadata": {},
   "outputs": [
    {
     "name": "stdout",
     "output_type": "stream",
     "text": [
      "S051_Landmarks.landmarkAscii\n"
     ]
    }
   ],
   "source": [
    "# Open two empty dictionaries for later use\n",
    "files = {}\n",
    "landmarks = {}\n",
    "\n",
    "for filename in os.listdir():\n",
    "    if os.path.isfile(filename) and filename.endswith(\".landmarkAscii\") and not filename in files: \n",
    "#os.path.isfile() method in Python is used to check whether the specified path is an existing regular file or not.\n",
    "#the if condition checks for a regular file and if ends with particular extension and also checks if the particular file is already in the dictionary\n",
    "        with open(filename, \"r\") as file:\n",
    "            #opens the particular file in read mode\n",
    "            files[filename] = file.readlines()\n",
    "            #file gets added to dictionary 'files'\n",
    "            # reads all the files into a dictionary\n",
    "            #readlines() reads line by line as a list\n",
    "\n",
    "#prints all the files with given extension in the system\n",
    "for filename, text in files.items(): \n",
    "    print(filename)# prints the list of files with the given extension\n",
    "    #print(text)# prints the entire contents of the text file "
   ]
  },
  {
   "cell_type": "markdown",
   "metadata": {},
   "source": [
    "## Extracting Coordinates"
   ]
  },
  {
   "cell_type": "code",
   "execution_count": 3,
   "metadata": {},
   "outputs": [
    {
     "name": "stdout",
     "output_type": "stream",
     "text": [
      "Landmarks Acquired!\n",
      "Number of landmarks: 177\n"
     ]
    }
   ],
   "source": [
    "## Extracting Coordinates\n",
    "\n",
    "# create a set of lists for coordinates\n",
    "x_coordinates = [] #x-coordinate\n",
    "y_coordinates = [] #y-coordinate   \n",
    "coordinates = [] #x,y-coordinate put together\n",
    "linecount = 0 #utility variable\n",
    "\n",
    "#extraction of coordinates\n",
    "for filename, text in files.items():\n",
    "    #files is the dict; filename is teh keyword and text is teh value\n",
    "    # first for loop to enter set of files\n",
    "    for texts in text:\n",
    "        # second for loop to enter inside inside the file and access its contents\n",
    "        if texts.startswith('@1'):\n",
    "            #looks for line that startswith @1 from the coordinates are listed \n",
    "             linecount = 1\n",
    "             name = filename\n",
    "             #print(texts)\n",
    "             #print(filename)\n",
    "             continue\n",
    "        if linecount == 1 and texts.isspace() == False and filename==name: \n",
    "            #looks for the if @1 has been encountered and counts till an empty space\n",
    "            #print(texts)\n",
    "             x = list(map(float,texts.split()))[0]#convert the values into float\n",
    "             y = list(map(float,texts.split()))[1]\n",
    "             x_coordinates.append(x)\n",
    "             y_coordinates.append(y)\n",
    "             \n",
    "#coordinates.extend(list(zip(x_coordinates,y_coordinates)))\n",
    "print(\"Landmarks Acquired!\")\n",
    "#print(len(coordinates))\n",
    "\n",
    "#fixing the resolution\n",
    "\n",
    "x_coordinates = [ x/.868 for x in x_coordinates] # division to get the resolution right\n",
    "y_coordinates = [ y/.868 for y in y_coordinates]\n",
    "\n",
    "x_coordinates = [int(i) for i in x_coordinates]\n",
    "y_coordinates = [int(i) for i in y_coordinates]\n",
    "\n",
    "x = x_coordinates\n",
    "y = y_coordinates\n",
    "\n",
    "# The final Coordinates are obtained as a tuple\n",
    "coordinates = list(zip(x_coordinates, y_coordinates))\n",
    "#print(coordinates)\n",
    "print(\"Number of landmarks:\",len(coordinates))"
   ]
  },
  {
   "cell_type": "markdown",
   "metadata": {},
   "source": [
    "# Access the coordinates and crop the image around the coordinates"
   ]
  },
  {
   "cell_type": "code",
   "execution_count": 4,
   "metadata": {},
   "outputs": [
    {
     "name": "stdout",
     "output_type": "stream",
     "text": [
      "Height, Width =  (9536, 10340, 3)\n"
     ]
    }
   ],
   "source": [
    "#Read the image\n",
    "source_path = '//ibs9010/current_data/Data_Keshav/image/MG48_3day_bs/S051_00/S51_Pia_Only.tif'\n",
    "image=cv2.imread(source_path)\n",
    "\n",
    "h = image.shape[0]\n",
    "w = image.shape[1]\n",
    "print(\"Height, Width = \",image.shape)\n",
    "mini_centre_image = []\n",
    "mini_partial_image = []"
   ]
  },
  {
   "cell_type": "code",
   "execution_count": 5,
   "metadata": {},
   "outputs": [
    {
     "name": "stdout",
     "output_type": "stream",
     "text": [
      "Centre crop\n",
      "Saving 177 single images.\n"
     ]
    }
   ],
   "source": [
    "def crop():\n",
    "    print('Centre crop')\n",
    "    for w,h in coordinates:\n",
    "        #w,h = i\n",
    "        #print(\"Null Crop:\")\n",
    "        #print(\"h:\",h,\"w:\",w)\n",
    "        #Stride_Null\n",
    "        y1 = h-25\n",
    "        y2 = h+25\n",
    "        x1 = w-25\n",
    "        x2 = w+25\n",
    "        #print(\"The square:\"+\"y1:\",y1,\"x1:\",x1,\"y2:\",y2,\"x2:\",x2)\n",
    "        im1 = image[y1:y2, x1:x2]\n",
    "        mini_centre_image.append(im1) \n",
    "\n",
    "crop()            \n",
    "print(\"Saving\",len(mini_centre_image),\"single images.\")"
   ]
  },
  {
   "cell_type": "code",
   "execution_count": 6,
   "metadata": {},
   "outputs": [],
   "source": [
    "#Save the strided images\n",
    "for k in range(len(mini_centre_image)):\n",
    "    #pass\n",
    "    #print(\"K:\",k)\n",
    "    Dest_Path = '//ibs9010/current_data/Data_Keshav/Cropped_Images/S051/single/'\n",
    "    cv2.imwrite(os.path.join(Dest_Path,\"d\"+str(k)+\".tif\"), mini_centre_image[k])   \n",
    "\n",
    "# Lets Stride away!\n"
   ]
  },
  {
   "cell_type": "code",
   "execution_count": 7,
   "metadata": {},
   "outputs": [
    {
     "name": "stdout",
     "output_type": "stream",
     "text": [
      "right_shift_crop\n",
      "Saving 177 right shifted partial images.\n"
     ]
    }
   ],
   "source": [
    "def right_shift_crop():\n",
    "    print('right_shift_crop')\n",
    "\n",
    "    #Top Shift\n",
    "    for w,h in coordinates:\n",
    "        #shift1\n",
    "        #print(\"w:\",w,\"h:\",h)\n",
    "        #print(\"RightShift1\")\n",
    "       \n",
    "        shift1 = 20\n",
    "        w = w + 2 * shift1\n",
    "        h = h + 2 * shift1\n",
    "        #print(\"After right shift h:\",h)\n",
    "        #print(\"After right shift w:\",w)\n",
    "        y1 = h-25\n",
    "        y2 = h+25\n",
    "        x1 = w-25\n",
    "        x2 = w+25\n",
    "        #print(\"The square:\"+\"y1:\",y1,\"x1:\",x1,\"y2:\",y2,\"x2:\",x2)\n",
    "        im1 = image[y1:y2, x1:x2]\n",
    "        mini_partial_image.append(im1)\n",
    "\n",
    "right_shift_crop()            \n",
    "print(\"Saving\",len(mini_partial_image),\"right shifted partial images.\")"
   ]
  },
  {
   "cell_type": "code",
   "execution_count": 8,
   "metadata": {},
   "outputs": [
    {
     "name": "stdout",
     "output_type": "stream",
     "text": [
      "left_shift_crop\n",
      "Saving 354 left shifted partial images.\n"
     ]
    }
   ],
   "source": [
    "def left_shift_crop():\n",
    "    print('left_shift_crop')\n",
    "\n",
    "    #Top Shift\n",
    "    for w,h in coordinates:\n",
    "        #shift1\n",
    "        #print(\"w:\",w,\"h:\",h)\n",
    "        #print(\"LeftShift1\")\n",
    "       \n",
    "        shift1 = 20\n",
    "        w = w - 2 * shift1\n",
    "        h = h - 2 * shift1\n",
    "        #print(\"After left shift h:\",h)\n",
    "        #print(\"After left shift w:\",w)\n",
    "        y1 = h-25\n",
    "        y2 = h+25\n",
    "        x1 = w-25\n",
    "        x2 = w+25\n",
    "        #print(\"The square:\"+\"y1:\",y1,\"x1:\",x1,\"y2:\",y2,\"x2:\",x2)\n",
    "        im1 = image[y1:y2, x1:x2]\n",
    "        mini_partial_image.append(im1)\n",
    "\n",
    "\n",
    "left_shift_crop()            \n",
    "print(\"Saving\",len(mini_partial_image),\"left shifted partial images.\")"
   ]
  },
  {
   "cell_type": "code",
   "execution_count": 9,
   "metadata": {},
   "outputs": [],
   "source": [
    "#Save the strided images\n",
    "for k in range(len(mini_partial_image)):\n",
    "    #pass\n",
    "    #print(\"K:\",k)\n",
    "    Dest_Path = '//ibs9010/current_data/Data_Keshav/Cropped_Images/S051/partial/'\n",
    "    cv2.imwrite(os.path.join(Dest_Path,\"e\"+str(k)+\".tif\"), mini_partial_image[k])"
   ]
  }
 ],
 "metadata": {
  "kernelspec": {
   "display_name": "Python 3",
   "language": "python",
   "name": "python3"
  },
  "language_info": {
   "codemirror_mode": {
    "name": "ipython",
    "version": 3
   },
   "file_extension": ".py",
   "mimetype": "text/x-python",
   "name": "python",
   "nbconvert_exporter": "python",
   "pygments_lexer": "ipython3",
   "version": "3.7.7"
  },
  "varInspector": {
   "cols": {
    "lenName": 16,
    "lenType": 16,
    "lenVar": 40
   },
   "kernels_config": {
    "python": {
     "delete_cmd_postfix": "",
     "delete_cmd_prefix": "del ",
     "library": "var_list.py",
     "varRefreshCmd": "print(var_dic_list())"
    },
    "r": {
     "delete_cmd_postfix": ") ",
     "delete_cmd_prefix": "rm(",
     "library": "var_list.r",
     "varRefreshCmd": "cat(var_dic_list()) "
    }
   },
   "types_to_exclude": [
    "module",
    "function",
    "builtin_function_or_method",
    "instance",
    "_Feature"
   ],
   "window_display": false
  }
 },
 "nbformat": 4,
 "nbformat_minor": 2
}
