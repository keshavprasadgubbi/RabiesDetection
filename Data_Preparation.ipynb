{
 "cells": [
  {
   "cell_type": "code",
   "execution_count": 1,
   "metadata": {},
   "outputs": [
    {
     "name": "stdout",
     "output_type": "stream",
     "text": [
      "Data/Train/Single\n",
      "0\n",
      "Data/Train/GarbageForeground\n",
      "1\n",
      "Data/Train/Partial\n",
      "2\n"
     ]
    },
    {
     "ename": "ValueError",
     "evalue": "cannot reshape array of size 3650 into shape (50,50,1)",
     "output_type": "error",
     "traceback": [
      "\u001b[0;31m---------------------------------------------------------------------------\u001b[0m",
      "\u001b[0;31mValueError\u001b[0m                                Traceback (most recent call last)",
      "\u001b[0;32m<ipython-input-1-61db83d9a3f5>\u001b[0m in \u001b[0;36m<module>\u001b[0;34m\u001b[0m\n\u001b[1;32m     40\u001b[0m     \u001b[0;32mreturn\u001b[0m \u001b[0mX\u001b[0m\u001b[0;34m,\u001b[0m\u001b[0my\u001b[0m\u001b[0;34m\u001b[0m\u001b[0;34m\u001b[0m\u001b[0m\n\u001b[1;32m     41\u001b[0m \u001b[0;34m\u001b[0m\u001b[0m\n\u001b[0;32m---> 42\u001b[0;31m \u001b[0mX\u001b[0m\u001b[0;34m,\u001b[0m\u001b[0my\u001b[0m \u001b[0;34m=\u001b[0m \u001b[0mcreate_training_data\u001b[0m\u001b[0;34m(\u001b[0m\u001b[0;34m)\u001b[0m\u001b[0;34m\u001b[0m\u001b[0;34m\u001b[0m\u001b[0m\n\u001b[0m",
      "\u001b[0;32m<ipython-input-1-61db83d9a3f5>\u001b[0m in \u001b[0;36mcreate_training_data\u001b[0;34m()\u001b[0m\n\u001b[1;32m     32\u001b[0m         \u001b[0my\u001b[0m\u001b[0;34m.\u001b[0m\u001b[0mappend\u001b[0m\u001b[0;34m(\u001b[0m\u001b[0mlabels\u001b[0m\u001b[0;34m)\u001b[0m\u001b[0;34m\u001b[0m\u001b[0;34m\u001b[0m\u001b[0m\n\u001b[1;32m     33\u001b[0m     \u001b[0;31m#try:\u001b[0m\u001b[0;34m\u001b[0m\u001b[0;34m\u001b[0m\u001b[0;34m\u001b[0m\u001b[0m\n\u001b[0;32m---> 34\u001b[0;31m     \u001b[0mX\u001b[0m \u001b[0;34m=\u001b[0m \u001b[0mnp\u001b[0m\u001b[0;34m.\u001b[0m\u001b[0marray\u001b[0m\u001b[0;34m(\u001b[0m\u001b[0mX\u001b[0m\u001b[0;34m)\u001b[0m\u001b[0;34m.\u001b[0m\u001b[0mreshape\u001b[0m\u001b[0;34m(\u001b[0m\u001b[0;34m-\u001b[0m\u001b[0;36m1\u001b[0m\u001b[0;34m,\u001b[0m\u001b[0mimg_size\u001b[0m\u001b[0;34m,\u001b[0m\u001b[0mimg_size\u001b[0m\u001b[0;34m,\u001b[0m\u001b[0;36m1\u001b[0m\u001b[0;34m)\u001b[0m \u001b[0;31m# converts it to arrays with shape (number of images,dim of image)\u001b[0m\u001b[0;34m\u001b[0m\u001b[0;34m\u001b[0m\u001b[0m\n\u001b[0m\u001b[1;32m     35\u001b[0m     \u001b[0my\u001b[0m \u001b[0;34m=\u001b[0m \u001b[0mnp\u001b[0m\u001b[0;34m.\u001b[0m\u001b[0marray\u001b[0m\u001b[0;34m(\u001b[0m\u001b[0my\u001b[0m\u001b[0;34m)\u001b[0m\u001b[0;34m\u001b[0m\u001b[0;34m\u001b[0m\u001b[0m\n\u001b[1;32m     36\u001b[0m     \u001b[0mX\u001b[0m \u001b[0;34m=\u001b[0m \u001b[0mX\u001b[0m\u001b[0;34m/\u001b[0m\u001b[0;36m255.0\u001b[0m \u001b[0;31m# this is normalization of only the images\u001b[0m\u001b[0;34m\u001b[0m\u001b[0;34m\u001b[0m\u001b[0m\n",
      "\u001b[0;31mValueError\u001b[0m: cannot reshape array of size 3650 into shape (50,50,1)"
     ]
    }
   ],
   "source": [
    "import numpy as np\n",
    "import matplotlib.pyplot as plt\n",
    "import cv2\n",
    "import os\n",
    "import random \n",
    "\n",
    "DATADIR = \"Data/Train/\"\n",
    "CATEGORIES = [\"Single\",\"GarbageForeground\",\"Partial\"]\n",
    "def create_training_data():\n",
    "    Training_Data = []\n",
    "    img_size = 50\n",
    "    X = []\n",
    "    y = []\n",
    "    for categories in CATEGORIES:\n",
    "        Path = os.path.join(DATADIR,categories) # gives the path to the images; Data/Train/Image or Background\n",
    "        print(Path)\n",
    "        class_num = CATEGORIES.index(categories) # numbers the classes\n",
    "        print(class_num)\n",
    "        try:\n",
    "            for img in os.listdir(Path): #gives the images from the path\n",
    "                img_array = cv2.imread(os.path.join(Path,img),cv2.IMREAD_GRAYSCALE) \n",
    "                Training_Data.append([img_array,class_num])\n",
    "                #plt.imshow(img_array,cmap='gray')\n",
    "                #plt.show()\n",
    "                #break\n",
    "        except Exception as e:\n",
    "            pass\n",
    "    random.shuffle(Training_Data) # do it before conversion to array as list is mutable\n",
    "    \n",
    "    for features,labels in Training_Data:\n",
    "        X.append(features)\n",
    "        y.append(labels)\n",
    "    #try:\n",
    "    X = np.array(X).reshape(-1,img_size,img_size,1) # converts it to arrays with shape (number of images,dim of image)\n",
    "    y = np.array(y)\n",
    "    X = X/255.0 # this is normalization of only the images\n",
    "    #except Exception as e:\n",
    "     #       pass\n",
    "    #print(y[5])\n",
    "    return X,y\n",
    "\n",
    "X,y = create_training_data()\n"
   ]
  },
  {
   "cell_type": "code",
   "execution_count": 4,
   "metadata": {},
   "outputs": [],
   "source": [
    "#print(y)"
   ]
  },
  {
   "cell_type": "code",
   "execution_count": null,
   "metadata": {},
   "outputs": [],
   "source": []
  },
  {
   "cell_type": "code",
   "execution_count": 1,
   "metadata": {},
   "outputs": [
    {
     "name": "stdout",
     "output_type": "stream",
     "text": [
      "Data/Train/Image\n",
      "0\n",
      "Data/Train/Background\n",
      "1\n",
      "Data/Train/Partial\n",
      "2\n",
      "(1576, 2)\n",
      "(1576, 50, 50, 1)\n"
     ]
    }
   ],
   "source": [
    "import numpy as np\n",
    "import matplotlib.pyplot as plt\n",
    "import cv2\n",
    "import os\n",
    "import random \n",
    "\n",
    "DATADIR = \"Data/Train/\"\n",
    "CATEGORIES = [\"Image\",\"Background\",\"Partial\"]\n",
    "Training_Data = []\n",
    "img_size = 50\n",
    "X = []\n",
    "y = []\n",
    "for categories in CATEGORIES:\n",
    "    Path = os.path.join(DATADIR,categories) # gives the path to the images; Data/Train/Image or Background\n",
    "    print(Path)\n",
    "    class_num = CATEGORIES.index(categories) # numbers the classes\n",
    "    print(class_num)\n",
    "    try:\n",
    "        for img in os.listdir(Path): #gives the images from the path\n",
    "            img_array = cv2.imread(os.path.join(Path,img),cv2.IMREAD_GRAYSCALE) \n",
    "            Training_Data.append([img_array,class_num])\n",
    "            #plt.imshow(img_array,cmap='gray')\n",
    "            #plt.show()\n",
    "            #break\n",
    "    except Exception as e:\n",
    "        pass\n",
    "print(np.array(Training_Data).shape)\n",
    "random.shuffle(Training_Data) # do it before conversion to array as list is mutable\n",
    "\n",
    "for features,labels in Training_Data:\n",
    "    X.append(features)\n",
    "    y.append(labels)\n",
    "\n",
    "X = np.array(X).reshape(-1,img_size,img_size,1) # converts it to arrays with shape (number of images,dim of image)\n",
    "y = np.array(y)\n",
    "print(X.shape)\n",
    "X = X/255.0 # this is normaalization of only the images\n",
    "\n"
   ]
  },
  {
   "cell_type": "code",
   "execution_count": 2,
   "metadata": {},
   "outputs": [
    {
     "ename": "NameError",
     "evalue": "name 'create_training_data' is not defined",
     "output_type": "error",
     "traceback": [
      "\u001b[0;31m---------------------------------------------------------------------------\u001b[0m",
      "\u001b[0;31mNameError\u001b[0m                                 Traceback (most recent call last)",
      "\u001b[0;32m<ipython-input-2-9b0e834c2d35>\u001b[0m in \u001b[0;36m<module>\u001b[0;34m\u001b[0m\n\u001b[1;32m     24\u001b[0m     \u001b[0;32mreturn\u001b[0m \u001b[0mX\u001b[0m\u001b[0;34m,\u001b[0m\u001b[0my\u001b[0m\u001b[0;34m\u001b[0m\u001b[0;34m\u001b[0m\u001b[0m\n\u001b[1;32m     25\u001b[0m \u001b[0;34m\u001b[0m\u001b[0m\n\u001b[0;32m---> 26\u001b[0;31m \u001b[0mX\u001b[0m\u001b[0;34m,\u001b[0m\u001b[0my\u001b[0m \u001b[0;34m=\u001b[0m \u001b[0mcreate_training_data\u001b[0m\u001b[0;34m(\u001b[0m\u001b[0;34m)\u001b[0m\u001b[0;34m\u001b[0m\u001b[0;34m\u001b[0m\u001b[0m\n\u001b[0m\u001b[1;32m     27\u001b[0m \u001b[0;34m\u001b[0m\u001b[0m\n",
      "\u001b[0;31mNameError\u001b[0m: name 'create_training_data' is not defined"
     ]
    }
   ],
   "source": [
    "import numpy as np\n",
    "import matplotlib.pyplot as plt\n",
    "import cv2\n",
    "import os\n",
    "import random \n",
    "\n",
    "Path = \"Data/Test/\"\n",
    "#CATEGORIES = [\"Image\",\"Background\"]\n",
    "def test_data():\n",
    "    #Training_Data = []\n",
    "    #img_size = 50\n",
    "    #X = []\n",
    "    #y = []\n",
    "    try:\n",
    "        for img in os.listdir(Path): #gives the images from the path\n",
    "            #img_array = cv2.imread(os.path.join(Path,img),cv2.IMREAD_GRAYSCALE) \n",
    "            #Training_Data.append([img_array,class_num])\n",
    "            plt.imshow(img_array,cmap='gray')\n",
    "            plt.show()\n",
    "            break\n",
    "    except Exception as e:\n",
    "            pass\n",
    "    random.shuffle(Training_Data) # do it before conversion to array as list is mutable\n",
    "    return X,y\n",
    "\n",
    "X,y = create_training_data()\n",
    "            "
   ]
  },
  {
   "cell_type": "code",
   "execution_count": null,
   "metadata": {},
   "outputs": [],
   "source": [
    "\n",
    "    '''\n",
    "    X = np.array(X).reshape(-1,img_size,img_size,1) # converts it to arrays with shape (number of images,dim of image)\n",
    "    y = np.array(y)\n",
    "    print(X.shape)\n",
    "    X = X/255.0 # this is normaalization of only the images\n",
    "    '''"
   ]
  },
  {
   "cell_type": "code",
   "execution_count": 57,
   "metadata": {},
   "outputs": [
    {
     "name": "stdout",
     "output_type": "stream",
     "text": [
      "1.tif\n",
      "9.tif\n",
      "3.tif\n",
      "0.tif\n",
      "4.tif\n",
      "10.tif\n",
      "8.tif\n",
      "6.tif\n",
      "7.tif\n",
      "11.tif\n",
      "2.tif\n",
      "5.tif\n",
      "(12, 50, 50, 1)\n",
      "[[[0.10196078]\n",
      "  [0.14901961]\n",
      "  [0.10196078]\n",
      "  ...\n",
      "  [0.1372549 ]\n",
      "  [0.17254902]\n",
      "  [0.18431373]]\n",
      "\n",
      " [[0.07843137]\n",
      "  [0.04313725]\n",
      "  [0.11372549]\n",
      "  ...\n",
      "  [0.11372549]\n",
      "  [0.16078431]\n",
      "  [0.10196078]]\n",
      "\n",
      " [[0.18431373]\n",
      "  [0.09019608]\n",
      "  [0.18431373]\n",
      "  ...\n",
      "  [0.11372549]\n",
      "  [0.11372549]\n",
      "  [0.14901961]]\n",
      "\n",
      " ...\n",
      "\n",
      " [[0.10196078]\n",
      "  [0.11372549]\n",
      "  [0.16078431]\n",
      "  ...\n",
      "  [0.09019608]\n",
      "  [0.18431373]\n",
      "  [0.06666667]]\n",
      "\n",
      " [[0.14901961]\n",
      "  [0.21960784]\n",
      "  [0.14901961]\n",
      "  ...\n",
      "  [0.11372549]\n",
      "  [0.05490196]\n",
      "  [0.04313725]]\n",
      "\n",
      " [[0.17254902]\n",
      "  [0.18431373]\n",
      "  [0.31372549]\n",
      "  ...\n",
      "  [0.17254902]\n",
      "  [0.1372549 ]\n",
      "  [0.10196078]]]\n"
     ]
    }
   ],
   "source": [
    "import numpy as np\n",
    "import matplotlib.pyplot as plt\n",
    "import cv2\n",
    "import os\n",
    "import random  \n",
    "def Test_Data():\n",
    "    img_size = 50\n",
    "    Path = \"Data/Test\"\n",
    "    Test = []\n",
    "    try:\n",
    "        for img in os.listdir(Path): #gives the images from the path\n",
    "            img_array = cv2.imread(os.path.join(Path,img),cv2.IMREAD_GRAYSCALE) \n",
    "            Test.append(img_array)\n",
    "            print(img) \n",
    "            #plt.imshow(img_array,cmap='gray')\n",
    "            #plt.show()\n",
    "            #break\n",
    "    except Exception as e:\n",
    "        pass\n",
    "    Test = np.array(Test).reshape(-1,img_size,img_size,1)\n",
    "    Test = Test/255.0\n",
    "    print(Test.shape)\n",
    "    return Test\n",
    "t = Test_Data()\n",
    "#print(t.shape)\n",
    "print(t[11])"
   ]
  },
  {
   "cell_type": "code",
   "execution_count": 44,
   "metadata": {},
   "outputs": [
    {
     "name": "stdout",
     "output_type": "stream",
     "text": [
      "272\n",
      "272\n"
     ]
    }
   ],
   "source": [
    "print(len(y))\n",
    "print(len(X))"
   ]
  },
  {
   "cell_type": "code",
   "execution_count": 41,
   "metadata": {},
   "outputs": [
    {
     "name": "stdout",
     "output_type": "stream",
     "text": [
      "(272, 50, 50, 1)\n",
      "[[[[0.        ]\n",
      "   [0.        ]\n",
      "   [0.        ]\n",
      "   ...\n",
      "   [0.        ]\n",
      "   [0.        ]\n",
      "   [0.        ]]\n",
      "\n",
      "  [[0.00784314]\n",
      "   [0.        ]\n",
      "   [0.        ]\n",
      "   ...\n",
      "   [0.        ]\n",
      "   [0.        ]\n",
      "   [0.        ]]\n",
      "\n",
      "  [[0.        ]\n",
      "   [0.00784314]\n",
      "   [0.        ]\n",
      "   ...\n",
      "   [0.        ]\n",
      "   [0.        ]\n",
      "   [0.        ]]\n",
      "\n",
      "  ...\n",
      "\n",
      "  [[0.00784314]\n",
      "   [0.        ]\n",
      "   [0.01960784]\n",
      "   ...\n",
      "   [0.        ]\n",
      "   [0.        ]\n",
      "   [0.        ]]\n",
      "\n",
      "  [[0.        ]\n",
      "   [0.00784314]\n",
      "   [0.        ]\n",
      "   ...\n",
      "   [0.        ]\n",
      "   [0.        ]\n",
      "   [0.        ]]\n",
      "\n",
      "  [[0.        ]\n",
      "   [0.01960784]\n",
      "   [0.        ]\n",
      "   ...\n",
      "   [0.        ]\n",
      "   [0.        ]\n",
      "   [0.        ]]]]\n"
     ]
    }
   ],
   "source": [
    "print(X.shape)\n",
    "print(X[0:1])"
   ]
  },
  {
   "cell_type": "code",
   "execution_count": 9,
   "metadata": {},
   "outputs": [
    {
     "name": "stdout",
     "output_type": "stream",
     "text": [
      "[[32 20 44 ... 14 35 20]\n",
      " [29 38 47 ... 26 35 17]\n",
      " [26 14 53 ... 23 29  8]\n",
      " ...\n",
      " [14 17 29 ... 38 17 29]\n",
      " [11 41 26 ... 23  5 26]\n",
      " [38 41 11 ... 14 32 23]]\n"
     ]
    }
   ],
   "source": [
    "print(img_array)"
   ]
  },
  {
   "cell_type": "code",
   "execution_count": 15,
   "metadata": {},
   "outputs": [
    {
     "name": "stdout",
     "output_type": "stream",
     "text": [
      "272\n"
     ]
    }
   ],
   "source": [
    "print(len(Training_Data))"
   ]
  },
  {
   "cell_type": "code",
   "execution_count": 20,
   "metadata": {},
   "outputs": [
    {
     "name": "stdout",
     "output_type": "stream",
     "text": [
      "1\n",
      "0\n",
      "0\n",
      "0\n",
      "1\n",
      "1\n",
      "0\n",
      "0\n",
      "1\n",
      "1\n"
     ]
    }
   ],
   "source": [
    "import random \n",
    "random.shuffle(Training_Data)\n",
    "for i in Training_Data[:10]:\n",
    "    print(i[1])"
   ]
  },
  {
   "cell_type": "code",
   "execution_count": 27,
   "metadata": {},
   "outputs": [
    {
     "name": "stdout",
     "output_type": "stream",
     "text": [
      "(272, 50, 50, 1)\n"
     ]
    }
   ],
   "source": [
    "X = [] #images or features\n",
    "y = [] #lables as 0 or 1\n",
    "img_size = 50\n",
    "for features,labels in Training_Data:\n",
    "    X.append(features)\n",
    "    y.append(labels)\n",
    "X = np.array(X).reshape(-1,img_size,img_size,1)\n",
    "print(X.shape)"
   ]
  },
  {
   "cell_type": "code",
   "execution_count": 24,
   "metadata": {},
   "outputs": [
    {
     "name": "stdout",
     "output_type": "stream",
     "text": [
      "[[array([[3, 0, 5, ..., 0, 0, 0],\n",
      "       [0, 0, 3, ..., 0, 4, 0],\n",
      "       [0, 2, 0, ..., 0, 0, 1],\n",
      "       ...,\n",
      "       [0, 3, 0, ..., 0, 0, 0],\n",
      "       [0, 0, 0, ..., 0, 0, 0],\n",
      "       [0, 0, 0, ..., 0, 4, 1]], dtype=uint8), 1]]\n"
     ]
    }
   ],
   "source": [
    "print(Training_Data[:1])"
   ]
  }
 ],
 "metadata": {
  "kernelspec": {
   "display_name": "Python 3",
   "language": "python",
   "name": "python3"
  },
  "language_info": {
   "codemirror_mode": {
    "name": "ipython",
    "version": 3
   },
   "file_extension": ".py",
   "mimetype": "text/x-python",
   "name": "python",
   "nbconvert_exporter": "python",
   "pygments_lexer": "ipython3",
   "version": "3.7.6"
  },
  "varInspector": {
   "cols": {
    "lenName": 16,
    "lenType": 16,
    "lenVar": 40
   },
   "kernels_config": {
    "python": {
     "delete_cmd_postfix": "",
     "delete_cmd_prefix": "del ",
     "library": "var_list.py",
     "varRefreshCmd": "print(var_dic_list())"
    },
    "r": {
     "delete_cmd_postfix": ") ",
     "delete_cmd_prefix": "rm(",
     "library": "var_list.r",
     "varRefreshCmd": "cat(var_dic_list()) "
    }
   },
   "types_to_exclude": [
    "module",
    "function",
    "builtin_function_or_method",
    "instance",
    "_Feature"
   ],
   "window_display": false
  }
 },
 "nbformat": 4,
 "nbformat_minor": 2
}
