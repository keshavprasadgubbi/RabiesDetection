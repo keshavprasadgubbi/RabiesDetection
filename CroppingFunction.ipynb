{
 "cells": [
  {
   "cell_type": "markdown",
   "metadata": {},
   "source": [
    "# Implementing the cropping function\n",
    "\n",
    "## The various sub-tasks involved are :\n",
    "\n",
    "* Get shape of the big image : (p,q)\n",
    "* Define the size of the tile : (a,b) = (50,50)\n",
    "* Determine the number of useful tiles; ensure all tiles are of equal size (a,b) and discard the ones that arent - Might lose a few due to boundary conditions but thats okay!\n",
    "* Carry out Cropping of the tiles sequentially! \n",
    "* Obtain the vertex of the each of the cropped tiles.\n",
    "* Save each of these cropped tiles in respective folder."
   ]
  },
  {
   "cell_type": "code",
   "execution_count": 1,
   "metadata": {},
   "outputs": [],
   "source": [
    "#Import Stuff \n",
    "import os\n",
    "import cv2\n",
    "import math\n",
    "import numpy as np"
   ]
  },
  {
   "cell_type": "code",
   "execution_count": 2,
   "metadata": {},
   "outputs": [],
   "source": [
    "#Read the image\n",
    "#source_path = '/Users/keshavaprasad/Desktop/image/MG48_3day_bs/testingcrop/S051_00.tif'\n",
    "#source_path = '/Users/keshavaprasad/Desktop/image/S25/S25_00.tif'\n",
    "source_path = '//ibs9010/current_data/Data_Keshav/masked_for_rabies_auto_detection/MG48_3day_bs/S51_Pia_Only.tif'\n",
    "image=cv2.imread(source_path)"
   ]
  },
  {
   "cell_type": "code",
   "execution_count": 3,
   "metadata": {},
   "outputs": [
    {
     "name": "stdout",
     "output_type": "stream",
     "text": [
      "(9536, 10340, 3)\n",
      "Height: 9536 Width: 10340\n"
     ]
    }
   ],
   "source": [
    "# Image Basics\n",
    "print(image.shape)\n",
    "# Get Shape\n",
    "p = image.shape[0]# p\n",
    "q = image.shape[1]#q\n",
    "print(\"Height:\",p,\"Width:\",q)\n",
    "\n",
    "# Defining the dimensions of a tile \n",
    "a = b = 50\n",
    "\n",
    "#************************\n",
    "cropped_tiles = [] #list for storing all cropped tile images\n",
    "vertices = [] #list for storing lists of vertex values # Defining vertices of tiles for cropping\n",
    "ctc = []#list for storing lists of tile numbers\n",
    "#cropped_tile_list = []\n",
    "mean_values = []# list for storing mean of the pixel values of each cropped tile \n",
    "background_cropped_tiles = [] #list for storing background tile images\n",
    "# Cropping image Sequentially\n",
    "i = j = cropped_tile_counter = correct_tile_counter = wrong_dim_tile_counter = mean= correct_dim_tile_counter= 0\n"
   ]
  },
  {
   "cell_type": "code",
   "execution_count": 4,
   "metadata": {},
   "outputs": [],
   "source": [
    "# Carry oout the sequential cropping store data into respective lists\n",
    "for i in range(0,math.floor(p),a):#range(start, stop, step) # to get the resolution right!\n",
    "    for j in range(0,math.floor(q),b):\n",
    "        #Defining the cropping box\n",
    "        #tile = image[j:j+b,i:i+a]#y1: y2, x1: x2\n",
    "        y1 = j\n",
    "        x1 = i\n",
    "        y2 = j+b\n",
    "        x2 = i+a\n",
    "        \n",
    "        tile = image[x1:x2,y1:y2]# making crops of each subimage and then storing in tile variable and then appended to cropped_tiles list\n",
    "        vertex = [x1,x2,y1,y2] # list of vertex values of each tiles\n",
    "        cropped_tile_counter +=1\n",
    "        \n",
    "        # Calculating mean for each tile and\n",
    "        mean = np.mean(tile)\n",
    "        \n",
    "        # checking for tiles with wrong dimensions\n",
    "        if tile.shape[0]!=50 or tile.shape[1]!= 50:\n",
    "            wrong_dim_tile_counter += 1\n",
    "        \n",
    "        # Keeping only tiles with correct dimensions # Append the vertex for each of these tiles into vertices list \n",
    "        # Append the correct_tile_counter variable into ctc list\n",
    "        if tile.shape[0] == 50 and tile.shape[1] == 50:\n",
    "            correct_dim_tile_counter +=1\n",
    "            if mean>15:# imposing the mean value filter in order to remove lot of unnecessary background\n",
    "                correct_tile_counter +=1\n",
    "                #cropped_tiles.append(tile)\n",
    "                cropped_tiles.append([correct_tile_counter,tile])\n",
    "                ctc.append(correct_tile_counter)\n",
    "                #print(\"correct_tile_counter:\",correct_tile_counter,\"with vertex:\",vertex)\n",
    "                vertices.append(vertex)\n",
    "                # appending these values into mean_values list\n",
    "                mean_values.append(mean)                        \n",
    "### THE TWO KEY TAKEAWAYS:number of croppedtiles and respective vertex of each cropped tile"
   ]
  },
  {
   "cell_type": "code",
   "execution_count": 5,
   "metadata": {},
   "outputs": [
    {
     "name": "stdout",
     "output_type": "stream",
     "text": [
      "3689\n"
     ]
    }
   ],
   "source": [
    "print(len(cropped_tiles))"
   ]
  },
  {
   "cell_type": "code",
   "execution_count": 6,
   "metadata": {},
   "outputs": [],
   "source": [
    "import pandas as pd\n",
    "\n",
    "# Calling DataFrame constructor after zipping # both lists, with columns specified \n",
    "#cropped_data = pd.DataFrame(list(zip(ctc, vertices)),columns =['Tile_Counter', 'Vertices']) \n",
    "cropped_data = pd.DataFrame(list(zip(ctc, vertices,mean_values)),columns =['Tile_Counter', 'Vertices','mean_values']) \n",
    "#cropped_data"
   ]
  },
  {
   "cell_type": "code",
   "execution_count": 8,
   "metadata": {},
   "outputs": [
    {
     "data": {
      "text/html": [
       "<div>\n",
       "<style scoped>\n",
       "    .dataframe tbody tr th:only-of-type {\n",
       "        vertical-align: middle;\n",
       "    }\n",
       "\n",
       "    .dataframe tbody tr th {\n",
       "        vertical-align: top;\n",
       "    }\n",
       "\n",
       "    .dataframe thead th {\n",
       "        text-align: right;\n",
       "    }\n",
       "</style>\n",
       "<table border=\"1\" class=\"dataframe\">\n",
       "  <thead>\n",
       "    <tr style=\"text-align: right;\">\n",
       "      <th></th>\n",
       "      <th>Tile_Counter</th>\n",
       "      <th>Vertices</th>\n",
       "      <th>mean_values</th>\n",
       "    </tr>\n",
       "  </thead>\n",
       "  <tbody>\n",
       "    <tr>\n",
       "      <th>0</th>\n",
       "      <td>1</td>\n",
       "      <td>[4450, 4500, 7550, 7600]</td>\n",
       "      <td>15.3204</td>\n",
       "    </tr>\n",
       "    <tr>\n",
       "      <th>1</th>\n",
       "      <td>2</td>\n",
       "      <td>[4450, 4500, 7600, 7650]</td>\n",
       "      <td>15.3148</td>\n",
       "    </tr>\n",
       "    <tr>\n",
       "      <th>2</th>\n",
       "      <td>3</td>\n",
       "      <td>[4450, 4500, 7650, 7700]</td>\n",
       "      <td>15.0784</td>\n",
       "    </tr>\n",
       "    <tr>\n",
       "      <th>3</th>\n",
       "      <td>4</td>\n",
       "      <td>[4500, 4550, 7550, 7600]</td>\n",
       "      <td>16.5260</td>\n",
       "    </tr>\n",
       "    <tr>\n",
       "      <th>4</th>\n",
       "      <td>5</td>\n",
       "      <td>[4500, 4550, 7600, 7650]</td>\n",
       "      <td>17.1000</td>\n",
       "    </tr>\n",
       "  </tbody>\n",
       "</table>\n",
       "</div>"
      ],
      "text/plain": [
       "   Tile_Counter                  Vertices  mean_values\n",
       "0             1  [4450, 4500, 7550, 7600]      15.3204\n",
       "1             2  [4450, 4500, 7600, 7650]      15.3148\n",
       "2             3  [4450, 4500, 7650, 7700]      15.0784\n",
       "3             4  [4500, 4550, 7550, 7600]      16.5260\n",
       "4             5  [4500, 4550, 7600, 7650]      17.1000"
      ]
     },
     "execution_count": 8,
     "metadata": {},
     "output_type": "execute_result"
    }
   ],
   "source": [
    "cropped_data.head()"
   ]
  },
  {
   "cell_type": "code",
   "execution_count": 9,
   "metadata": {},
   "outputs": [
    {
     "data": {
      "text/html": [
       "<div>\n",
       "<style scoped>\n",
       "    .dataframe tbody tr th:only-of-type {\n",
       "        vertical-align: middle;\n",
       "    }\n",
       "\n",
       "    .dataframe tbody tr th {\n",
       "        vertical-align: top;\n",
       "    }\n",
       "\n",
       "    .dataframe thead th {\n",
       "        text-align: right;\n",
       "    }\n",
       "</style>\n",
       "<table border=\"1\" class=\"dataframe\">\n",
       "  <thead>\n",
       "    <tr style=\"text-align: right;\">\n",
       "      <th></th>\n",
       "      <th>Tile_Counter</th>\n",
       "      <th>Vertices</th>\n",
       "      <th>mean_values</th>\n",
       "    </tr>\n",
       "  </thead>\n",
       "  <tbody>\n",
       "    <tr>\n",
       "      <th>0</th>\n",
       "      <td>1</td>\n",
       "      <td>[4450, 4500, 7550, 7600]</td>\n",
       "      <td>15.3204</td>\n",
       "    </tr>\n",
       "    <tr>\n",
       "      <th>1</th>\n",
       "      <td>2</td>\n",
       "      <td>[4450, 4500, 7600, 7650]</td>\n",
       "      <td>15.3148</td>\n",
       "    </tr>\n",
       "    <tr>\n",
       "      <th>2</th>\n",
       "      <td>3</td>\n",
       "      <td>[4450, 4500, 7650, 7700]</td>\n",
       "      <td>15.0784</td>\n",
       "    </tr>\n",
       "    <tr>\n",
       "      <th>3</th>\n",
       "      <td>4</td>\n",
       "      <td>[4500, 4550, 7550, 7600]</td>\n",
       "      <td>16.5260</td>\n",
       "    </tr>\n",
       "    <tr>\n",
       "      <th>4</th>\n",
       "      <td>5</td>\n",
       "      <td>[4500, 4550, 7600, 7650]</td>\n",
       "      <td>17.1000</td>\n",
       "    </tr>\n",
       "    <tr>\n",
       "      <th>...</th>\n",
       "      <td>...</td>\n",
       "      <td>...</td>\n",
       "      <td>...</td>\n",
       "    </tr>\n",
       "    <tr>\n",
       "      <th>3684</th>\n",
       "      <td>3685</td>\n",
       "      <td>[8550, 8600, 4950, 5000]</td>\n",
       "      <td>17.1160</td>\n",
       "    </tr>\n",
       "    <tr>\n",
       "      <th>3685</th>\n",
       "      <td>3686</td>\n",
       "      <td>[8550, 8600, 5000, 5050]</td>\n",
       "      <td>16.7952</td>\n",
       "    </tr>\n",
       "    <tr>\n",
       "      <th>3686</th>\n",
       "      <td>3687</td>\n",
       "      <td>[8550, 8600, 5050, 5100]</td>\n",
       "      <td>16.8088</td>\n",
       "    </tr>\n",
       "    <tr>\n",
       "      <th>3687</th>\n",
       "      <td>3688</td>\n",
       "      <td>[8600, 8650, 4950, 5000]</td>\n",
       "      <td>15.7060</td>\n",
       "    </tr>\n",
       "    <tr>\n",
       "      <th>3688</th>\n",
       "      <td>3689</td>\n",
       "      <td>[8600, 8650, 5000, 5050]</td>\n",
       "      <td>16.8320</td>\n",
       "    </tr>\n",
       "  </tbody>\n",
       "</table>\n",
       "<p>3689 rows × 3 columns</p>\n",
       "</div>"
      ],
      "text/plain": [
       "      Tile_Counter                  Vertices  mean_values\n",
       "0                1  [4450, 4500, 7550, 7600]      15.3204\n",
       "1                2  [4450, 4500, 7600, 7650]      15.3148\n",
       "2                3  [4450, 4500, 7650, 7700]      15.0784\n",
       "3                4  [4500, 4550, 7550, 7600]      16.5260\n",
       "4                5  [4500, 4550, 7600, 7650]      17.1000\n",
       "...            ...                       ...          ...\n",
       "3684          3685  [8550, 8600, 4950, 5000]      17.1160\n",
       "3685          3686  [8550, 8600, 5000, 5050]      16.7952\n",
       "3686          3687  [8550, 8600, 5050, 5100]      16.8088\n",
       "3687          3688  [8600, 8650, 4950, 5000]      15.7060\n",
       "3688          3689  [8600, 8650, 5000, 5050]      16.8320\n",
       "\n",
       "[3689 rows x 3 columns]"
      ]
     },
     "execution_count": 9,
     "metadata": {},
     "output_type": "execute_result"
    }
   ],
   "source": [
    "#cropped_data.loc[cropped_data['Tile_Counter'] == 21555] #searching rows based on specific values\n",
    "cropped_data.loc[cropped_data['mean_values'] > 15] "
   ]
  },
  {
   "cell_type": "code",
   "execution_count": 10,
   "metadata": {},
   "outputs": [],
   "source": [
    "import pickle\n",
    "with open('global_xy_MG48_3day_bs_S051.pkl', 'wb') as g:\n",
    "    pickle.dump(cropped_data, g)"
   ]
  },
  {
   "cell_type": "code",
   "execution_count": 11,
   "metadata": {},
   "outputs": [
    {
     "name": "stdout",
     "output_type": "stream",
     "text": [
      "Total number of tiles: 39537\n",
      "Wasted tiles due boundary conditions: 1.0041227204896679 %\n",
      "Useless background tiles: 89.66537673571591 %\n",
      "Useful tiles: 9.33050054379442 %\n"
     ]
    }
   ],
   "source": [
    "print(\"Total number of tiles:\",cropped_tile_counter)\n",
    "print(\"Wasted tiles due boundary conditions:\",(wrong_dim_tile_counter/cropped_tile_counter)*100,\"%\")\n",
    "print(\"Useless background tiles:\",(correct_dim_tile_counter - correct_tile_counter)/cropped_tile_counter*100,\"%\")\n",
    "print(\"Useful tiles:\",(correct_tile_counter/cropped_tile_counter)*100,\"%\")\n"
   ]
  },
  {
   "cell_type": "code",
   "execution_count": 12,
   "metadata": {},
   "outputs": [
    {
     "name": "stdout",
     "output_type": "stream",
     "text": [
      "3689\n",
      "1001\n"
     ]
    }
   ],
   "source": [
    "print(len(cropped_tiles))\n",
    "print(cropped_tiles[1000][0])"
   ]
  },
  {
   "cell_type": "markdown",
   "metadata": {},
   "source": [
    "## Saving useful tiles that are sequentially cropped and are of correct dimensions and qualify mean value filter"
   ]
  },
  {
   "cell_type": "code",
   "execution_count": 13,
   "metadata": {},
   "outputs": [],
   "source": [
    "# Saving the tiles in a respective folder\n",
    "\n",
    "Dest_Path = '//ibs9010/current_data/Data_Keshav/Cropped_Images/S051/allcroppedtiles/'\n",
    "#Dest_Path = '/Users/keshavaprasad/Desktop/image/S25/'\n",
    "for k in range(len(cropped_tiles)):\n",
    "        pass\n",
    "        #print(\"K:\",k)\n",
    "        #cv2.imwrite(str(k)+ \".tif\", tiles[k])\n",
    "        cv2.imwrite(os.path.join(Dest_Path,str(k)+\".tif\"), cropped_tiles[k][1])"
   ]
  },
  {
   "cell_type": "code",
   "execution_count": null,
   "metadata": {},
   "outputs": [],
   "source": []
  }
 ],
 "metadata": {
  "kernelspec": {
   "display_name": "Python 3",
   "language": "python",
   "name": "python3"
  },
  "language_info": {
   "codemirror_mode": {
    "name": "ipython",
    "version": 3
   },
   "file_extension": ".py",
   "mimetype": "text/x-python",
   "name": "python",
   "nbconvert_exporter": "python",
   "pygments_lexer": "ipython3",
   "version": "3.7.7"
  },
  "varInspector": {
   "cols": {
    "lenName": 16,
    "lenType": 16,
    "lenVar": 40
   },
   "kernels_config": {
    "python": {
     "delete_cmd_postfix": "",
     "delete_cmd_prefix": "del ",
     "library": "var_list.py",
     "varRefreshCmd": "print(var_dic_list())"
    },
    "r": {
     "delete_cmd_postfix": ") ",
     "delete_cmd_prefix": "rm(",
     "library": "var_list.r",
     "varRefreshCmd": "cat(var_dic_list()) "
    }
   },
   "types_to_exclude": [
    "module",
    "function",
    "builtin_function_or_method",
    "instance",
    "_Feature"
   ],
   "window_display": false
  }
 },
 "nbformat": 4,
 "nbformat_minor": 2
}
