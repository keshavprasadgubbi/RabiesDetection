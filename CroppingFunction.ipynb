{
 "cells": [
  {
   "cell_type": "markdown",
   "metadata": {},
   "source": [
    "# Implementing the cropping function\n",
    "\n",
    "## The various sub-tasks involved are :\n",
    "\n",
    "* Get shape of the big image : (p,q)\n",
    "* Define the size of the tile : (a,b) = (50,50)\n",
    "* Determine the number of useful tiles; ensure all tiles are of equal size (a,b) and discard the ones that arent - Might lose a few due to boundary conditions but thats okay!\n",
    "* Carry out Cropping of the tiles sequentially! \n",
    "* Obtain the vertex of the each of the cropped tiles.\n",
    "* Save each of these cropped tiles in respective folder."
   ]
  },
  {
   "cell_type": "code",
   "execution_count": 12,
   "metadata": {},
   "outputs": [],
   "source": [
    "#Import Stuff \n",
    "import os\n",
    "import cv2\n",
    "import math\n",
    "import numpy as np\n",
    "import pandas as pd"
   ]
  },
  {
   "cell_type": "code",
   "execution_count": 15,
   "metadata": {},
   "outputs": [],
   "source": [
    "#Read the image\n",
    "#source_path = '/Users/keshavaprasad/Desktop/image/MG48_3day_bs/testingcrop/S051_00.tif'\n",
    "#source_path = '/Users/keshavaprasad/Desktop/image/S25/S25_00.tif'\n",
    "source_path='//ibs9010/current_data/Data_Keshav/masked_for_rabies_auto_detection/MG48_3day_bs/Image/pia_only/S051.tif'\n",
    "image=cv2.imread(source_path)"
   ]
  },
  {
   "cell_type": "code",
   "execution_count": 16,
   "metadata": {},
   "outputs": [
    {
     "ename": "AttributeError",
     "evalue": "'NoneType' object has no attribute 'shape'",
     "output_type": "error",
     "traceback": [
      "\u001b[1;31m---------------------------------------------------------------------------\u001b[0m",
      "\u001b[1;31mAttributeError\u001b[0m                            Traceback (most recent call last)",
      "\u001b[1;32m<ipython-input-16-07bb2d55199f>\u001b[0m in \u001b[0;36m<module>\u001b[1;34m\u001b[0m\n\u001b[0;32m      1\u001b[0m \u001b[1;31m# Image Basics\u001b[0m\u001b[1;33m\u001b[0m\u001b[1;33m\u001b[0m\u001b[1;33m\u001b[0m\u001b[0m\n\u001b[1;32m----> 2\u001b[1;33m \u001b[0mprint\u001b[0m\u001b[1;33m(\u001b[0m\u001b[0mimage\u001b[0m\u001b[1;33m.\u001b[0m\u001b[0mshape\u001b[0m\u001b[1;33m)\u001b[0m\u001b[1;33m\u001b[0m\u001b[1;33m\u001b[0m\u001b[0m\n\u001b[0m\u001b[0;32m      3\u001b[0m \u001b[1;31m# Get Shape\u001b[0m\u001b[1;33m\u001b[0m\u001b[1;33m\u001b[0m\u001b[1;33m\u001b[0m\u001b[0m\n\u001b[0;32m      4\u001b[0m \u001b[0mp\u001b[0m \u001b[1;33m=\u001b[0m \u001b[0mimage\u001b[0m\u001b[1;33m.\u001b[0m\u001b[0mshape\u001b[0m\u001b[1;33m[\u001b[0m\u001b[1;36m0\u001b[0m\u001b[1;33m]\u001b[0m\u001b[1;31m# p\u001b[0m\u001b[1;33m\u001b[0m\u001b[1;33m\u001b[0m\u001b[0m\n\u001b[0;32m      5\u001b[0m \u001b[0mq\u001b[0m \u001b[1;33m=\u001b[0m \u001b[0mimage\u001b[0m\u001b[1;33m.\u001b[0m\u001b[0mshape\u001b[0m\u001b[1;33m[\u001b[0m\u001b[1;36m1\u001b[0m\u001b[1;33m]\u001b[0m\u001b[1;31m#q\u001b[0m\u001b[1;33m\u001b[0m\u001b[1;33m\u001b[0m\u001b[0m\n",
      "\u001b[1;31mAttributeError\u001b[0m: 'NoneType' object has no attribute 'shape'"
     ]
    }
   ],
   "source": [
    "# Image Basics\n",
    "print(image.shape)\n",
    "# Get Shape\n",
    "p = image.shape[0]# p\n",
    "q = image.shape[1]#q\n",
    "print(\"Height:\",p,\"Width:\",q)\n",
    "\n",
    "# Defining the dimensions of a tile \n",
    "#a = b = 50\n",
    "a = b = 70\n",
    "#************************\n",
    "cropped_tiles = [] #list for storing all cropped tile images\n",
    "vertices = [] #list for storing lists of vertex values # Defining vertices of tiles for cropping\n",
    "ctc = []#list for storing lists of tile numbers\n",
    "#cropped_tile_list = []\n",
    "background_cropped_tiles = [] #list for storing background tile images\n",
    "# Cropping image Sequentially\n",
    "i = j = cropped_tile_counter = correct_tile_counter = wrong_dim_tile_counter = correct_dim_tile_counter= 0\n"
   ]
  },
  {
   "cell_type": "code",
   "execution_count": 4,
   "metadata": {},
   "outputs": [],
   "source": [
    "# Carry oout the sequential cropping store data into respective lists\n",
    "for i in range(0,math.floor(p),a):#range(start, stop, step) # to get the resolution right!\n",
    "    for j in range(0,math.floor(q),b):\n",
    "        #Defining the cropping box\n",
    "        #tile = image[j:j+b,i:i+a]#y1: y2, x1: x2\n",
    "        y1 = j\n",
    "        x1 = i\n",
    "        y2 = j+b\n",
    "        x2 = i+a\n",
    "        \n",
    "        tile = image[x1:x2,y1:y2]# making crops of each subimage and then storing in tile variable and then appended to cropped_tiles list\n",
    "        vertex = [x1,x2,y1,y2] # list of vertex values of each tiles\n",
    "        cropped_tile_counter +=1\n",
    "        \n",
    "        # Calculating mean for each tile and\n",
    "        #mean = np.mean(tile)\n",
    "        \n",
    "        # checking for tiles with wrong dimensions\n",
    "        #if tile.shape[0]!=50 or tile.shape[1]!= 50:\n",
    "        if tile.shape[0]!=70 or tile.shape[1]!= 70:\n",
    "            wrong_dim_tile_counter += 1\n",
    "        \n",
    "        # Keeping only tiles with correct dimensions # Append the vertex for each of these tiles into vertices list \n",
    "        # Append the correct_tile_counter variable into ctc list\n",
    "        \n",
    "        #if tile.shape[0] == 50 and tile.shape[1] == 50:\n",
    "        if tile.shape[0] == 70 and tile.shape[1] == 70 and not np.all((np.array(tile) == 0)):\n",
    "            correct_dim_tile_counter +=1\n",
    "           \n",
    "            correct_tile_counter +=1\n",
    "            #cropped_tiles.append(tile)\n",
    "            cropped_tiles.append(cropped_tile_counter)\n",
    "            ctc.append(correct_tile_counter)\n",
    "            #ctc.append([cropped_tile_counter,correct_tile_counter])\n",
    "            #print(\"correct_tile_counter:\",correct_tile_counter,\"with vertex:\",vertex)\n",
    "            vertices.append(vertex)                        \n",
    "### THE TWO KEY TAKEAWAYS:number of croppedtiles and respective vertex of each cropped tile"
   ]
  },
  {
   "cell_type": "code",
   "execution_count": 5,
   "metadata": {},
   "outputs": [
    {
     "name": "stdout",
     "output_type": "stream",
     "text": [
      "4833\n"
     ]
    }
   ],
   "source": [
    "print(len(cropped_tiles))"
   ]
  },
  {
   "cell_type": "code",
   "execution_count": 6,
   "metadata": {},
   "outputs": [
    {
     "name": "stdout",
     "output_type": "stream",
     "text": [
      "4833\n"
     ]
    }
   ],
   "source": [
    "print(len(ctc))"
   ]
  },
  {
   "cell_type": "code",
   "execution_count": 7,
   "metadata": {},
   "outputs": [],
   "source": [
    "# Calling DataFrame constructor after zipping # both lists, with columns specified \n",
    "#cropped_data = pd.DataFrame(list(zip(ctc, vertices)),columns =['Tile_Counter', 'Vertices']) \n",
    "cropped_data = pd.DataFrame(list(zip(cropped_tiles,ctc, vertices)),columns =['Cropped_Tile_Counter','Correct_Tile_Counter', 'Vertices']) \n",
    "#cropped_data"
   ]
  },
  {
   "cell_type": "code",
   "execution_count": 8,
   "metadata": {},
   "outputs": [
    {
     "data": {
      "text/html": [
       "<div>\n",
       "<style scoped>\n",
       "    .dataframe tbody tr th:only-of-type {\n",
       "        vertical-align: middle;\n",
       "    }\n",
       "\n",
       "    .dataframe tbody tr th {\n",
       "        vertical-align: top;\n",
       "    }\n",
       "\n",
       "    .dataframe thead th {\n",
       "        text-align: right;\n",
       "    }\n",
       "</style>\n",
       "<table border=\"1\" class=\"dataframe\">\n",
       "  <thead>\n",
       "    <tr style=\"text-align: right;\">\n",
       "      <th></th>\n",
       "      <th>Cropped_Tile_Counter</th>\n",
       "      <th>Correct_Tile_Counter</th>\n",
       "      <th>Vertices</th>\n",
       "    </tr>\n",
       "  </thead>\n",
       "  <tbody>\n",
       "    <tr>\n",
       "      <th>0</th>\n",
       "      <td>9283</td>\n",
       "      <td>1</td>\n",
       "      <td>[4340, 4410, 7420, 7490]</td>\n",
       "    </tr>\n",
       "    <tr>\n",
       "      <th>1</th>\n",
       "      <td>9284</td>\n",
       "      <td>2</td>\n",
       "      <td>[4340, 4410, 7490, 7560]</td>\n",
       "    </tr>\n",
       "    <tr>\n",
       "      <th>2</th>\n",
       "      <td>9285</td>\n",
       "      <td>3</td>\n",
       "      <td>[4340, 4410, 7560, 7630]</td>\n",
       "    </tr>\n",
       "    <tr>\n",
       "      <th>3</th>\n",
       "      <td>9286</td>\n",
       "      <td>4</td>\n",
       "      <td>[4340, 4410, 7630, 7700]</td>\n",
       "    </tr>\n",
       "    <tr>\n",
       "      <th>4</th>\n",
       "      <td>9287</td>\n",
       "      <td>5</td>\n",
       "      <td>[4340, 4410, 7700, 7770]</td>\n",
       "    </tr>\n",
       "    <tr>\n",
       "      <th>...</th>\n",
       "      <td>...</td>\n",
       "      <td>...</td>\n",
       "      <td>...</td>\n",
       "    </tr>\n",
       "    <tr>\n",
       "      <th>4828</th>\n",
       "      <td>18578</td>\n",
       "      <td>4829</td>\n",
       "      <td>[8750, 8820, 5390, 5460]</td>\n",
       "    </tr>\n",
       "    <tr>\n",
       "      <th>4829</th>\n",
       "      <td>18579</td>\n",
       "      <td>4830</td>\n",
       "      <td>[8750, 8820, 5460, 5530]</td>\n",
       "    </tr>\n",
       "    <tr>\n",
       "      <th>4830</th>\n",
       "      <td>18580</td>\n",
       "      <td>4831</td>\n",
       "      <td>[8750, 8820, 5530, 5600]</td>\n",
       "    </tr>\n",
       "    <tr>\n",
       "      <th>4831</th>\n",
       "      <td>18581</td>\n",
       "      <td>4832</td>\n",
       "      <td>[8750, 8820, 5600, 5670]</td>\n",
       "    </tr>\n",
       "    <tr>\n",
       "      <th>4832</th>\n",
       "      <td>18582</td>\n",
       "      <td>4833</td>\n",
       "      <td>[8750, 8820, 5670, 5740]</td>\n",
       "    </tr>\n",
       "  </tbody>\n",
       "</table>\n",
       "<p>4833 rows × 3 columns</p>\n",
       "</div>"
      ],
      "text/plain": [
       "      Cropped_Tile_Counter  Correct_Tile_Counter                  Vertices\n",
       "0                     9283                     1  [4340, 4410, 7420, 7490]\n",
       "1                     9284                     2  [4340, 4410, 7490, 7560]\n",
       "2                     9285                     3  [4340, 4410, 7560, 7630]\n",
       "3                     9286                     4  [4340, 4410, 7630, 7700]\n",
       "4                     9287                     5  [4340, 4410, 7700, 7770]\n",
       "...                    ...                   ...                       ...\n",
       "4828                 18578                  4829  [8750, 8820, 5390, 5460]\n",
       "4829                 18579                  4830  [8750, 8820, 5460, 5530]\n",
       "4830                 18580                  4831  [8750, 8820, 5530, 5600]\n",
       "4831                 18581                  4832  [8750, 8820, 5600, 5670]\n",
       "4832                 18582                  4833  [8750, 8820, 5670, 5740]\n",
       "\n",
       "[4833 rows x 3 columns]"
      ]
     },
     "execution_count": 8,
     "metadata": {},
     "output_type": "execute_result"
    }
   ],
   "source": [
    "cropped_data"
   ]
  },
  {
   "cell_type": "code",
   "execution_count": null,
   "metadata": {},
   "outputs": [],
   "source": [
    "#cropped_data.loc[cropped_data['Tile_Counter'] == 21555] #searching rows based on specific values\n",
    "#cropped_data.loc[cropped_data['mean_values'] > 15] "
   ]
  },
  {
   "cell_type": "code",
   "execution_count": 9,
   "metadata": {},
   "outputs": [],
   "source": [
    "import pickle\n",
    "with open('global_xy_MG48_3day_bs_S51_bigtile_piamasked.pkl', 'wb') as g:\n",
    "    pickle.dump(cropped_data, g)"
   ]
  },
  {
   "cell_type": "code",
   "execution_count": 10,
   "metadata": {},
   "outputs": [
    {
     "name": "stdout",
     "output_type": "stream",
     "text": [
      "Total number of tiles: 20276\n",
      "Wasted tiles due boundary conditions: 1.4006707437364372 %\n",
      "Useless background tiles: 0.0 %\n",
      "Useful tiles: 23.836062339711976 %\n"
     ]
    }
   ],
   "source": [
    "print(\"Total number of tiles:\",cropped_tile_counter)\n",
    "print(\"Wasted tiles due boundary conditions:\",(wrong_dim_tile_counter/cropped_tile_counter)*100,\"%\")\n",
    "print(\"Useless background tiles:\",(correct_dim_tile_counter - correct_tile_counter)/cropped_tile_counter*100,\"%\")\n",
    "print(\"Useful tiles:\",(correct_tile_counter/cropped_tile_counter)*100,\"%\")\n"
   ]
  },
  {
   "cell_type": "markdown",
   "metadata": {},
   "source": [
    "## Saving useful tiles that are sequentially cropped"
   ]
  },
  {
   "cell_type": "code",
   "execution_count": null,
   "metadata": {},
   "outputs": [],
   "source": [
    "\n",
    "#Dest_Path = '//ibs9010/current_data/Data_Keshav/image/Classification_model/testingcrop/S052/'\n",
    "Dest_Path = '//ibs9010/current_data/Data_Keshav/Cropped_Images/S51/'\n",
    "#Dest_Path = '/Users/keshavaprasad/Desktop/image/S25/'\n",
    "\n",
    "# Delete all exiting images\n",
    "import glob\n",
    "os.chdir(Dest_Path)\n",
    "files=glob.glob('*.tif')\n",
    "for filename in files:\n",
    "    os.unlink(filename)\n",
    "# Saving the tiles in a respective folder    \n",
    "for k in range(len(cropped_tiles)):\n",
    "        pass\n",
    "        #print(\"K:\",k)\n",
    "        #cv2.imwrite(str(k)+ \".tif\", tiles[k])\n",
    "        cv2.imwrite(os.path.join(Dest_Path,str(k)+\".tif\"), cropped_tiles[k][1])"
   ]
  },
  {
   "cell_type": "code",
   "execution_count": null,
   "metadata": {},
   "outputs": [],
   "source": []
  }
 ],
 "metadata": {
  "kernelspec": {
   "display_name": "Python 3",
   "language": "python",
   "name": "python3"
  },
  "language_info": {
   "codemirror_mode": {
    "name": "ipython",
    "version": 3
   },
   "file_extension": ".py",
   "mimetype": "text/x-python",
   "name": "python",
   "nbconvert_exporter": "python",
   "pygments_lexer": "ipython3",
   "version": "3.7.7"
  },
  "varInspector": {
   "cols": {
    "lenName": 16,
    "lenType": 16,
    "lenVar": 40
   },
   "kernels_config": {
    "python": {
     "delete_cmd_postfix": "",
     "delete_cmd_prefix": "del ",
     "library": "var_list.py",
     "varRefreshCmd": "print(var_dic_list())"
    },
    "r": {
     "delete_cmd_postfix": ") ",
     "delete_cmd_prefix": "rm(",
     "library": "var_list.r",
     "varRefreshCmd": "cat(var_dic_list()) "
    }
   },
   "types_to_exclude": [
    "module",
    "function",
    "builtin_function_or_method",
    "instance",
    "_Feature"
   ],
   "window_display": false
  }
 },
 "nbformat": 4,
 "nbformat_minor": 2
}
