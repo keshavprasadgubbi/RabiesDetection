{
 "cells": [
  {
   "cell_type": "markdown",
   "metadata": {},
   "source": [
    "# Implementing the cropping function\n",
    "\n",
    "## The various sub-tasks involved are :\n",
    "\n",
    "* Get shape of the big image : (p,q)\n",
    "* Define the size of the tile : (a,b) = (50,50)\n",
    "* Determine the number of useful tiles; ensure all tiles are of equal size (a,b) and discard the ones that arent - Might lose a few due to boundary conditions but thats okay!\n",
    "* Carry out Cropping of the tiles sequentially! \n",
    "* Obtain the vertex of the each of the cropped tiles.\n",
    "* Save each of these cropped tiles in respective folder."
   ]
  },
  {
   "cell_type": "code",
   "execution_count": 1,
   "metadata": {},
   "outputs": [],
   "source": [
    "#Import Stuff \n",
    "import os\n",
    "import cv2\n",
    "import math\n",
    "import numpy as np\n",
    "import pandas as pd\n",
    "import pickle"
   ]
  },
  {
   "cell_type": "code",
   "execution_count": null,
   "metadata": {},
   "outputs": [
    {
     "name": "stdout",
     "output_type": "stream",
     "text": [
      "1\n",
      "(3882, 6494, 3)\n",
      "Height: 3882 Width: 6494\n",
      "Total number of tiles: 5208\n",
      "Wasted tiles due boundary conditions: 2.8417818740399383 %\n",
      "Useless background tiles: 0.0 %\n",
      "tiles with tissue: 43.24116743471582 %\n",
      "2\n",
      "(3890, 6568, 3)\n",
      "Height: 3890 Width: 6568\n",
      "Total number of tiles: 5264\n",
      "Wasted tiles due boundary conditions: 2.830547112462006 %\n",
      "Useless background tiles: 0.0 %\n",
      "tiles with tissue: 42.32522796352583 %\n",
      "3\n",
      "(3872, 6543, 3)\n",
      "Height: 3872 Width: 6543\n",
      "Total number of tiles: 5264\n",
      "Wasted tiles due boundary conditions: 2.830547112462006 %\n",
      "Useless background tiles: 0.0 %\n",
      "tiles with tissue: 44.338905775075986 %\n",
      "4\n",
      "(3877, 6539, 3)\n",
      "Height: 3877 Width: 6539\n",
      "Total number of tiles: 5264\n",
      "Wasted tiles due boundary conditions: 2.830547112462006 %\n",
      "Useless background tiles: 0.0 %\n",
      "tiles with tissue: 44.148936170212764 %\n"
     ]
    }
   ],
   "source": [
    "#Read the image\n",
    "#source_path = '/Users/keshavaprasad/Desktop/image/MG48_3day_bs/testingcrop/S051_00.tif'\n",
    "#source_path = '/Users/keshavaprasad/Desktop/image/S25/S25_00.tif'\n",
    "for x in range(1,100):\n",
    "    print(x)\n",
    "    source_path='//ibs9010/current_data/Data_Keshav/masked_for_rabies_auto_detection/MG48_3day_bs/Image/pia_only/S{}_Pia_Only.tif'.format(x)\n",
    "    image=cv2.imread(source_path)\n",
    "    \n",
    "        # Image Basics\n",
    "    print(image.shape)\n",
    "    # Get Shape\n",
    "    p = image.shape[0]# p\n",
    "    q = image.shape[1]#q\n",
    "    print(\"Height:\",p,\"Width:\",q)\n",
    "\n",
    "    # Defining the dimensions of a tile \n",
    "    #a = b = 50\n",
    "    a = b = 70\n",
    "    #************************\n",
    "    cropped_tile_images = [] #list for storing all cropped tile images\n",
    "    vertices = [] #list for storing lists of vertex values # Defining vertices of tiles for cropping\n",
    "    ctc = []#list for storing lists of tile numbers\n",
    "    # Cropping image Sequentially\n",
    "    i = j = cropped_tile_counter = correct_tile_counter = wrong_dim_tile_counter = correct_dim_tile_counter= 0\n",
    "    \n",
    "    \n",
    "    # Carry oout the sequential cropping store data into respective lists\n",
    "    for i in range(0,math.floor(p),a):#range(start, stop, step) # to get the resolution right!\n",
    "        for j in range(0,math.floor(q),b):\n",
    "            #Defining the cropping box\n",
    "            #tile = image[j:j+b,i:i+a]#y1: y2, x1: x2\n",
    "            y1 = j\n",
    "            x1 = i\n",
    "            y2 = j+b\n",
    "            x2 = i+a\n",
    "\n",
    "            tile = image[x1:x2,y1:y2]# making crops of each subimage and then storing in tile variable and then appended to cropped_tiles list\n",
    "            vertex = [x1,x2,y1,y2] # list of vertex values of each tiles\n",
    "            cropped_tile_counter +=1\n",
    "\n",
    "            # Calculating mean for each tile and\n",
    "            #mean = np.mean(tile)\n",
    "\n",
    "            # checking for tiles with wrong dimensions\n",
    "            #if tile.shape[0]!=50 or tile.shape[1]!= 50:\n",
    "            if tile.shape[0]!=70 or tile.shape[1]!= 70:\n",
    "                wrong_dim_tile_counter += 1\n",
    "\n",
    "            # Keeping only tiles with correct dimensions # Append the vertex for each of these tiles into vertices list \n",
    "            # Append the correct_tile_counter variable into ctc list\n",
    "\n",
    "            #if tile.shape[0] == 50 and tile.shape[1] == 50:\n",
    "            if tile.shape[0] == 70 and tile.shape[1] == 70 and not np.all((np.array(tile) == 0)):\n",
    "                correct_dim_tile_counter +=1\n",
    "                correct_tile_counter +=1\n",
    "                #cropped_tiles.append(tile)\n",
    "                cropped_tile_images.append(tile)\n",
    "                #ctc.append([cropped_tile_counter,correct_tile_counter])\n",
    "                ctc.append(correct_tile_counter)\n",
    "                #print(\"correct_tile_counter:\",correct_tile_counter,\"with vertex:\",vertex)\n",
    "                vertices.append(vertex)  \n",
    "\n",
    "        \n",
    "\n",
    "    # Calling DataFrame constructor after zipping # both lists, with columns specified \n",
    "    cropped_data = pd.DataFrame(list(zip(ctc, vertices)),columns =['Tile_Counter', 'Vertices']) \n",
    "    #cropped_data = pd.DataFrame(list(zip(cropped_tiles,ctc, vertices)),columns =['Cropped_Tile_Counter','Correct_Tile_Counter', 'Vertices']) \n",
    "    #cropped_data cropped_data\n",
    "    cropped_data\n",
    "\n",
    "    \n",
    "    pickle_path = '//ibs9010/current_data/Data_Keshav/image/Classification_model/'\n",
    "    \n",
    "    with open(pickle_path + 'global_xy_MG48_3day_bs_S{}_bigtile_piamasked.pkl'.format(x), 'wb') as g:\n",
    "        pickle.dump(cropped_data, g)\n",
    "        \n",
    "        \n",
    "    print(\"Total number of tiles:\",cropped_tile_counter)\n",
    "    print(\"Wasted tiles due boundary conditions:\",(wrong_dim_tile_counter/cropped_tile_counter)*100,\"%\")\n",
    "    print(\"Useless background tiles:\",(correct_dim_tile_counter - correct_tile_counter)/cropped_tile_counter*100,\"%\")\n",
    "    print(\"tiles with tissue:\",(correct_tile_counter/cropped_tile_counter)*100,\"%\")\n",
    "    \n",
    "    # Saving the tiles in a respective folder\n",
    "    #Dest_folder = \"//ibs9010/current_data/Data_Keshaviimage/Classification_model/testingcrop/\"\n",
    "    Dest_Path = '//ibs9010/current_data/Data_Keshav/Cropped_Images//S{}/'.format(x)\n",
    "    \n",
    "    if not os.path.exists(Dest_Path):\n",
    "       print(\"path doesn't exist. trying to make the folder.\")\n",
    "       os.makedirs(Dest_Path)\n",
    "\n",
    "    #Dest_Path = '/Users/keshavaprasad/Desktop/image/S25/'\n",
    "    # Saving the tiles in a respective folder    \n",
    "    for k in range(1,len(cropped_tile_images)):\n",
    "        #pass\n",
    "        #print(\"K:\",k)\n",
    "        #cv2.imwrite(str(k)+ \".tif\", tiles[k])\n",
    "        cv2.imwrite(os.path.join(Dest_Path,str(k)+\".tif\"), cropped_tile_images[k])"
   ]
  },
  {
   "cell_type": "code",
   "execution_count": null,
   "metadata": {},
   "outputs": [],
   "source": [
    "import os\n",
    "from os.path import expanduser\n",
    "\n",
    "home = expanduser('~')\n",
    "\n",
    "dl_path = home + '/Downloads/PDMB'\n",
    "\n",
    "def main():\n",
    "    if not os.path.exists(dl_path):\n",
    "       print \"path doesn't exist. trying to make\"\n",
    "       os.makedirs(dl_path)\n",
    "\n",
    "\n",
    "\n",
    " if __name__ == '__main__':\n",
    "    main()\n"
   ]
  },
  {
   "cell_type": "code",
   "execution_count": null,
   "metadata": {},
   "outputs": [],
   "source": []
  },
  {
   "cell_type": "code",
   "execution_count": null,
   "metadata": {},
   "outputs": [],
   "source": [
    "print(len(cropped_tiles))"
   ]
  },
  {
   "cell_type": "code",
   "execution_count": null,
   "metadata": {},
   "outputs": [],
   "source": []
  },
  {
   "cell_type": "code",
   "execution_count": null,
   "metadata": {},
   "outputs": [],
   "source": [
    "cropped_data"
   ]
  },
  {
   "cell_type": "code",
   "execution_count": null,
   "metadata": {},
   "outputs": [],
   "source": [
    "#cropped_data.loc[cropped_data['Tile_Counter'] == 21555] #searching rows based on specific values\n",
    "#cropped_data.loc[cropped_data['mean_values'] > 15] "
   ]
  },
  {
   "cell_type": "code",
   "execution_count": null,
   "metadata": {},
   "outputs": [],
   "source": []
  },
  {
   "cell_type": "code",
   "execution_count": null,
   "metadata": {},
   "outputs": [],
   "source": [
    "\n"
   ]
  },
  {
   "cell_type": "code",
   "execution_count": null,
   "metadata": {},
   "outputs": [],
   "source": [
    "print(len(cropped_tiles))\n",
    "#print(cropped_tiles[1000][0])"
   ]
  },
  {
   "cell_type": "markdown",
   "metadata": {},
   "source": [
    "## Saving useful tiles that are sequentially cropped and are of correct dimensions and qualify mean value filter"
   ]
  },
  {
   "cell_type": "code",
   "execution_count": null,
   "metadata": {},
   "outputs": [],
   "source": []
  },
  {
   "cell_type": "code",
   "execution_count": null,
   "metadata": {},
   "outputs": [],
   "source": []
  }
 ],
 "metadata": {
  "kernelspec": {
   "display_name": "Python 3",
   "language": "python",
   "name": "python3"
  },
  "language_info": {
   "codemirror_mode": {
    "name": "ipython",
    "version": 3
   },
   "file_extension": ".py",
   "mimetype": "text/x-python",
   "name": "python",
   "nbconvert_exporter": "python",
   "pygments_lexer": "ipython3",
   "version": "3.7.7"
  },
  "varInspector": {
   "cols": {
    "lenName": 16,
    "lenType": 16,
    "lenVar": 40
   },
   "kernels_config": {
    "python": {
     "delete_cmd_postfix": "",
     "delete_cmd_prefix": "del ",
     "library": "var_list.py",
     "varRefreshCmd": "print(var_dic_list())"
    },
    "r": {
     "delete_cmd_postfix": ") ",
     "delete_cmd_prefix": "rm(",
     "library": "var_list.r",
     "varRefreshCmd": "cat(var_dic_list()) "
    }
   },
   "types_to_exclude": [
    "module",
    "function",
    "builtin_function_or_method",
    "instance",
    "_Feature"
   ],
   "window_display": false
  }
 },
 "nbformat": 4,
 "nbformat_minor": 2
}
