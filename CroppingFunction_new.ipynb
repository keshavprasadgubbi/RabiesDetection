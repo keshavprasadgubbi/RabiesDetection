{
 "cells": [
  {
   "cell_type": "markdown",
   "metadata": {},
   "source": [
    "# Implementing the cropping function\n",
    "\n",
    "## The various sub-tasks involved are :\n",
    "\n",
    "* Get shape of the big image : (p,q)\n",
    "* Define the size of the tile : (a,b) = (50,50)\n",
    "* Determine the number of useful tiles; ensure all tiles are of equal size (a,b) and discard the ones that arent - Might lose a few due to boundary conditions but thats okay!\n",
    "* Carry out Cropping of the tiles sequentially! \n",
    "* Obtain the vertex of the each of the cropped tiles.\n",
    "* Save each of these cropped tiles in respective folder."
   ]
  },
  {
   "cell_type": "code",
   "execution_count": 8,
   "metadata": {},
   "outputs": [],
   "source": [
    "#Import Stuff \n",
    "import os\n",
    "import cv2\n",
    "import math\n",
    "import numpy as np\n",
    "import pandas as pd\n",
    "import pickle"
   ]
  },
  {
   "cell_type": "code",
   "execution_count": null,
   "metadata": {},
   "outputs": [
    {
     "name": "stdout",
     "output_type": "stream",
     "text": [
      "1\n",
      "(3882, 6494, 3)\n",
      "Height: 3882 Width: 6494\n",
      "Total number of tiles: 10140\n",
      "Wasted tiles due boundary conditions: 2.0414201183431953 %\n",
      "Useless background tiles: 0.0 %\n",
      "Useful tiles: 97.9585798816568 %\n",
      "2\n",
      "(3890, 6568, 3)\n",
      "Height: 3890 Width: 6568\n",
      "Total number of tiles: 10296\n",
      "Wasted tiles due boundary conditions: 2.02991452991453 %\n",
      "Useless background tiles: 0.0 %\n",
      "Useful tiles: 97.97008547008546 %\n"
     ]
    }
   ],
   "source": [
    "#Read the image\n",
    "#source_path = '/Users/keshavaprasad/Desktop/image/MG48_3day_bs/testingcrop/S051_00.tif'\n",
    "#source_path = '/Users/keshavaprasad/Desktop/image/S25/S25_00.tif'\n",
    "for x in range(1,100):\n",
    "    print(x)\n",
    "    source_path='//ibs9010/current_data/Data_Keshav/masked_for_rabies_auto_detection/MG48_3day_bs/Image/pia_only/S{}_Pia_Only.tif'.format(x)\n",
    "    image=cv2.imread(source_path)\n",
    "    \n",
    "    print(image.shape)\n",
    "    # Get Shape\n",
    "    p = image.shape[0]# p\n",
    "    q = image.shape[1]#q\n",
    "    print(\"Height:\",p,\"Width:\",q)\n",
    "\n",
    "    # Defining the dimensions of a tile \n",
    "    a = b = 50\n",
    "\n",
    "    #************************\n",
    "    cropped_tiles = [] #list for storing all cropped tile images\n",
    "    vertices = [] #list for storing lists of vertex values # Defining vertices of tiles for cropping\n",
    "    ctc = []#list for storing lists of tile numbers\n",
    "    #cropped_tile_list = []\n",
    "    mean_values = []# list for storing mean of the pixel values of each cropped tile \n",
    "    background_cropped_tiles = [] #list for storing background tile images\n",
    "    # Cropping image Sequentially\n",
    "    i = j = cropped_tile_counter = correct_tile_counter = wrong_dim_tile_counter = mean= correct_dim_tile_counter= 0\n",
    "    \n",
    "    \n",
    "    # Carry oout the sequential cropping store data into respective lists\n",
    "    for i in range(0,math.floor(p),a):#range(start, stop, step) # to get the resolution right!\n",
    "        for j in range(0,math.floor(q),b):\n",
    "            #Defining the cropping box\n",
    "            #tile = image[j:j+b,i:i+a]#y1: y2, x1: x2\n",
    "            y1 = j\n",
    "            x1 = i\n",
    "            y2 = j+b\n",
    "            x2 = i+a\n",
    "\n",
    "            tile = image[x1:x2,y1:y2]# making crops of each subimage and then storing in tile variable and then appended to cropped_tiles list\n",
    "            vertex = [x1,x2,y1,y2] # list of vertex values of each tiles\n",
    "            cropped_tile_counter +=1\n",
    "\n",
    "            # Calculating mean for each tile and\n",
    "            #mean = np.mean(tile)\n",
    "\n",
    "            # checking for tiles with wrong dimensions\n",
    "            if tile.shape[0]!=50 or tile.shape[1]!= 50:\n",
    "                wrong_dim_tile_counter += 1\n",
    "\n",
    "            # Keeping only tiles with correct dimensions # Append the vertex for each of these tiles into vertices list \n",
    "            # Append the correct_tile_counter variable into ctc list\n",
    "            if tile.shape[0] == 50 and tile.shape[1] == 50:\n",
    "                correct_dim_tile_counter +=1\n",
    "                #if mean>15:# imposing the mean value filter in order to remove lot of unnecessary background\n",
    "                correct_tile_counter +=1\n",
    "                #cropped_tiles.append(tile)\n",
    "                cropped_tiles.append([correct_tile_counter,tile])\n",
    "                ctc.append(correct_tile_counter)\n",
    "                #print(\"correct_tile_counter:\",correct_tile_counter,\"with vertex:\",vertex)\n",
    "                vertices.append(vertex)\n",
    "                    # appending these values into mean_values list\n",
    "                    #mean_values.append(mean)                        \n",
    "    ### THE TWO KEY TAKEAWAYS:number of croppedtiles and respective vertex of each cropped tile\n",
    "    \n",
    "        \n",
    "\n",
    "    # Calling DataFrame constructor after zipping # both lists, with columns specified \n",
    "    cropped_data = pd.DataFrame(list(zip(ctc, vertices)),columns =['Tile_Counter', 'Vertices']) \n",
    "    #cropped_data = pd.DataFrame(list(zip(ctc, vertices,mean_values)),columns =['Tile_Counter', 'Vertices','mean_values']) \n",
    "    #cropped_data\n",
    "    \n",
    "    \n",
    "    pickle_path = '//ibs9010/current_data/Data_Keshav/image/Classification_model/'\n",
    "    \n",
    "    with open(pickle_path + 'global_xy_MG48_3day_bs_S{:03d}_piamasked.pkl'.format(x), 'wb') as g:\n",
    "        pickle.dump(cropped_data, g)\n",
    "        \n",
    "        \n",
    "    print(\"Total number of tiles:\",cropped_tile_counter)\n",
    "    print(\"Wasted tiles due boundary conditions:\",(wrong_dim_tile_counter/cropped_tile_counter)*100,\"%\")\n",
    "    print(\"Useless background tiles:\",(correct_dim_tile_counter - correct_tile_counter)/cropped_tile_counter*100,\"%\")\n",
    "    print(\"Useful tiles:\",(correct_tile_counter/cropped_tile_counter)*100,\"%\")\n",
    "    \n",
    "    # Saving the tiles in a respective folder\n",
    "    #Dest_folder = \"//ibs9010/current_data/Data_Keshaviimage/Classification_model/testingcrop/\"\n",
    "    Dest_Path = '//ibs9010/current_data/Data_Keshav/image/Classification_model/testingcrop/S{:03d}/'.format(x)\n",
    "    \n",
    "    if not os.path.exists(Dest_Path):\n",
    "       print(\"path doesn't exist. trying to make\")\n",
    "       os.makedirs(Dest_Path)\n",
    "\n",
    "    #Dest_Path = '/Users/keshavaprasad/Desktop/image/S25/'\n",
    "    for k in range(len(cropped_tiles)):\n",
    "            pass\n",
    "            #print(\"K:\",k)\n",
    "            #cv2.imwrite(str(k)+ \".tif\", tiles[k])\n",
    "            cv2.imwrite(os.path.join(Dest_Path,str(k)+\".tif\"), cropped_tiles[k][1])"
   ]
  },
  {
   "cell_type": "code",
   "execution_count": 29,
   "metadata": {},
   "outputs": [
    {
     "name": "stdout",
     "output_type": "stream",
     "text": [
      "(9577, 10063, 3)\n",
      "Height: 9577 Width: 10063\n"
     ]
    }
   ],
   "source": [
    "import os\n",
    "from os.path import expanduser\n",
    "\n",
    "home = expanduser('~')\n",
    "\n",
    "dl_path = home + '/Downloads/PDMB'\n",
    "\n",
    "def main():\n",
    "    if not os.path.exists(dl_path):\n",
    "       print \"path doesn't exist. trying to make\"\n",
    "       os.makedirs(dl_path)\n",
    "\n",
    "\n",
    "\n",
    " if __name__ == '__main__':\n",
    "    main()\n"
   ]
  },
  {
   "cell_type": "code",
   "execution_count": 30,
   "metadata": {},
   "outputs": [],
   "source": []
  },
  {
   "cell_type": "code",
   "execution_count": 31,
   "metadata": {},
   "outputs": [
    {
     "name": "stdout",
     "output_type": "stream",
     "text": [
      "38391\n"
     ]
    }
   ],
   "source": [
    "print(len(cropped_tiles))"
   ]
  },
  {
   "cell_type": "code",
   "execution_count": 32,
   "metadata": {},
   "outputs": [],
   "source": []
  },
  {
   "cell_type": "code",
   "execution_count": 33,
   "metadata": {},
   "outputs": [
    {
     "data": {
      "text/html": [
       "<div>\n",
       "<style scoped>\n",
       "    .dataframe tbody tr th:only-of-type {\n",
       "        vertical-align: middle;\n",
       "    }\n",
       "\n",
       "    .dataframe tbody tr th {\n",
       "        vertical-align: top;\n",
       "    }\n",
       "\n",
       "    .dataframe thead th {\n",
       "        text-align: right;\n",
       "    }\n",
       "</style>\n",
       "<table border=\"1\" class=\"dataframe\">\n",
       "  <thead>\n",
       "    <tr style=\"text-align: right;\">\n",
       "      <th></th>\n",
       "      <th>Tile_Counter</th>\n",
       "      <th>Vertices</th>\n",
       "    </tr>\n",
       "  </thead>\n",
       "  <tbody>\n",
       "    <tr>\n",
       "      <th>0</th>\n",
       "      <td>1</td>\n",
       "      <td>[0, 50, 0, 50]</td>\n",
       "    </tr>\n",
       "    <tr>\n",
       "      <th>1</th>\n",
       "      <td>2</td>\n",
       "      <td>[0, 50, 50, 100]</td>\n",
       "    </tr>\n",
       "    <tr>\n",
       "      <th>2</th>\n",
       "      <td>3</td>\n",
       "      <td>[0, 50, 100, 150]</td>\n",
       "    </tr>\n",
       "    <tr>\n",
       "      <th>3</th>\n",
       "      <td>4</td>\n",
       "      <td>[0, 50, 150, 200]</td>\n",
       "    </tr>\n",
       "    <tr>\n",
       "      <th>4</th>\n",
       "      <td>5</td>\n",
       "      <td>[0, 50, 200, 250]</td>\n",
       "    </tr>\n",
       "    <tr>\n",
       "      <th>...</th>\n",
       "      <td>...</td>\n",
       "      <td>...</td>\n",
       "    </tr>\n",
       "    <tr>\n",
       "      <th>38386</th>\n",
       "      <td>38387</td>\n",
       "      <td>[9500, 9550, 9800, 9850]</td>\n",
       "    </tr>\n",
       "    <tr>\n",
       "      <th>38387</th>\n",
       "      <td>38388</td>\n",
       "      <td>[9500, 9550, 9850, 9900]</td>\n",
       "    </tr>\n",
       "    <tr>\n",
       "      <th>38388</th>\n",
       "      <td>38389</td>\n",
       "      <td>[9500, 9550, 9900, 9950]</td>\n",
       "    </tr>\n",
       "    <tr>\n",
       "      <th>38389</th>\n",
       "      <td>38390</td>\n",
       "      <td>[9500, 9550, 9950, 10000]</td>\n",
       "    </tr>\n",
       "    <tr>\n",
       "      <th>38390</th>\n",
       "      <td>38391</td>\n",
       "      <td>[9500, 9550, 10000, 10050]</td>\n",
       "    </tr>\n",
       "  </tbody>\n",
       "</table>\n",
       "<p>38391 rows × 2 columns</p>\n",
       "</div>"
      ],
      "text/plain": [
       "       Tile_Counter                    Vertices\n",
       "0                 1              [0, 50, 0, 50]\n",
       "1                 2            [0, 50, 50, 100]\n",
       "2                 3           [0, 50, 100, 150]\n",
       "3                 4           [0, 50, 150, 200]\n",
       "4                 5           [0, 50, 200, 250]\n",
       "...             ...                         ...\n",
       "38386         38387    [9500, 9550, 9800, 9850]\n",
       "38387         38388    [9500, 9550, 9850, 9900]\n",
       "38388         38389    [9500, 9550, 9900, 9950]\n",
       "38389         38390   [9500, 9550, 9950, 10000]\n",
       "38390         38391  [9500, 9550, 10000, 10050]\n",
       "\n",
       "[38391 rows x 2 columns]"
      ]
     },
     "execution_count": 33,
     "metadata": {},
     "output_type": "execute_result"
    }
   ],
   "source": [
    "cropped_data"
   ]
  },
  {
   "cell_type": "code",
   "execution_count": 34,
   "metadata": {},
   "outputs": [],
   "source": [
    "#cropped_data.loc[cropped_data['Tile_Counter'] == 21555] #searching rows based on specific values\n",
    "#cropped_data.loc[cropped_data['mean_values'] > 15] "
   ]
  },
  {
   "cell_type": "code",
   "execution_count": 35,
   "metadata": {},
   "outputs": [],
   "source": []
  },
  {
   "cell_type": "code",
   "execution_count": 36,
   "metadata": {},
   "outputs": [
    {
     "name": "stdout",
     "output_type": "stream",
     "text": [
      "Total number of tiles: 38784\n",
      "Wasted tiles due boundary conditions: 1.0133044554455446 %\n",
      "Useless background tiles: 0.0 %\n",
      "Useful tiles: 98.98669554455446 %\n"
     ]
    }
   ],
   "source": [
    "\n"
   ]
  },
  {
   "cell_type": "code",
   "execution_count": 37,
   "metadata": {},
   "outputs": [
    {
     "name": "stdout",
     "output_type": "stream",
     "text": [
      "38391\n"
     ]
    }
   ],
   "source": [
    "print(len(cropped_tiles))\n",
    "#print(cropped_tiles[1000][0])"
   ]
  },
  {
   "cell_type": "markdown",
   "metadata": {},
   "source": [
    "## Saving useful tiles that are sequentially cropped and are of correct dimensions and qualify mean value filter"
   ]
  },
  {
   "cell_type": "code",
   "execution_count": null,
   "metadata": {},
   "outputs": [],
   "source": []
  },
  {
   "cell_type": "code",
   "execution_count": null,
   "metadata": {},
   "outputs": [],
   "source": []
  }
 ],
 "metadata": {
  "kernelspec": {
   "display_name": "Python 3",
   "language": "python",
   "name": "python3"
  },
  "language_info": {
   "codemirror_mode": {
    "name": "ipython",
    "version": 3
   },
   "file_extension": ".py",
   "mimetype": "text/x-python",
   "name": "python",
   "nbconvert_exporter": "python",
   "pygments_lexer": "ipython3",
   "version": "3.7.7"
  },
  "varInspector": {
   "cols": {
    "lenName": 16,
    "lenType": 16,
    "lenVar": 40
   },
   "kernels_config": {
    "python": {
     "delete_cmd_postfix": "",
     "delete_cmd_prefix": "del ",
     "library": "var_list.py",
     "varRefreshCmd": "print(var_dic_list())"
    },
    "r": {
     "delete_cmd_postfix": ") ",
     "delete_cmd_prefix": "rm(",
     "library": "var_list.r",
     "varRefreshCmd": "cat(var_dic_list()) "
    }
   },
   "types_to_exclude": [
    "module",
    "function",
    "builtin_function_or_method",
    "instance",
    "_Feature"
   ],
   "window_display": false
  }
 },
 "nbformat": 4,
 "nbformat_minor": 2
}
