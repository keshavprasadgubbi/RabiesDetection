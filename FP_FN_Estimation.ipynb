{
 "cells": [
  {
   "cell_type": "code",
   "execution_count": 1,
   "metadata": {
    "ExecuteTime": {
     "end_time": "2020-06-22T13:59:14.429292Z",
     "start_time": "2020-06-22T13:59:14.023251Z"
    }
   },
   "outputs": [],
   "source": [
    "import numpy as np\n",
    "from scipy.spatial import distance_matrix"
   ]
  },
  {
   "cell_type": "code",
   "execution_count": 2,
   "metadata": {
    "ExecuteTime": {
     "end_time": "2020-06-22T13:59:14.444649Z",
     "start_time": "2020-06-22T13:59:14.431332Z"
    }
   },
   "outputs": [],
   "source": [
    "def read_landmarks(filename,only_2d=True):\n",
    "    manual_landmark_list = []\n",
    "    lines = []\n",
    "    with open(filename, 'r') as csb:\n",
    "        lines = csb.readlines()\n",
    "    number = 0\n",
    "\n",
    "    # for each manual landmark\n",
    "    for line in lines:\n",
    "        #print line\n",
    "        if line.startswith(\"@1\"):\n",
    "            number = 1\n",
    "            continue\n",
    "        if number == 1 and line.isspace() == False:\n",
    "            #print line.split()\n",
    "            pt = list(map(float,line.split()))\n",
    "            #pt = [pt[0]*self.axis_directions[0],pt[1]*self.axis_directions[1],pt[2]*self.axis_directions[2]]\n",
    "            manual_landmark_list.append([pt[0],pt[1]])\n",
    "\n",
    "    return manual_landmark_list"
   ]
  },
  {
   "cell_type": "code",
   "execution_count": 3,
   "metadata": {
    "ExecuteTime": {
     "end_time": "2020-06-22T13:59:14.465137Z",
     "start_time": "2020-06-22T13:59:14.446906Z"
    }
   },
   "outputs": [],
   "source": [
    "def write_landmarks(landmarks,filename):\n",
    "    \n",
    "    with open(filename, 'w') as file:\n",
    "        file.write(\"# Avizo 3D ASCII 2.0 \\n\")\n",
    "        file.write(\"define Markers \")\n",
    "        file.write(\"{}\".format(len(landmarks)))\n",
    "        file.write(\"\\n\")\n",
    "        file.write(\"Parameters {\\n\")\n",
    "        file.write(\"    NumSets 1,\\n\")\n",
    "        file.write(\"    ContentType \\\"LandmarkSet\\\"\\n\")\n",
    "        file.write(\"}\\n\")\n",
    "\n",
    "        file.write(\"Markers { float[3] Coordinates } @1\\n\")\n",
    "\n",
    "        file.write(\"# Data section follows\\n\")\n",
    "        file.write(\"@1\\n\")\n",
    "\n",
    "        if len(landmarks)!=0:\n",
    "            for landmark in landmarks:\n",
    "                ##print(landmark[0][0])\n",
    "                file.write(\"{}\".format(landmark[0]))\n",
    "                file.write(\" \")\n",
    "                file.write(\"{}\".format(landmark[1]))\n",
    "                file.write(\" \")\n",
    "                if len(landmark) > 2:\n",
    "                    file.write(\"{}\".format(landmark[2]))\n",
    "                else:\n",
    "                    file.write(\"{}\".format(0))\n",
    "                file.write(\"\\n\")"
   ]
  },
  {
   "cell_type": "code",
   "execution_count": 19,
   "metadata": {
    "ExecuteTime": {
     "end_time": "2020-06-22T13:59:14.485140Z",
     "start_time": "2020-06-22T13:59:14.466937Z"
    }
   },
   "outputs": [],
   "source": [
    "#manual_landmarks_file = '/nas1/Data_aman/00_Rabies/MG48_3Day_bs/01_Data/00_Landmark/000_manual/00_original/S051_Landmarks.landmarkAscii'\n",
    "#auto_landmarks_file_full = '/nas1/Data_Mythreya/RabiesCountingProject/22june_MG48_S51_trinary.landmarkAscii' \n",
    "manual_landmarks_file = '//ibs9010/current_data/Data_Keshav/image/Classification_model/manual_landmark_files/S051_Landmarks.landmarkAscii'\n",
    "auto_landmarks_file_full = \"//ibs9010/current_data/Data_Keshav/image/Classification_model/landmarks/21july_MG48_S051_binary.landmarkAscii\"\n",
    "\n",
    "\n",
    "#auto_landmarks_file_partial = '/nas1/Data_Mythreya/RabiesCountingProject/MG48_S51-26may-PN.landmarkAscii'\n",
    "error_resolution = 25 # radius around manual landmark where we compare , in microns\n",
    "output_path = '//ibs9010/current_data/Data_Keshav/image/Classification_model/LMfiles/'\n",
    "exp = 'S051'\n",
    "\n",
    "manual_landmarks = read_landmarks(manual_landmarks_file)\n",
    "auto_landmarks_full = read_landmarks(auto_landmarks_file_full)\n",
    "#auto_landmarks_partial = read_landmarks(auto_landmarks_file_partial)\n",
    "\n",
    "auto_landmarks_all = []\n",
    "for pt in auto_landmarks_full:\n",
    "    auto_landmarks_all.append(pt)\n",
    "# for pt in auto_landmarks_partial:\n",
    "#     auto_landmarks_all.append(pt)\n",
    "    \n",
    "manual_np = np.array(manual_landmarks)\n",
    "auto_np = np.array(auto_landmarks_all)\n"
   ]
  },
  {
   "cell_type": "code",
   "execution_count": 26,
   "metadata": {
    "ExecuteTime": {
     "end_time": "2020-06-22T13:59:14.509100Z",
     "start_time": "2020-06-22T13:59:14.486935Z"
    }
   },
   "outputs": [
    {
     "data": {
      "text/plain": [
       "array([ True,  True,  True,  True,  True, False,  True,  True,  True,\n",
       "        True,  True,  True,  True,  True,  True,  True,  True,  True,\n",
       "        True, False,  True, False,  True,  True, False, False,  True,\n",
       "        True,  True,  True,  True,  True,  True,  True,  True,  True,\n",
       "       False,  True, False,  True,  True,  True,  True,  True, False,\n",
       "        True,  True,  True, False,  True,  True,  True, False, False,\n",
       "        True,  True,  True,  True,  True,  True,  True,  True,  True,\n",
       "       False,  True,  True,  True,  True, False,  True,  True,  True,\n",
       "        True,  True,  True,  True,  True,  True,  True,  True,  True,\n",
       "        True, False, False,  True,  True,  True,  True, False,  True,\n",
       "        True, False,  True,  True,  True,  True,  True, False,  True,\n",
       "        True, False, False,  True, False, False,  True, False, False,\n",
       "        True,  True, False,  True,  True, False, False, False, False,\n",
       "        True,  True,  True,  True, False,  True,  True,  True, False,\n",
       "        True, False, False, False,  True,  True,  True,  True, False,\n",
       "       False,  True,  True, False, False,  True,  True,  True, False,\n",
       "       False, False, False, False, False,  True,  True, False,  True,\n",
       "        True,  True,  True,  True,  True,  True, False, False,  True,\n",
       "        True,  True,  True,  True, False, False, False, False, False,\n",
       "       False,  True,  True,  True, False, False])"
      ]
     },
     "execution_count": 26,
     "metadata": {},
     "output_type": "execute_result"
    }
   ],
   "source": [
    "confusion_mat = (distance_matrix(manual_np,auto_np) < error_resolution)\n",
    "(confusion_mat.sum(axis=1)>0)"
   ]
  },
  {
   "cell_type": "code",
   "execution_count": 27,
   "metadata": {
    "ExecuteTime": {
     "end_time": "2020-06-22T13:59:14.509100Z",
     "start_time": "2020-06-22T13:59:14.486935Z"
    },
    "scrolled": true
   },
   "outputs": [],
   "source": [
    "TP = (confusion_mat.sum(axis=1)>0).sum()\n",
    "FN = (confusion_mat.sum(axis=1)==0).sum()\n",
    "FP = (confusion_mat.sum(axis=0)==0).sum()\n",
    "\n",
    "TP_per = (TP/len(manual_landmarks))*100\n",
    "FN_per = FN/len(manual_landmarks)\n",
    "FP_per = FP/len(manual_landmarks)\n",
    "\n",
    "TP_locations = np.where(confusion_mat.sum(axis=1))\n",
    "FN_locations = np.where(confusion_mat.sum(axis=1)==0)\n",
    "FP_locations = np.where(confusion_mat.sum(axis=0)==0)\n",
    "\n",
    "write_landmarks(manual_np[TP_locations],output_path+exp+'_Matches(TP).landmarksAscii')\n",
    "write_landmarks(manual_np[FN_locations],output_path+exp+'_Misses(FN).landmarksAscii')\n",
    "write_landmarks(auto_np[FP_locations],output_path+exp+'_FP.landmarksAscii')"
   ]
  },
  {
   "cell_type": "code",
   "execution_count": 29,
   "metadata": {
    "ExecuteTime": {
     "end_time": "2020-06-22T13:59:14.525082Z",
     "start_time": "2020-06-22T13:59:14.510873Z"
    }
   },
   "outputs": [
    {
     "data": {
      "text/plain": [
       "(122, 55, 96)"
      ]
     },
     "execution_count": 29,
     "metadata": {},
     "output_type": "execute_result"
    }
   ],
   "source": [
    "TP,FN,FP"
   ]
  },
  {
   "cell_type": "code",
   "execution_count": 30,
   "metadata": {
    "ExecuteTime": {
     "end_time": "2020-06-22T13:59:14.533075Z",
     "start_time": "2020-06-22T13:59:14.526685Z"
    }
   },
   "outputs": [
    {
     "data": {
      "text/plain": [
       "(68.92655367231639, 0.3107344632768362, 0.5423728813559322)"
      ]
     },
     "execution_count": 30,
     "metadata": {},
     "output_type": "execute_result"
    }
   ],
   "source": [
    "TP_per,FN_per,FP_per"
   ]
  },
  {
   "cell_type": "code",
   "execution_count": null,
   "metadata": {},
   "outputs": [],
   "source": []
  },
  {
   "cell_type": "code",
   "execution_count": null,
   "metadata": {},
   "outputs": [],
   "source": []
  }
 ],
 "metadata": {
  "kernelspec": {
   "display_name": "Python 3",
   "language": "python",
   "name": "python3"
  },
  "language_info": {
   "codemirror_mode": {
    "name": "ipython",
    "version": 3
   },
   "file_extension": ".py",
   "mimetype": "text/x-python",
   "name": "python",
   "nbconvert_exporter": "python",
   "pygments_lexer": "ipython3",
   "version": "3.7.7"
  },
  "toc": {
   "base_numbering": 1,
   "nav_menu": {},
   "number_sections": true,
   "sideBar": true,
   "skip_h1_title": false,
   "title_cell": "Table of Contents",
   "title_sidebar": "Contents",
   "toc_cell": false,
   "toc_position": {},
   "toc_section_display": true,
   "toc_window_display": false
  }
 },
 "nbformat": 4,
 "nbformat_minor": 2
}
