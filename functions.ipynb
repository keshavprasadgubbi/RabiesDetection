{
 "cells": [
  {
   "cell_type": "code",
   "execution_count": 1,
   "metadata": {
    "collapsed": true
   },
   "outputs": [],
   "source": [
    "import numpy as np\n",
    "import SimpleITK as sitk\n",
    "import pandas as pd\n",
    "from scipy import spatial\n",
    "\n",
    "import fnmatch\n",
    "import os\n",
    "import re\n",
    "import itertools\n",
    "from ipywidgets import interact, interactive\n",
    "from ipywidgets import widgets\n",
    "from IPython.display import display\n",
    "\n",
    "import matplotlib.pyplot as plt\n",
    "%matplotlib inline\n",
    "\n",
    "import time\n",
    "#import numba as nb\n",
    "#from numba import cuda\n",
    "\n",
    "from sklearn import cluster"
   ]
  },
  {
   "cell_type": "code",
   "execution_count": 2,
   "metadata": {
    "collapsed": true
   },
   "outputs": [],
   "source": [
    "def read_image(file1,):\n",
    "    image1 = sitk.GetImageFromArray(skimage.io.imread(file1))\n",
    "    \n",
    "    #downimage1 = downsample(image1,downscale)\n",
    "    \n",
    "    return sitk.RescaleIntensity(sitk.Cast(image1,sitk.sitkUInt8))"
   ]
  },
  {
   "cell_type": "code",
   "execution_count": 34,
   "metadata": {
    "collapsed": true
   },
   "outputs": [],
   "source": [
    "def getSpatialGraphPoints( spatial_graph, pre_cell_ind, post_cell_ind):\n",
    "    with open(spatial_graph, 'r') as csb:\n",
    "        edge_ids = []\n",
    "        edge_num_points = []\n",
    "        edge_point_coords = []\n",
    "\n",
    "        looking_for_axon_id = False\n",
    "        looking_for_dend_id = False\n",
    "        looking_for_soma_id = False\n",
    "        looking_for_num_edge_points = False\n",
    "        looking_for_edge_labels = False\n",
    "        looking_for_edge_coords = False\n",
    "\n",
    "        axon_id = 0\n",
    "        dend_id = 0\n",
    "        soma_id = 0\n",
    "        edge_num_points_id = 0\n",
    "        edge_ids_id = 0\n",
    "        edge_points_id = 0\n",
    "\n",
    "        lines = csb.readlines()\n",
    "\n",
    "        # for each manual landmark\n",
    "        for line in lines:\n",
    "\n",
    "            if not line.find(\"TransformationMatrix \") == -1:\n",
    "                transform = (line[line.rfind(\"TransformationMatrix \")+len(\"TransformationMatrix \"):-1])\n",
    "                transform = map(float, transform.split(\" \")[:])\n",
    "                #print translation\n",
    "\n",
    "            if not line.find(\"Cell_{}_Axon \".format(pre_cell_ind)) == -1:\n",
    "                looking_for_axon_id = True\n",
    "            if looking_for_axon_id and line.rfind(\"Id\")>-1:\n",
    "                axon_id = int(line[line.rfind(\"Id\")+3:]) \n",
    "                looking_for_axon_id = False\n",
    "                #print axon_id\n",
    "\n",
    "            if not line.find(\"Cell_{}_Dendrite \".format(post_cell_ind)) == -1:\n",
    "                looking_for_dend_id = True\n",
    "            if looking_for_dend_id and line.rfind(\"Id\")>-1:\n",
    "                dend_id = int(line[line.rfind(\"Id\")+3:]) \n",
    "                looking_for_dend_id = False\n",
    "                #print dend_id\n",
    "                \n",
    "            if not line.find(\"Cell_{}_Soma \".format(post_cell_ind)) == -1:\n",
    "                looking_for_soma_id = True\n",
    "            if looking_for_soma_id and line.rfind(\"Id\")>-1:\n",
    "                soma_id = int(line[line.rfind(\"Id\")+3:]) \n",
    "                looking_for_soma_id = False\n",
    "\n",
    "            if line.rfind(\"EDGE { int NumEdgePoints } @\")>-1:\n",
    "                edge_num_points_id = int(line[line.rfind(\"EDGE { int NumEdgePoints } @\")+len(\"EDGE { int NumEdgePoints } @\"):]) \n",
    "                #print edge_num_points_id\n",
    "\n",
    "            if line.rfind(\"EDGE { int EdgeLabels } @\")>-1:\n",
    "                edge_ids_id = int(line[line.rfind(\"EDGE { int EdgeLabels } @\")+len(\"EDGE { int EdgeLabels } @\"):]) \n",
    "                #print edge_ids_id\n",
    "\n",
    "            if line.rfind(\"POINT { float[3] EdgePointCoordinates } @\")>-1:\n",
    "                edge_points_id = int(line[line.rfind(\"POINT { float[3] EdgePointCoordinates } @\")+len(\"POINT { float[3] EdgePointCoordinates } @\"):]) \n",
    "                #print edge_points_id\n",
    "\n",
    "            if line.find(\"@{}\".format(edge_num_points_id)) == 0:\n",
    "                looking_for_num_edge_points = True\n",
    "                #print \"found {}\".format(edge_num_points_id)\n",
    "                continue\n",
    "            if looking_for_num_edge_points :\n",
    "                if (line.rfind(\"@\") == 0 or line.isspace()): \n",
    "                    looking_for_num_edge_points = False\n",
    "                    continue\n",
    "                else:\n",
    "                    edge_num_points.append( int(line ))\n",
    "\n",
    "            if line.find(\"@{}\".format(edge_ids_id)) == 0:\n",
    "                looking_for_edge_labels = True\n",
    "                #print \"found {}\".format(edge_ids_id)\n",
    "                continue\n",
    "            if looking_for_edge_labels :\n",
    "                if (line.rfind(\"@\") == 0 or line.isspace()): \n",
    "                    looking_for_edge_labels = False\n",
    "                    continue\n",
    "                else:\n",
    "                    edge_ids.append( int(line ))\n",
    "\n",
    "            if line.find(\"@{}\".format(edge_points_id)) == 0:\n",
    "                looking_for_edge_coords = True\n",
    "                #print \"found {}\".format(edge_points_id)\n",
    "                continue\n",
    "            if looking_for_edge_coords :\n",
    "                if (line.rfind(\"@\") == 0 or line.isspace()): \n",
    "                    looking_for_edge_coords = False\n",
    "                    continue\n",
    "                else:\n",
    "                    edge_point_coords.append( map(float,line.split()))\n",
    "\n",
    "\n",
    "    axon_points = []\n",
    "    dend_points = []\n",
    "    soma_points = []\n",
    "    start_ind = 0\n",
    "    end_ind = 0\n",
    "    for i in range(len(edge_num_points)):\n",
    "        start_ind = end_ind\n",
    "        end_ind = start_ind + edge_num_points[i]\n",
    "        if edge_ids[i] == axon_id:\n",
    "            #print start_ind\n",
    "            axon_points.append(edge_point_coords[start_ind:end_ind])\n",
    "        if edge_ids[i] == dend_id:\n",
    "            #print start_ind\n",
    "            dend_points.append(edge_point_coords[start_ind:end_ind])\n",
    "        if edge_ids[i] == soma_id:\n",
    "            #print start_ind\n",
    "            soma_points.append(edge_point_coords[start_ind:end_ind])\n",
    "\n",
    "    #print axon_points,dend_points,soma_points\n",
    "    return (list(itertools.chain.from_iterable(axon_points))),(list(itertools.chain.from_iterable(dend_points))),(list(itertools.chain.from_iterable(soma_points)))\n",
    "    #return list([axon_points,dend_points,soma_points])"
   ]
  },
  {
   "cell_type": "code",
   "execution_count": 1,
   "metadata": {
    "ExecuteTime": {
     "end_time": "2019-04-08T12:02:13.660118Z",
     "start_time": "2019-04-08T12:02:13.529672Z"
    },
    "collapsed": true
   },
   "outputs": [],
   "source": [
    "def getSpatialGraphPointsForLabel( spatial_graph_file, Label=0):\n",
    "    with open(spatial_graph_file, 'r') as sp_gr:\n",
    "        edge_ids = []\n",
    "        edge_num_points = []\n",
    "        edge_point_coords = []\n",
    "\n",
    "        looking_for_axon_id = False\n",
    "        looking_for_dend_id = False\n",
    "        looking_for_soma_id = False\n",
    "        looking_for_num_edge_points = False\n",
    "        looking_for_edge_labels = False\n",
    "        looking_for_edge_coords = False\n",
    "\n",
    "        axon_id = 0\n",
    "        dend_id = 0\n",
    "        soma_id = 0\n",
    "        edge_num_points_id = 0\n",
    "        edge_ids_id = 0\n",
    "        edge_points_id = 0\n",
    "\n",
    "        lines = sp_gr.readlines()\n",
    "\n",
    "        # for each manual landmark\n",
    "        for line in lines:\n",
    "\n",
    "            if not line.find(\"TransformationMatrix \") == -1:\n",
    "                transform = (line[line.rfind(\"TransformationMatrix \")+len(\"TransformationMatrix \"):-1])\n",
    "                transform = map(float, transform.split(\" \")[:])\n",
    "                #print translation\n",
    "\n",
    "            if not line.find(label) == -1:\n",
    "                looking_for_axon_id = True\n",
    "            if looking_for_axon_id and line.rfind(\"Id\")>-1:\n",
    "                axon_id = int(line[line.rfind(\"Id\")+3:]) \n",
    "                looking_for_axon_id = False\n",
    "                #print axon_id\n",
    "            \n",
    "\n",
    "            if line.rfind(\"EDGE { int NumEdgePoints } @\")>-1:\n",
    "                edge_num_points_id = int(line[line.rfind(\"EDGE { int NumEdgePoints } @\")+len(\"EDGE { int NumEdgePoints } @\"):]) \n",
    "                #print edge_num_points_id\n",
    "\n",
    "            if line.rfind(\"EDGE { int EdgeLabels } @\")>-1:\n",
    "                edge_ids_id = int(line[line.rfind(\"EDGE { int EdgeLabels } @\")+len(\"EDGE { int EdgeLabels } @\"):]) \n",
    "                #print edge_ids_id\n",
    "\n",
    "            if line.rfind(\"POINT { float[3] EdgePointCoordinates } @\")>-1:\n",
    "                edge_points_id = int(line[line.rfind(\"POINT { float[3] EdgePointCoordinates } @\")+len(\"POINT { float[3] EdgePointCoordinates } @\"):]) \n",
    "                #print edge_points_id\n",
    "\n",
    "            if line.find(\"@{}\".format(edge_num_points_id)) == 0:\n",
    "                looking_for_num_edge_points = True\n",
    "                #print \"found {}\".format(edge_num_points_id)\n",
    "                continue\n",
    "            if looking_for_num_edge_points :\n",
    "                if (line.rfind(\"@\") == 0 or line.isspace()): \n",
    "                    looking_for_num_edge_points = False\n",
    "                    continue\n",
    "                else:\n",
    "                    edge_num_points.append( int(line ))\n",
    "\n",
    "            if line.find(\"@{}\".format(edge_ids_id)) == 0:\n",
    "                looking_for_edge_labels = True\n",
    "                #print \"found {}\".format(edge_ids_id)\n",
    "                continue\n",
    "            if looking_for_edge_labels :\n",
    "                if (line.rfind(\"@\") == 0 or line.isspace()): \n",
    "                    looking_for_edge_labels = False\n",
    "                    continue\n",
    "                else:\n",
    "                    edge_ids.append( int(line ))\n",
    "\n",
    "            if line.find(\"@{}\".format(edge_points_id)) == 0:\n",
    "                looking_for_edge_coords = True\n",
    "                #print \"found {}\".format(edge_points_id)\n",
    "                continue\n",
    "            if looking_for_edge_coords :\n",
    "                if (line.rfind(\"@\") == 0 or line.isspace()): \n",
    "                    looking_for_edge_coords = False\n",
    "                    continue\n",
    "                else:\n",
    "                    edge_point_coords.append( map(float,line.split()))\n",
    "\n",
    "\n",
    "    axon_points = []\n",
    "    dend_points = []\n",
    "    soma_points = []\n",
    "    start_ind = 0\n",
    "    end_ind = 0\n",
    "    for i in range(len(edge_num_points)):\n",
    "        start_ind = end_ind\n",
    "        end_ind = start_ind + edge_num_points[i]\n",
    "        if edge_ids[i] == axon_id:\n",
    "            #print start_ind\n",
    "            axon_points.append(edge_point_coords[start_ind:end_ind])\n",
    "        if edge_ids[i] == dend_id:\n",
    "            #print start_ind\n",
    "            dend_points.append(edge_point_coords[start_ind:end_ind])\n",
    "        if edge_ids[i] == soma_id:\n",
    "            #print start_ind\n",
    "            soma_points.append(edge_point_coords[start_ind:end_ind])\n",
    "\n",
    "    #print axon_points,dend_points,soma_points\n",
    "    return (list(itertools.chain.from_iterable(axon_points))),(list(itertools.chain.from_iterable(dend_points))),(list(itertools.chain.from_iterable(soma_points)))\n",
    "    #return list([axon_points,dend_points,soma_points])"
   ]
  },
  {
   "cell_type": "code",
   "execution_count": 11,
   "metadata": {
    "ExecuteTime": {
     "end_time": "2019-06-03T12:29:53.832785Z",
     "start_time": "2019-06-03T12:29:53.827802Z"
    },
    "code_folding": [],
    "collapsed": true
   },
   "outputs": [],
   "source": [
    "def get_edge_list_from_edge_coords(edge_point_coords,edge_num_points):\n",
    "    edge_list = []\n",
    "    edge_pt_start_ind = 0\n",
    "    for edge_id in range(len(edge_num_points)):\n",
    "        edge = []\n",
    "        edge.append(edge_point_coords[edge_pt_start_ind:edge_pt_start_ind+edge_num_points[edge_id]])\n",
    "        edge_list.append(edge_point_coords[edge_pt_start_ind:edge_pt_start_ind+edge_num_points[edge_id]])\n",
    "        #print(edge_point_coords[edge_pt_start_ind:edge_pt_start_ind+edge_num_points[edge_id]])\n",
    "        edge_pt_start_ind = edge_pt_start_ind + edge_num_points[edge_id]\n",
    "        \n",
    "    return edge_list"
   ]
  },
  {
   "cell_type": "code",
   "execution_count": 12,
   "metadata": {
    "ExecuteTime": {
     "end_time": "2019-06-03T12:30:24.380826Z",
     "start_time": "2019-06-03T12:30:24.366797Z"
    },
    "code_folding": [],
    "collapsed": true
   },
   "outputs": [],
   "source": [
    "def getSpatialGraphPointsWithoutLabel( spatial_graph_file, ):\n",
    "    with open(spatial_graph_file, 'r') as sp_gr:\n",
    "        vertex_coords = []\n",
    "        edge_connectivity = []\n",
    "        edge_num_points = []\n",
    "        edge_point_coords = []\n",
    "        \n",
    "        looking_for_vertex_coords = False\n",
    "        looking_for_edge_connectivity = False\n",
    "        looking_for_num_edge_points  = False\n",
    "        looking_for_edge_point_coords = False\n",
    "\n",
    "        vertex_coords_id = 0\n",
    "        edge_connectivity_id = 0\n",
    "        edge_num_points_id = 0\n",
    "        edge_point_coords_id = 0\n",
    "\n",
    "        lines = sp_gr.readlines()\n",
    "\n",
    "        # for each manual landmark\n",
    "        for line in lines:\n",
    "\n",
    "            # find the @tags\n",
    "            if not line.find(\"TransformationMatrix \") == -1:\n",
    "                transform = (line[line.rfind(\"TransformationMatrix \")+len(\"TransformationMatrix \"):-1])\n",
    "                transform = map(float, transform.split(\" \")[:])\n",
    "                #print transform\n",
    "\n",
    "            if line.rfind(\"VERTEX { float[3] VertexCoordinates } @\")>-1:\n",
    "                vertex_coords_id = int(line[line.rfind(\"VERTEX { float[3] VertexCoordinates } @\")+len(\"VERTEX { float[3] VertexCoordinates } @\"):]) \n",
    "                #print edge_connectivity_id\n",
    "                \n",
    "            if line.rfind(\"EDGE { int[2] EdgeConnectivity } @\")>-1:\n",
    "                edge_connectivity_id = int(line[line.rfind(\"EDGE { int[2] EdgeConnectivity } @\")+len(\"EDGE { int[2] EdgeConnectivity } @\"):]) \n",
    "                #print edge_connectivity_id\n",
    "                \n",
    "            if line.rfind(\"EDGE { int NumEdgePoints } @\")>-1:\n",
    "                edge_num_points_id = int(line[line.rfind(\"EDGE { int NumEdgePoints } @\")+len(\"EDGE { int NumEdgePoints } @\"):]) \n",
    "                #print edge_num_points_id\n",
    "\n",
    "            if line.rfind(\"POINT { float[3] EdgePointCoordinates } @\")>-1:\n",
    "                edge_point_coords_id = int(line[line.rfind(\"POINT { float[3] EdgePointCoordinates } @\")+len(\"POINT { float[3] EdgePointCoordinates } @\"):]) \n",
    "                #print edge_point_coords_id\n",
    "\n",
    "            # set flags to read coords etc  \n",
    "            if line.find(\"@{}\".format(vertex_coords_id)) == 0:\n",
    "                looking_for_vertex_coords = True\n",
    "                #print \"found {}\".format(edge_num_points_id)\n",
    "                continue\n",
    "                \n",
    "            if line.find(\"@{}\".format(edge_connectivity_id)) == 0:\n",
    "                looking_for_edge_connectivity = True\n",
    "                #print \"found {}\".format(edge_num_points_id)\n",
    "                continue\n",
    "                \n",
    "            if line.find(\"@{}\".format(edge_num_points_id)) == 0:\n",
    "                looking_for_num_edge_points = True\n",
    "                #print \"found {}\".format(edge_num_points_id)\n",
    "                continue\n",
    "            \n",
    "            if line.find(\"@{}\".format(edge_point_coords_id)) == 0:\n",
    "                looking_for_edge_point_coords = True\n",
    "                #print \"found {}\".format(edge_points_id)\n",
    "                continue\n",
    "\n",
    "            if looking_for_vertex_coords :\n",
    "                if (line.rfind(\"@\") == 0 or line.isspace()): \n",
    "                    looking_for_vertex_coords = False\n",
    "                    continue\n",
    "                else:\n",
    "                    vertex_coords.append( list(map(float,line.split())))\n",
    "                    \n",
    "            if looking_for_edge_connectivity:\n",
    "                if (line.rfind(\"@\") == 0 or line.isspace()): \n",
    "                    looking_for_edge_connectivity = False\n",
    "                    continue\n",
    "                else:\n",
    "                    edge_connectivity.append( list(map(int,line.split())))\n",
    "            \n",
    "            if looking_for_num_edge_points  :\n",
    "                if (line.rfind(\"@\") == 0 or line.isspace()): \n",
    "                    looking_for_num_edge_points = False\n",
    "                    continue\n",
    "                else:\n",
    "                    edge_num_points.append( int(line ))\n",
    "            \n",
    "            if looking_for_edge_point_coords :\n",
    "                if (line.rfind(\"@\") == 0 or line.isspace()): \n",
    "                    looking_for_edge_point_coords = False\n",
    "                    continue\n",
    "                else:\n",
    "                    edge_point_coords.append( list(map(float,line.split())))\n",
    "                    \n",
    "        return vertex_coords,edge_connectivity,edge_num_points,edge_point_coords,get_edge_list_from_edge_coords(edge_point_coords,edge_num_points)\n",
    "    "
   ]
  },
  {
   "cell_type": "code",
   "execution_count": 13,
   "metadata": {
    "ExecuteTime": {
     "end_time": "2019-06-03T13:18:28.160657Z",
     "start_time": "2019-06-03T13:18:28.156671Z"
    },
    "collapsed": true
   },
   "outputs": [],
   "source": [
    "def get_contour_perimeter(contour):\n",
    "    perimeter = 0\n",
    "    for edge_id in range(len(contour)):\n",
    "        perimeter = perimeter + spatial.distance.euclidean(contour[edge_id][0],contour[edge_id][len(contour[edge_id])-1])\n",
    "\n",
    "    return perimeter"
   ]
  },
  {
   "cell_type": "code",
   "execution_count": 7,
   "metadata": {
    "ExecuteTime": {
     "end_time": "2019-02-21T05:45:02.856988Z",
     "start_time": "2019-02-21T05:45:02.294537Z"
    },
    "collapsed": true
   },
   "outputs": [],
   "source": [
    "def getNeuronMorphologyPoints( spatial_graph):\n",
    "    with open(spatial_graph, 'r') as csb:\n",
    "        edge_ids = []\n",
    "        edge_num_points = []\n",
    "        edge_point_coords = []\n",
    "\n",
    "        looking_for_axon_id = False\n",
    "        looking_for_dend_id = False\n",
    "        looking_for_apical_dend_id = False\n",
    "        looking_for_basal_dend_id = False\n",
    "        looking_for_soma_id = False\n",
    "        looking_for_num_edge_points = False\n",
    "        looking_for_edge_labels = False\n",
    "        looking_for_edge_coords = False\n",
    "\n",
    "        axon_id = 0\n",
    "        dend_id = 0\n",
    "        apical_dend_id = 0\n",
    "        basal_dend_id = 0\n",
    "        soma_id = 0\n",
    "        edge_num_points_id = 0\n",
    "        edge_ids_id = 0\n",
    "        edge_points_id = 0\n",
    "\n",
    "        lines = csb.readlines()\n",
    "\n",
    "        # for each manual landmark\n",
    "        for line in lines:\n",
    "            #print(line)\n",
    "            if not line.find(\"TransformationMatrix \") == -1:\n",
    "                transform = (line[line.rfind(\"TransformationMatrix \")+len(\"TransformationMatrix \"):-1])\n",
    "                transform = map(float, transform.split(\" \")[:])\n",
    "                #print translation\n",
    "\n",
    "            if not line.find(\"Axon \") == -1:\n",
    "                looking_for_axon_id = True\n",
    "            if looking_for_axon_id and line.rfind(\"Id\")>-1:\n",
    "                axon_id = 6#int(line[line.rfind(\"Id\")+3:]) \n",
    "                looking_for_axon_id = False\n",
    "                #print (axon_id)\n",
    "\n",
    "            if not line.find(\"Dendrite \") == -1:\n",
    "                looking_for_dend_id = True\n",
    "            \n",
    "            if looking_for_dend_id and line.find(\"ApicalDendrite \") == -1:\n",
    "                looking_for_apical_dend_id = True\n",
    "                \n",
    "            if looking_for_dend_id and line.find(\"BasalDendrite \") == -1:\n",
    "                looking_for_basal_dend_id = True\n",
    "                \n",
    "            if looking_for_apical_dend_id and line.rfind(\"Id\")>-1:\n",
    "                \n",
    "                apical_dend_id = 4#int(line[line.rfind(\"Id\")+3,:]) \n",
    "                looking_for_apical_dend_id = False\n",
    "                #print (dend_id)\n",
    "            \n",
    "            if looking_for_basal_dend_id and line.rfind(\"Id\")>-1:\n",
    "                basal_dend_id = 5#int(line[line.rfind(\"Id\")+3:]) \n",
    "                looking_for_basal_dend_id = False\n",
    "                \n",
    "            if not line.find(\"Soma \") == -1:\n",
    "                looking_for_soma_id = True\n",
    "            if looking_for_soma_id and line.rfind(\"Id\")>-1:\n",
    "                soma_id = 7#int(line[line.rfind(\"Id\")+3:]) \n",
    "                looking_for_soma_id = False\n",
    "\n",
    "            if line.rfind(\"EDGE { int NumEdgePoints } @\")>-1:\n",
    "                edge_num_points_id = int(line[line.rfind(\"EDGE { int NumEdgePoints } @\")+len(\"EDGE { int NumEdgePoints } @\"):]) \n",
    "                #print edge_num_points_id\n",
    "\n",
    "            if line.rfind(\"EDGE { int EdgeLabels } @\")>-1:\n",
    "                edge_ids_id = int(line[line.rfind(\"EDGE { int EdgeLabels } @\")+len(\"EDGE { int EdgeLabels } @\"):]) \n",
    "                #print edge_ids_id\n",
    "\n",
    "            if line.rfind(\"POINT { float[3] EdgePointCoordinates } @\")>-1:\n",
    "                edge_points_id = int(line[line.rfind(\"POINT { float[3] EdgePointCoordinates } @\")+len(\"POINT { float[3] EdgePointCoordinates } @\"):]) \n",
    "                #print edge_points_id\n",
    "\n",
    "            if line.find(\"@{}\".format(edge_num_points_id)) == 0:\n",
    "                looking_for_num_edge_points = True\n",
    "                #print \"found {}\".format(edge_num_points_id)\n",
    "                continue\n",
    "            if looking_for_num_edge_points :\n",
    "                if (line.rfind(\"@\") == 0 or line.isspace()): \n",
    "                    looking_for_num_edge_points = False\n",
    "                    continue\n",
    "                else:\n",
    "                    edge_num_points.append( int(line ))\n",
    "\n",
    "            if line.find(\"@{}\".format(edge_ids_id)) == 0:\n",
    "                looking_for_edge_labels = True\n",
    "                #print \"found {}\".format(edge_ids_id)\n",
    "                continue\n",
    "            if looking_for_edge_labels :\n",
    "                if (line.rfind(\"@\") == 0 or line.isspace()): \n",
    "                    looking_for_edge_labels = False\n",
    "                    continue\n",
    "                else:\n",
    "                    edge_ids.append( int(line ))\n",
    "\n",
    "            if line.find(\"@{}\".format(edge_points_id)) == 0:\n",
    "                looking_for_edge_coords = True\n",
    "                #print \"found {}\".format(edge_points_id)\n",
    "                continue\n",
    "            if looking_for_edge_coords :\n",
    "                if (line.rfind(\"@\") == 0 or line.isspace()): \n",
    "                    looking_for_edge_coords = False\n",
    "                    continue\n",
    "                else:\n",
    "                    edge_point_coords.append( list(map(float,line.split())))\n",
    "\n",
    "\n",
    "    axon_points = []\n",
    "    dend_points = []\n",
    "    soma_points = []\n",
    "    start_ind = 0\n",
    "    end_ind = 0\n",
    "#     for i in range(len(edge_num_points)):\n",
    "#         print(i)\n",
    "#         start_ind = end_ind\n",
    "#         end_ind = start_ind + edge_num_points[i]\n",
    "#         if edge_ids[i] == axon_id:\n",
    "#             #print start_ind\n",
    "#             axon_points.append(edge_point_coords[start_ind:end_ind])\n",
    "#         if edge_ids[i] == apical_dend_id or edge_ids[i] == basal_dend_id:\n",
    "#             #print start_ind\n",
    "#             dend_points.append(edge_point_coords[start_ind:end_ind])\n",
    "#         if edge_ids[i] == soma_id:\n",
    "#             #print start_ind\n",
    "#             soma_points.append(edge_point_coords[start_ind:end_ind])\n",
    "\n",
    "    #print axon_points,dend_points,soma_points\n",
    "#     return (list(itertools.chain.from_iterable(axon_points))),(list(itertools.chain.from_iterable(dend_points))),(list(itertools.chain.from_iterable(soma_points)))\n",
    "    #return list([axon_points,dend_points,soma_points])\n",
    "    return edge_point_coords"
   ]
  },
  {
   "cell_type": "code",
   "execution_count": 27,
   "metadata": {
    "ExecuteTime": {
     "end_time": "2019-06-13T09:05:14.970160Z",
     "start_time": "2019-06-13T09:05:14.953167Z"
    },
    "collapsed": true
   },
   "outputs": [],
   "source": [
    "def getSectionPiaWMPoints( spatial_graph):\n",
    "    with open(spatial_graph, 'r') as csb:\n",
    "        edge_ids = []\n",
    "        edge_num_points = []\n",
    "        edge_point_coords = []\n",
    "\n",
    "        looking_for_pia_id = False\n",
    "        looking_for_wm_id = False\n",
    "        \n",
    "        looking_for_num_edge_points = False\n",
    "        looking_for_edge_labels = False\n",
    "        looking_for_edge_coords = False\n",
    "\n",
    "        pia_id = 0\n",
    "        wm_id = 0\n",
    "        \n",
    "        edge_num_points_id = 0\n",
    "        edge_ids_id = 0\n",
    "        edge_points_id = 0\n",
    "\n",
    "        lines = csb.readlines()\n",
    "\n",
    "        # for each manual landmark\n",
    "        for line in lines:\n",
    "            #print(line)\n",
    "            if not line.find(\"TransformationMatrix \") == -1:\n",
    "                transform = (line[line.rfind(\"TransformationMatrix \")+len(\"TransformationMatrix \"):-1])\n",
    "                transform = map(float, transform.split(\" \")[:])\n",
    "                #print translation\n",
    "\n",
    "            if not line.find(\"Pia \") == -1:\n",
    "                looking_for_pia_id = True\n",
    "            if looking_for_pia_id and line.rfind(\"Id\")>-1:\n",
    "                pia_id = int(line[line.rfind(\"Id\")+3:]) \n",
    "                looking_for_pia_id = False\n",
    "                #print (pia_id)\n",
    "            \n",
    "            if not line.find(\"WhiteMatter \") == -1:\n",
    "                looking_for_wm_id = True\n",
    "                \n",
    "            if looking_for_wm_id and line.rfind(\"Id\")>-1:\n",
    "                wm_id = int(line[line.rfind(\"Id\")+3:]) \n",
    "                looking_for_wm_id = False\n",
    "                #print (wm_id)\n",
    "            \n",
    "\n",
    "            if line.rfind(\"EDGE { int NumEdgePoints } @\")>-1:\n",
    "                edge_num_points_id = int(line[line.rfind(\"EDGE { int NumEdgePoints } @\")+len(\"EDGE { int NumEdgePoints } @\"):]) \n",
    "                #print edge_num_points_id\n",
    "\n",
    "            if line.rfind(\"EDGE { int GraphLabels } @\")>-1:\n",
    "                edge_ids_id = int(line[line.rfind(\"EDGE { int GraphLabels } @\")+len(\"EDGE { int GraphLabels } @\"):]) \n",
    "                #print edge_ids_id\n",
    "\n",
    "            if line.rfind(\"POINT { float[3] EdgePointCoordinates } @\")>-1:\n",
    "                edge_points_id = int(line[line.rfind(\"POINT { float[3] EdgePointCoordinates } @\")+len(\"POINT { float[3] EdgePointCoordinates } @\"):]) \n",
    "                #print edge_points_id\n",
    "\n",
    "            if line.find(\"@{}\".format(edge_num_points_id)) == 0:\n",
    "                looking_for_num_edge_points = True\n",
    "                #print \"found {}\".format(edge_num_points_id)\n",
    "                continue\n",
    "            if looking_for_num_edge_points :\n",
    "                if (line.rfind(\"@\") == 0 or line.isspace()): \n",
    "                    looking_for_num_edge_points = False\n",
    "                    continue\n",
    "                else:\n",
    "                    edge_num_points.append( int(line ))\n",
    "\n",
    "            if line.find(\"@{}\".format(edge_ids_id)) == 0:\n",
    "                looking_for_edge_labels = True\n",
    "                #print \"found {}\".format(edge_ids_id)\n",
    "                continue\n",
    "            if looking_for_edge_labels :\n",
    "                if (line.rfind(\"@\") == 0 or line.isspace()): \n",
    "                    looking_for_edge_labels = False\n",
    "                    continue\n",
    "                else:\n",
    "                    edge_ids.append( int(line ))\n",
    "\n",
    "            if line.find(\"@{}\".format(edge_points_id)) == 0:\n",
    "                looking_for_edge_coords = True\n",
    "                #print \"found {}\".format(edge_points_id)\n",
    "                continue\n",
    "            if looking_for_edge_coords :\n",
    "                if (line.rfind(\"@\") == 0 or line.isspace()): \n",
    "                    looking_for_edge_coords = False\n",
    "                    continue\n",
    "                else:\n",
    "                    edge_point_coords.append( list(map(float,line.split())))\n",
    "\n",
    "\n",
    "    pia_points = []\n",
    "    wm_points = []\n",
    "    #bv_points = []\n",
    "    start_ind = 0\n",
    "    end_ind = 0\n",
    "    for i in range(len(edge_num_points)):\n",
    "        #print(i)\n",
    "        start_ind = end_ind\n",
    "        end_ind = start_ind + edge_num_points[i]\n",
    "        if edge_ids[i] == pia_id:\n",
    "            #print start_ind\n",
    "            pia_points.append(edge_point_coords[start_ind:end_ind])\n",
    "        if edge_ids[i] == wm_id :\n",
    "            #print start_ind\n",
    "            wm_points.append(edge_point_coords[start_ind:end_ind])\n",
    "#         if edge_ids[i] == bv_id:\n",
    "#             #print start_ind\n",
    "#             bv_points.append(edge_point_coords[start_ind:end_ind])\n",
    "\n",
    "    #print axon_points,dend_points,soma_points\n",
    "    return [(list(itertools.chain.from_iterable(pia_points))),(list(itertools.chain.from_iterable(wm_points)))]\n",
    "    #return list([axon_points,dend_points,soma_points])\n",
    "    "
   ]
  },
  {
   "cell_type": "code",
   "execution_count": 5,
   "metadata": {
    "ExecuteTime": {
     "end_time": "2019-01-16T12:08:56.401537Z",
     "start_time": "2019-01-16T12:08:56.188992Z"
    },
    "collapsed": true
   },
   "outputs": [],
   "source": [
    "def getSpatialGraphStackPoints( spatial_graph):\n",
    "    with open(spatial_graph, 'r') as csb:\n",
    "        edge_ids = []\n",
    "        edge_num_points = []\n",
    "        edge_point_coords = []\n",
    "\n",
    "        looking_for_axon_id = False\n",
    "        looking_for_dend_id = False\n",
    "        looking_for_soma_id = False\n",
    "        looking_for_num_edge_points = False\n",
    "        looking_for_edge_labels = False\n",
    "        looking_for_edge_coords = False\n",
    "\n",
    "        axon_id = 0\n",
    "        dend_id = 0\n",
    "        soma_id = 0\n",
    "        edge_num_points_id = 0\n",
    "        edge_ids_id = 0\n",
    "        edge_points_id = 0\n",
    "\n",
    "        lines = csb.readlines()\n",
    "\n",
    "        # for each manual landmark\n",
    "        for line in lines:\n",
    "\n",
    "            if not line.find(\"TransformationMatrix \") == -1:\n",
    "                transform = (line[line.rfind(\"TransformationMatrix \")+len(\"TransformationMatrix \"):-1])\n",
    "                transform = map(float, transform.split(\" \")[:])\n",
    "                #print translation\n",
    "\n",
    "            if line.rfind(\"EDGE { int NumEdgePoints } @\")>-1:\n",
    "                edge_num_points_id = int(line[line.rfind(\"EDGE { int NumEdgePoints } @\")+len(\"EDGE { int NumEdgePoints } @\"):]) \n",
    "                #print edge_num_points_id\n",
    "\n",
    "            if line.rfind(\"EDGE { int EdgeLabels } @\")>-1:\n",
    "                edge_ids_id = int(line[line.rfind(\"EDGE { int EdgeLabels } @\")+len(\"EDGE { int EdgeLabels } @\"):]) \n",
    "                #print edge_ids_id\n",
    "\n",
    "            if line.rfind(\"POINT { float[3] EdgePointCoordinates } @\")>-1:\n",
    "                edge_points_id = int(line[line.rfind(\"POINT { float[3] EdgePointCoordinates } @\")+len(\"POINT { float[3] EdgePointCoordinates } @\"):]) \n",
    "                #print edge_points_id\n",
    "\n",
    "            if line.find(\"@{}\".format(edge_num_points_id)) == 0:\n",
    "                looking_for_num_edge_points = True\n",
    "                #print \"found {}\".format(edge_num_points_id)\n",
    "                continue\n",
    "            if looking_for_num_edge_points :\n",
    "                if (line.rfind(\"@\") == 0 or line.isspace()): \n",
    "                    looking_for_num_edge_points = False\n",
    "                    continue\n",
    "                else:\n",
    "                    edge_num_points.append( int(line ))\n",
    "\n",
    "            if line.find(\"@{}\".format(edge_ids_id)) == 0:\n",
    "                looking_for_edge_labels = True\n",
    "                #print \"found {}\".format(edge_ids_id)\n",
    "                continue\n",
    "            if looking_for_edge_labels :\n",
    "                if (line.rfind(\"@\") == 0 or line.isspace()): \n",
    "                    looking_for_edge_labels = False\n",
    "                    continue\n",
    "                else:\n",
    "                    edge_ids.append( int(line ))\n",
    "\n",
    "            if line.find(\"@{}\".format(edge_points_id)) == 0:\n",
    "                looking_for_edge_coords = True\n",
    "                #print \"found {}\".format(edge_points_id)\n",
    "                continue\n",
    "            if looking_for_edge_coords :\n",
    "                if (line.rfind(\"@\") == 0 or line.isspace()): \n",
    "                    looking_for_edge_coords = False\n",
    "                    continue\n",
    "                else:\n",
    "                    edge_point_coords.append( [float(line.split()[0]),float(line.split()[1]),float(line.split()[2])] )\n",
    "\n",
    "\n",
    "    \n",
    "\n",
    "    #print axon_points,dend_points,soma_points\n",
    "    #return (list(itertools.chain.from_iterable(edge_point_coords))),(list(itertools.chain.from_iterable(dend_points))),(list(itertools.chain.from_iterable(soma_points)))\n",
    "    #return list([axon_points,dend_points,soma_points])\n",
    "    return (edge_point_coords)"
   ]
  },
  {
   "cell_type": "code",
   "execution_count": 1,
   "metadata": {
    "ExecuteTime": {
     "end_time": "2019-02-21T03:34:31.360416Z",
     "start_time": "2019-02-21T03:34:31.326415Z"
    },
    "collapsed": true
   },
   "outputs": [],
   "source": [
    "def getLandmarkCoords(filename):\n",
    "    #print filename\n",
    "    manual_landmark_list = []\n",
    "    with open(filename, 'r') as csb:\n",
    "        lines = csb.readlines()\n",
    "        number = 0\n",
    "        \n",
    "        # for each manual landmark\n",
    "        for line in lines:\n",
    "            #print line\n",
    "            min_dist = 1000000\n",
    "            prox_line_ind = 1000000\n",
    "            if line.startswith(\"@1\"):\n",
    "                number = 1\n",
    "                continue\n",
    "            if number == 1 and line.isspace() == False:\n",
    "                #print line.split()\n",
    "                manual_landmark_list.append(list(map(float,line.split())))\n",
    "        \n",
    "    return manual_landmark_list"
   ]
  },
  {
   "cell_type": "code",
   "execution_count": 4,
   "metadata": {
    "collapsed": true
   },
   "outputs": [],
   "source": [
    "def getTransformFromHxFile(filename):\n",
    "    #print filename\n",
    "    manual_landmark_list = []\n",
    "    with open(filename, 'r') as csb:\n",
    "        lines = csb.readlines()\n",
    "        \n",
    "        # for each manual landmark\n",
    "        for line in lines:\n",
    "            \n",
    "            if not line.find(\"setTranslation \") == -1:\n",
    "                translation = map(float,line.split(' ')[2:5])\n",
    "                #print translation\n",
    "            if not line.find(\"setTransform \") == -1:\n",
    "                transform = map(float,line.split(' ')[2:2+16])\n",
    "                #print transform\n",
    "\n",
    "    return translation,transform\n",
    "        \n"
   ]
  },
  {
   "cell_type": "code",
   "execution_count": 11,
   "metadata": {
    "collapsed": true
   },
   "outputs": [],
   "source": [
    "def applyTransform(points,transform,translate=[]):\n",
    "    \n",
    "    nda = np.array(points)#.reshape([np.array(points).shape[0],3])\n",
    "    #print nda.shape\n",
    "    \n",
    "    if len(translate)>0:\n",
    "        #translate_reshape = np.array(translate).reshape([1,3])\n",
    "        #print translate_reshape.shape\n",
    "        #translate_reshaped=np.append(translate_reshape, np.ones([1,1]), axis=1)\n",
    "        #np.append(np.array(translate),np.ones([np.array(translate).shape[0],1]),axis=1)\n",
    "        #print points\n",
    "        #print translate_reshaped\n",
    "        nda = nda + translate\n",
    "        \n",
    "    nda = np.append(nda,np.ones([nda.shape[0],1]),axis=1)\n",
    "        \n",
    "    transform = np.array(transform)\n",
    "    transform = transform.reshape([4,4],order='F')\n",
    "    #inverse = np.linalg.inv(transform)\n",
    "    nda = np.transpose(np.matmul((transform),np.transpose(nda)))\n",
    "    \n",
    "    \n",
    "   \n",
    "    return nda[:,0:3]\n",
    "\n"
   ]
  },
  {
   "cell_type": "code",
   "execution_count": 5,
   "metadata": {
    "collapsed": true
   },
   "outputs": [],
   "source": [
    "def applyInverseTransform(points,transform,translate=[]):\n",
    "    \n",
    "    nda = np.array(points)#.reshape([np.array(points).shape[0],3])\n",
    "    #print nda.shape\n",
    "    nda = np.append(nda,np.ones([nda.shape[0],1]),axis=1)\n",
    "\n",
    "    transform = np.array(transform)\n",
    "    transform = transform.reshape([4,4],order='F')\n",
    "    inverse = np.linalg.inv(transform)\n",
    "    nda = np.transpose(np.matmul(inverse,np.transpose(nda)))\n",
    "\n",
    "    if len(translate)>0:\n",
    "        translate_reshape = np.array(translate).reshape([1,3])\n",
    "        #print translate_reshape.shape\n",
    "        translate_reshaped=np.append(translate_reshape, np.ones([1,1]), axis=1)\n",
    "        #np.append(np.array(translate),np.ones([np.array(translate).shape[0],1]),axis=1)\n",
    "        #print points\n",
    "        #print translate_reshaped\n",
    "        nda = nda - translate_reshaped\n",
    "    return nda[:,0:3]\n",
    "\n"
   ]
  },
  {
   "cell_type": "code",
   "execution_count": 28,
   "metadata": {
    "ExecuteTime": {
     "end_time": "2019-06-13T11:04:22.991735Z",
     "start_time": "2019-06-13T11:04:22.985747Z"
    },
    "collapsed": true
   },
   "outputs": [],
   "source": [
    "def scaleToImageCoords(points,XY_RESOLUTION=1,Z_RESOLUTION=1):\n",
    "    _points = np.array(points,dtype=np.int64)\n",
    "    _points[:,0] = list(map(round,(_points[:,0] / XY_RESOLUTION)))\n",
    "    _points[:,1] = list(map(round,(_points[:,1] / XY_RESOLUTION)))\n",
    "    _points[:,2] = list(map(round,(_points[:,2] / Z_RESOLUTION)))\n",
    "   \n",
    "    return _points\n",
    "\n"
   ]
  },
  {
   "cell_type": "code",
   "execution_count": 28,
   "metadata": {
    "ExecuteTime": {
     "end_time": "2019-06-13T11:04:22.991735Z",
     "start_time": "2019-06-13T11:04:22.985747Z"
    },
    "collapsed": true
   },
   "outputs": [],
   "source": [
    "def scaleToImageCoords2D(points,XY_RESOLUTION=1,Z_RESOLUTION=1):\n",
    "    _points = np.reshape(np.array(points,dtype=np.int64),[len(points),2])\n",
    "    _points[:,0] = list(map(round,(_points[:,0] / XY_RESOLUTION)))\n",
    "    _points[:,1] = list(map(round,(_points[:,1] / XY_RESOLUTION)))\n",
    "    #_points[:,2] = list(map(round,(_points[:,2] / Z_RESOLUTION)))\n",
    "   \n",
    "    return _points\n",
    "\n"
   ]
  },
  {
   "cell_type": "code",
   "execution_count": 5,
   "metadata": {
    "collapsed": true
   },
   "outputs": [],
   "source": [
    "def scaleToPhysicalCoords(points):\n",
    "    if len(points)==0:\n",
    "        return\n",
    "    _points = np.array(points,dtype=np.float32)\n",
    "    _points[:,0] = points[:,0] * XY_RESOLUTION\n",
    "    _points[:,1] = points[:,1] * XY_RESOLUTION\n",
    "    _points[:,2] = points[:,2] * Z_RESOLUTION\n",
    "   \n",
    "    return _points\n",
    "\n"
   ]
  },
  {
   "cell_type": "code",
   "execution_count": 57,
   "metadata": {
    "collapsed": true
   },
   "outputs": [],
   "source": [
    "def image_3D_slice_viewer(slice_num=10):\n",
    "    plt.imshow(sitk.GetArrayViewFromImage(image)[slice_num,:,:])"
   ]
  },
  {
   "cell_type": "code",
   "execution_count": 8,
   "metadata": {
    "collapsed": true
   },
   "outputs": [],
   "source": [
    "# Axon  Image based on the skeleton\n",
    "def getAxonorDendtriteImage(segim,axon_dend_skeleton_int,axon_dend_skeleton,radius=0):\n",
    "    axon_only_im = sitk.Image(segim.GetWidth(),segim.GetHeight(),segim.GetDepth(),segim.GetPixelID())\n",
    "    axon_only_im.SetOrigin(segim.GetOrigin())\n",
    "    objvalues =  ((sitk.GetArrayFromImage(segim) \\\n",
    "                   [[map(int,axon_dend_skeleton[:,2])], \\\n",
    "                    [map(int,axon_dend_skeleton[:,1])], \\\n",
    "                    [map(int,axon_dend_skeleton[:,0])]]))\n",
    "    pixelvalueslist = map(float,objvalues[0])\n",
    "    pixelvalueslistfinal = np.array(pixelvalueslist)[np.array(pixelvalueslist)>1]\n",
    "    \n",
    "    for pixelvalue in pixelvalueslistfinal:\n",
    "        if pixelvalue > 1:\n",
    "            ncc = sitk.NeighborhoodConnectedImageFilter()\n",
    "            ncc.SetRadius(radius)\n",
    "            ncc.SetLower(pixelvalue)\n",
    "            ncc.SetUpper(pixelvalue)\n",
    "            ncc.SetReplaceValue(255)\n",
    "            ncc.SetSeedList(axon_dend_skeleton_int)\n",
    "            #ncc.SetSeed([2,85,7])\n",
    "            axon_only_im = sitk.Or(axon_only_im,sitk.Cast(ncc.Execute(segim),segim.GetPixelID()))\n",
    "\n",
    "    return axon_only_im"
   ]
  },
  {
   "cell_type": "code",
   "execution_count": 30,
   "metadata": {
    "collapsed": true
   },
   "outputs": [],
   "source": [
    "# Axon  Image based on the skeleton\n",
    "def getAxonorDendtriteImageAutoUpdate(segim,seeds,radius=0):\n",
    "    ncc = sitk.NeighborhoodConnectedImageFilter()\n",
    "    ncc.SetRadius(radius)\n",
    "    ncc.SetLower(2.0)\n",
    "    ncc.SetUpper(float(np.max(sitk.GetArrayFromImage(segim))))\n",
    "    ncc.SetReplaceValue(255)\n",
    "    ncc.SetSeedList(seeds)\n",
    "    return (sitk.Cast(ncc.Execute(segim),segim.GetPixelID()))"
   ]
  },
  {
   "cell_type": "code",
   "execution_count": 17,
   "metadata": {
    "collapsed": true
   },
   "outputs": [],
   "source": [
    "# Axon  Image based on the skeleton\n",
    "#@cuda.jit\n",
    "def getAxonorDendtriteFromMaskImage(segim,skelim,min_pixel_value=1,radius=0):\n",
    "    axon_only_im = sitk.Image(segim.GetWidth(),segim.GetHeight(),segim.GetDepth(),segim.GetPixelID())\n",
    "    axon_only_im.SetOrigin(segim.GetOrigin())\n",
    "    masked = sitk.Mask(segim,skelim)\n",
    "    npmasked = sitk.GetArrayFromImage(masked)\n",
    "    inds = (np.where(npmasked>1))\n",
    "    iminds = ([map(int,inds[2]),map(int,inds[1]),map(int,inds[0])])\n",
    "    seeds = list(np.transpose(iminds))\n",
    "    \n",
    "    pixelvalues = np.unique(sitk.GetArrayFromImage(masked)[sitk.GetArrayFromImage(masked)>1])\n",
    "    \n",
    "    for pixelvalue in map(float,pixelvalues):\n",
    "        if pixelvalue > min_pixel_value:\n",
    "            #print pixelvalue\n",
    "            ncc = sitk.NeighborhoodConnectedImageFilter()\n",
    "            ncc.SetRadius(radius)\n",
    "            ncc.SetLower(pixelvalue)\n",
    "            ncc.SetUpper(pixelvalue)\n",
    "            ncc.SetReplaceValue(255)\n",
    "            ncc.SetSeedList(seeds)\n",
    "            #ncc.SetSeed([2,85,7])\n",
    "            axon_only_im = sitk.Or(axon_only_im,sitk.Cast(ncc.Execute(segim),segim.GetPixelID()))\n",
    "\n",
    "    return axon_only_im\n",
    "\n",
    "\n",
    "#image = getAxonorDendtriteFromMaskImage(segim,mask)\n",
    "#interact(image_3D_slice_viewer,slice_num=widgets.IntSlider(min=0,max=image.GetDepth()-1,step=1))"
   ]
  },
  {
   "cell_type": "code",
   "execution_count": 10,
   "metadata": {
    "collapsed": true
   },
   "outputs": [],
   "source": [
    "# Axon  Image based on the skeleton\n",
    "#@cuda.jit\n",
    "def getAxonorDendtriteFromMaskImageAutoUpdate(segim,skelim,min_pixel_value=1,radius=0):\n",
    "    axon_only_im = sitk.Image(segim.GetWidth(),segim.GetHeight(),segim.GetDepth(),segim.GetPixelID())\n",
    "    axon_only_im.SetOrigin(segim.GetOrigin())\n",
    "    masked = sitk.Mask(segim,skelim)\n",
    "    npmasked = sitk.GetArrayFromImage(masked)\n",
    "    npseg = sitk.GetArrayFromImage(masked)\n",
    "    inds = (np.where(npmasked>1))\n",
    "    iminds = ([map(int,inds[2]),map(int,inds[1]),map(int,inds[0])])\n",
    "    seeds = list(np.transpose(iminds))\n",
    "    \n",
    "    ncc = sitk.NeighborhoodConnectedImageFilter()\n",
    "    ncc.SetRadius(radius)\n",
    "    ncc.SetLower(2)\n",
    "    ncc.SetUpper(float(np.max(npseg)))\n",
    "    ncc.SetReplaceValue(255)\n",
    "    ncc.SetSeedList(seeds)\n",
    "    \n",
    "    #axon_only_im = sitk.Or(axon_only_im,sitk.Cast(ncc.Execute(segim),segim.GetPixelID()))\n",
    "\n",
    "    return sitk.Cast(ncc.Execute(segim),segim.GetPixelID())\n",
    "\n",
    "\n",
    "#image = getAxonorDendtriteFromMaskImage(segim,mask)\n",
    "#interact(image_3D_slice_viewer,slice_num=widgets.IntSlider(min=0,max=image.GetDepth()-1,step=1))"
   ]
  },
  {
   "cell_type": "code",
   "execution_count": 11,
   "metadata": {
    "collapsed": true
   },
   "outputs": [],
   "source": [
    "# Axon  Image based on the skeleton\n",
    "def getAxonorDendtriteMinValue(im,axon_dend_skeleton):\n",
    "    objvalues =  ((sitk.GetArrayFromImage(im) \\\n",
    "                   [[map(int,axon_dend_skeleton[:,2])], \\\n",
    "                    [map(int,axon_dend_skeleton[:,1])], \\\n",
    "                    [map(int,axon_dend_skeleton[:,0])]]))\n",
    "    \n",
    "    return [float(np.min(objvalues)),float(np.min(objvalues)),float(np.min(objvalues))]"
   ]
  },
  {
   "cell_type": "code",
   "execution_count": 12,
   "metadata": {
    "collapsed": true
   },
   "outputs": [],
   "source": [
    "# Axon  Image based on the skeleton\n",
    "def getAxonorDendtriteMinValueFromMask(im,maskim):\n",
    "    masked = sitk.Mask(segim,maskim)\n",
    "    npmasked = sitk.GetArrayFromImage(masked)\n",
    "    inds = (np.where(npmasked>1))\n",
    "    iminds = ([map(int,inds[2]),map(int,inds[1]),map(int,inds[0])])\n",
    "    objvalues = np.unique(sitk.GetArrayFromImage(masked)[sitk.GetArrayFromImage(masked)>1])\n",
    "    \n",
    "    return [float(np.min(objvalues)),float(np.min(objvalues)),float(np.min(objvalues))]"
   ]
  },
  {
   "cell_type": "code",
   "execution_count": 49,
   "metadata": {
    "collapsed": true
   },
   "outputs": [],
   "source": [
    "# Validate the contacts\n",
    "# if spine contact, there must be a path of objects connecting axon to dend shaft through spines \n",
    "def getValidOverlaps(overlapspineim,segimwithoutaxonim,dendshaftimagestrict):\n",
    "    overlapclusters = []\n",
    "    overlapcentroids = [] \n",
    "    arr = sitk.GetArrayFromImage(overlapspineim)\n",
    "    inds = np.transpose(np.where(arr>0) )\n",
    "    \n",
    "    if len(inds) > 0:\n",
    "        #tree = cluster.spectral.kneighbors_graph(inds,n_neighbors=24,metric='euclidean')\n",
    "        #ncomps,labels = cluster.hierarchical.connected_components(tree)\n",
    "        #spclu = cluster.spectral.SpectralClustering()\n",
    "        agg = cluster.AgglomerativeClustering(linkage='complete')\n",
    "        labels = agg.fit_predict(inds)\n",
    "        for grouplabel in np.unique(labels):\n",
    "            group_inds = inds[np.where(labels==grouplabel)]\n",
    "            seedlist = []\n",
    "            for seed in group_inds:\n",
    "                seedlist.append([int(seed[2]),int(seed[1]),int(seed[0])])\n",
    "            blaim = sitk.Mask(getAxonorDendtriteImageAutoUpdate(segimwithoutaxonim,seedlist), dendshaftimagestrict)\n",
    "            if sitk.GetArrayFromImage(blaim).max() > 1:\n",
    "                overlapclusters.append(seedlist)\n",
    "                overlapcentroids.append(np.array(seedlist).mean(axis=0))\n",
    "            \n",
    "    return list([overlapcentroids,overlapclusters])"
   ]
  },
  {
   "cell_type": "code",
   "execution_count": 91,
   "metadata": {
    "collapsed": true
   },
   "outputs": [],
   "source": [
    "def getOverlapCentroids(overlapim,numClusters):\n",
    "    overlapcentroidslist = []\n",
    "    arr = sitk.GetArrayFromImage(overlapim)\n",
    "    inds = np.transpose(np.where(arr>0) )\n",
    "    if inds.size > 0:\n",
    "        overlapcentroids= (cluster.k_means(inds,numClusters))[0]\n",
    "        for centroid in overlapcentroids:\n",
    "            overlapcentroidslist.append( [centroid[2],centroid[1],centroid[0]])\n",
    "    return overlapcentroidslist"
   ]
  },
  {
   "cell_type": "code",
   "execution_count": 49,
   "metadata": {
    "collapsed": true
   },
   "outputs": [],
   "source": [
    "# Validate the contacts\n",
    "# if spine contact, there must be a path of objects connecting axon to dend shaft through spines \n",
    "def getValidOverlaps(overlapspineim,segimwithoutaxonim,dendshaftimagestrict):\n",
    "    overlapclusters = []\n",
    "    overlapcentroids = [] \n",
    "    arr = sitk.GetArrayFromImage(overlapspineim)\n",
    "    inds = np.transpose(np.where(arr>0) )\n",
    "    \n",
    "    if len(inds) > 0:\n",
    "        #tree = cluster.spectral.kneighbors_graph(inds,n_neighbors=24,metric='euclidean')\n",
    "        #ncomps,labels = cluster.hierarchical.connected_components(tree)\n",
    "        #spclu = cluster.spectral.SpectralClustering()\n",
    "        agg = cluster.AgglomerativeClustering(linkage='complete')\n",
    "        labels = agg.fit_predict(inds)\n",
    "        for grouplabel in np.unique(labels):\n",
    "            group_inds = inds[np.where(labels==grouplabel)]\n",
    "            seedlist = []\n",
    "            for seed in group_inds:\n",
    "                seedlist.append([int(seed[2]),int(seed[1]),int(seed[0])])\n",
    "            blaim = sitk.Mask(getAxonorDendtriteImageAutoUpdate(segimwithoutaxonim,seedlist), dendshaftimagestrict)\n",
    "            if sitk.GetArrayFromImage(blaim).max() > 1:\n",
    "                overlapclusters.append(seedlist)\n",
    "                overlapcentroids.append(np.array(seedlist).mean(axis=0))\n",
    "            \n",
    "    return list([overlapcentroids,overlapclusters])"
   ]
  },
  {
   "cell_type": "code",
   "execution_count": 3,
   "metadata": {
    "collapsed": true
   },
   "outputs": [],
   "source": [
    "def convertPointToImage(pts,templateimg):\n",
    "    arrim = sitk.Image(templateimg.GetWidth(),templateimg.GetHeight(),templateimg.GetDepth(),templateimg.GetPixelID())\n",
    "    arr = sitk.GetArrayFromImage(arrim)\n",
    "    if len(pts)>0:\n",
    "        apts = np.array(pts)\n",
    "        arr[apts[:,2],apts[:,1],apts[:,0]] = 255\n",
    "    im = sitk.GetImageFromArray(arr)\n",
    "    im.SetOrigin(templateimg.GetOrigin())\n",
    "    return im\n",
    "     "
   ]
  },
  {
   "cell_type": "code",
   "execution_count": 15,
   "metadata": {
    "ExecuteTime": {
     "end_time": "2019-06-05T11:23:50.323986Z",
     "start_time": "2019-06-05T11:23:50.317984Z"
    },
    "collapsed": true
   },
   "outputs": [],
   "source": [
    "def convertPointsToImage(pts,templateimg):\n",
    "    arrim = sitk.Image(templateimg.GetWidth(),templateimg.GetHeight(),templateimg.GetDepth(),templateimg.GetPixelID())\n",
    "    arr = sitk.GetArrayFromImage(arrim)\n",
    "    if len(pts)>0:\n",
    "        apts = np.transpose([list(map(int,np.array(pts)[:,0])),list(map(int,np.array(pts)[:,1])),list(map(int,np.array(pts)[:,2]))])\n",
    "        arr[apts[:,2],apts[:,1],apts[:,0]] = 255\n",
    "    im = sitk.GetImageFromArray(arr)\n",
    "    im.SetOrigin(templateimg.GetOrigin())\n",
    "    return im\n",
    "     "
   ]
  },
  {
   "cell_type": "code",
   "execution_count": 14,
   "metadata": {
    "ExecuteTime": {
     "end_time": "2019-06-05T11:22:29.310622Z",
     "start_time": "2019-06-05T11:22:29.303637Z"
    },
    "collapsed": true
   },
   "outputs": [],
   "source": [
    "def convertPointsToImage2D(pts,templateimg):\n",
    "    arrim = sitk.Image(templateimg.GetWidth(),templateimg.GetHeight(),templateimg.GetPixelID())\n",
    "    arr = sitk.GetArrayFromImage(arrim)\n",
    "    if len(pts)>0:\n",
    "        apts = np.transpose([list(map(int,np.array(pts)[:,0])),list(map(int,np.array(pts)[:,1]))])\n",
    "        arr[apts[:,1],apts[:,0]] = 255\n",
    "    im = sitk.GetImageFromArray(arr)\n",
    "    im.SetOrigin([templateimg.GetWidth(),templateimg.GetHeight(),0])\n",
    "    return im\n",
    "     "
   ]
  },
  {
   "cell_type": "code",
   "execution_count": 16,
   "metadata": {
    "ExecuteTime": {
     "end_time": "2019-06-06T12:30:31.035445Z",
     "start_time": "2019-06-06T12:30:31.030444Z"
    },
    "collapsed": true
   },
   "outputs": [],
   "source": [
    "def convertPointsToPolydata(pts):\n",
    "    points = vtk.vtkPoints()\n",
    "    vertices = vtk.vtkCellArray()\n",
    "\n",
    "    for i in range(len(pts)):\n",
    "        #print(len(pts[i]))\n",
    "        ids = points.InsertNextPoint(pts[i])\n",
    "\n",
    "        vertices.InsertNextCell(1,[i])\n",
    "\n",
    "    polydata = vtk.vtkPolyData()\n",
    "    polydata.SetPoints(points)\n",
    "    polydata.SetVerts(vertices)\n",
    "    \n",
    "    return polydata"
   ]
  },
  {
   "cell_type": "code",
   "execution_count": 17,
   "metadata": {
    "ExecuteTime": {
     "end_time": "2019-06-06T13:47:15.071669Z",
     "start_time": "2019-06-06T13:47:15.066681Z"
    },
    "collapsed": true
   },
   "outputs": [],
   "source": [
    "def convertPointsToPolydata2D(pts):\n",
    "    points = vtk.vtkPoints()\n",
    "    vertices = vtk.vtkCellArray()\n",
    "\n",
    "    for i in range(len(pts)):\n",
    "        #print(len(pts[i]))\n",
    "        ids = points.InsertNextPoint([pts[i][0],pts[i][1],0])\n",
    "\n",
    "        vertices.InsertNextCell(1,[i])\n",
    "\n",
    "    polydata = vtk.vtkPolyData()\n",
    "    polydata.SetPoints(points)\n",
    "    polydata.SetVerts(vertices)\n",
    "    \n",
    "    return polydata"
   ]
  },
  {
   "cell_type": "code",
   "execution_count": 17,
   "metadata": {
    "ExecuteTime": {
     "end_time": "2019-06-06T13:47:15.071669Z",
     "start_time": "2019-06-06T13:47:15.066681Z"
    },
    "collapsed": true
   },
   "outputs": [],
   "source": [
    "def convertPointsListToPolydata2D(ptslist):\n",
    "    points = vtk.vtkPoints()\n",
    "    vertices = vtk.vtkCellArray()\n",
    "\n",
    "    for pts in ptslist:\n",
    "        for i in range(len(pts)):\n",
    "            #print(len(pts[i]))\n",
    "            ids = points.InsertNextPoint([pts[i][0],pts[i][1],0])\n",
    "\n",
    "            vertices.InsertNextCell(1,[i])\n",
    "\n",
    "    polydata = vtk.vtkPolyData()\n",
    "    polydata.SetPoints(points)\n",
    "    polydata.SetVerts(vertices)\n",
    "    \n",
    "    return polydata"
   ]
  },
  {
   "cell_type": "code",
   "execution_count": null,
   "metadata": {
    "collapsed": true
   },
   "outputs": [],
   "source": [
    "def convertPolydataToPoints(pdata):\n",
    "    pt_list = []\n",
    "    for i in range(pdata.GetNumberOfPoints()):\n",
    "        pt_list.append(pdata.GetPoints().GetPoint(i))\n",
    "        \n",
    "    return pt_list"
   ]
  },
  {
   "cell_type": "code",
   "execution_count": 51,
   "metadata": {
    "collapsed": true
   },
   "outputs": [],
   "source": [
    "def cropPointsToImageBoundingBox(pts,croppedim):\n",
    "    if len(pts)==0:\n",
    "        return list([])\n",
    "    pts = pts - map(int,croppedim.GetOrigin())\n",
    "    centroid = [int(croppedim.GetWidth()/2.0),int(croppedim.GetHeight()/2.0),int(croppedim.GetDepth()/2.0)]\n",
    "    uppercorner = centroid[0]+int(croppedim.GetWidth()/2.0), centroid[1]+int(croppedim.GetHeight()/2.0), centroid[2]+int(croppedim.GetDepth()/2.0)\n",
    "    lowercorner = centroid[0]-int(croppedim.GetWidth()/2.0), centroid[1]-int(croppedim.GetHeight()/2.0), centroid[2]-int(croppedim.GetDepth()/2.0)\n",
    "    croppedpts = []\n",
    "    for pt in pts:\n",
    "        if ((pt[0]<uppercorner[0] and pt[1]<uppercorner[1] and pt[2]<uppercorner[2])\n",
    "            and (pt[0]>lowercorner[0] and pt[1]>lowercorner[1] and pt[2]>lowercorner[2])):\n",
    "            croppedpts.append(pt)\n",
    "            \n",
    "    return croppedpts"
   ]
  },
  {
   "cell_type": "code",
   "execution_count": 24,
   "metadata": {
    "ExecuteTime": {
     "end_time": "2019-06-11T13:30:39.683333Z",
     "start_time": "2019-06-11T13:30:39.677350Z"
    },
    "collapsed": true
   },
   "outputs": [],
   "source": [
    "def scale_pts(pts, xy_scaling = 1, z_coord = 0, z_offset = 0):\n",
    "    scaled_pts = []\n",
    "    for i in range(len(pts)):\n",
    "        if (len(pts[0])==2):\n",
    "            scaled_pts.append([pts[i][0]*xy_scaling,pts[i][1]*xy_scaling,z_coord])\n",
    "        else:\n",
    "            scaled_pts.append([pts[i][0]*xy_scaling,pts[i][1]*xy_scaling,z_coord])\n",
    "    \n",
    "    return scaled_pts"
   ]
  },
  {
   "cell_type": "code",
   "execution_count": 13,
   "metadata": {
    "collapsed": true
   },
   "outputs": [],
   "source": [
    "def convertCroppedImageToPhysicalCoords(pts,croppedim):\n",
    "    \n",
    "    return applyTransform(scaleToPhysicalCoords(np.array(pts) + croppedim.GetOrigin()),transform_img,translate_img)\n"
   ]
  },
  {
   "cell_type": "code",
   "execution_count": 16,
   "metadata": {
    "collapsed": true
   },
   "outputs": [],
   "source": [
    "def getMinMaxPts(pts):\n",
    "    return list([np.min(np.array(pts),axis=0), np.max(np.array(pts),axis=0)])"
   ]
  },
  {
   "cell_type": "code",
   "execution_count": 19,
   "metadata": {
    "collapsed": true
   },
   "outputs": [],
   "source": [
    "def getZOrientation(pts,croppedim):\n",
    "    [axonminptim , axonmaxptim] = (getMinMaxPts(pts))\n",
    "\n",
    "    axonminpt = convertCroppedImageToPhysicalCoords(axonminptim.reshape([1,3]),croppedim)\n",
    "    axonmaxpt = convertCroppedImageToPhysicalCoords(axonmaxptim.reshape([1,3]),croppedim)\n",
    "    xz = np.tanh((axonmaxpt[:,2]-axonminpt[:,2])/float(axonmaxpt[:,0]-axonminpt[:,0])) * 180 / np.pi\n",
    "    yz = np.tanh((axonmaxpt[:,2]-axonminpt[:,2])/float(axonmaxpt[:,1]-axonminpt[:,1])) * 180 / np.pi\n",
    "    return list([xz,yz])"
   ]
  },
  {
   "cell_type": "code",
   "execution_count": 41,
   "metadata": {
    "collapsed": true
   },
   "outputs": [],
   "source": [
    "def getImageStats(im):\n",
    "    stats = sitk.StatisticsImageFilter()\n",
    "    stats.Execute(im)\n",
    "    stats.GetMean()\n",
    "    stats.GetMaximum()\n",
    "    stats.GetMinimum()\n",
    "    stats.GetSigma()\n",
    "    \n",
    "    return list([stats.GetMaximum(),stats.GetMinimum(),stats.GetMean(),stats.GetSigma()])"
   ]
  },
  {
   "cell_type": "code",
   "execution_count": 66,
   "metadata": {
    "collapsed": true
   },
   "outputs": [],
   "source": [
    "def show(image):\n",
    "    interact(image_3D_slice_viewer,slice_num=widgets.IntSlider(min=0,max=image.GetDepth()-1,step=1))\n",
    "    return image"
   ]
  },
  {
   "cell_type": "code",
   "execution_count": 25,
   "metadata": {
    "ExecuteTime": {
     "end_time": "2019-06-13T07:49:47.746876Z",
     "start_time": "2019-06-13T07:49:47.742890Z"
    },
    "collapsed": true
   },
   "outputs": [],
   "source": [
    "def show2D(image):\n",
    "    img = sitk.GetArrayViewFromImage(image)\n",
    "    #gray = rgb2gray(img)    \n",
    "    plt.imshow(img, cmap = plt.get_cmap('gray'))\n",
    "    plt.show()"
   ]
  },
  {
   "cell_type": "code",
   "execution_count": 65,
   "metadata": {
    "collapsed": true
   },
   "outputs": [],
   "source": [
    "def showlabel(im,label):\n",
    "    overlay = sitk.LabelOverlayImageFilter()\n",
    "    overlay.SetOpacity(0.5)\n",
    "    overlay.SetBackgroundValue(0)\n",
    "    overlay.SetColormap([255,0,0])\n",
    "    image = overlay.Execute(im,label)\n",
    "    interact(image_3D_slice_viewer,slice_num=widgets.IntSlider(min=0,max=image.GetDepth()-1,step=1))\n",
    "    return image"
   ]
  },
  {
   "cell_type": "code",
   "execution_count": null,
   "metadata": {
    "collapsed": true
   },
   "outputs": [],
   "source": [
    "def getGradientImage(im):\n",
    "    grad = sitk.GradientMagnitudeRecursiveGaussianImageFilter()\n",
    "    grad.SetSigma(1)\n",
    "    gradim = grad.Execute(croppedim)\n",
    "    return sitk.Cast(gradim,sitk.sitkUInt8)\n",
    "    #gradimsharp = sitk.LaplacianSharpening(gradimUint8)\n",
    "\n"
   ]
  },
  {
   "cell_type": "code",
   "execution_count": 67,
   "metadata": {
    "collapsed": true
   },
   "outputs": [],
   "source": [
    "def getSegmentedImage(im,watershed_level):\n",
    "    seg = sitk.MorphologicalWatershedImageFilter()\n",
    "    seg.SetLevel(watershed_level)\n",
    "    seg.SetMarkWatershedLine(False)\n",
    "    segim = seg.Execute(getGradientImage(im))\n",
    "    #segimsharp = seg.Execute(gradimsharp)\n",
    "    return sitk.Cast(segim,sitk.sitkUInt8)"
   ]
  },
  {
   "cell_type": "code",
   "execution_count": 71,
   "metadata": {
    "collapsed": true
   },
   "outputs": [],
   "source": [
    "def getAxonOrDendriteSegmentedImageForGivenWatershedLevel(croppedim,croppedaxonim,level):    \n",
    "    segim = getSegmentedImage(croppedim,level)\n",
    "    #initialSkelImage = sitk.BinaryThreshold( sitk.SignedMaurerDistanceMap( croppeddendim ), -1000, 1 )\n",
    "    axonimagestrict = getAxonorDendtriteFromMaskImage(segim,croppedaxonim,min_pixel_value=1,radius=0)#overlay.Execute(cropped_image,gradsegim)\n",
    "    axonsegim = sitk.Mask(segim,axonimagestrict)\n",
    "    startNumSkelPixels = np.sum((sitk.GetArrayFromImage(sitk.And(axonsegim,croppedaxonim)))>0)\n",
    "    \n",
    "    return list([axonsegim,startNumSkelPixels])"
   ]
  },
  {
   "cell_type": "code",
   "execution_count": 74,
   "metadata": {
    "collapsed": true
   },
   "outputs": [],
   "source": [
    "def getAxonOrDendriteSegmentedImage(croppedim,croppedaxonim):    \n",
    "    [axonsegim,startNumSkelPixels] = getAxonOrDendriteSegmentedImageForGivenWatershedLevel(croppedim,croppedaxonim,1)\n",
    "    for level in range(1,100):\n",
    "        [tmpsegim,numSkelPixels] = getAxonOrDendriteSegmentedImageForGivenWatershedLevel(croppedim,croppedaxonim,level)\n",
    "        if (numSkelPixels < startNumSkelPixels):\n",
    "            break\n",
    "        else:\n",
    "            axonsegim = tmpsegim\n",
    "            level = level+1\n",
    "\n",
    "    return [axonsegim,level-1]"
   ]
  },
  {
   "cell_type": "code",
   "execution_count": 83,
   "metadata": {
    "collapsed": true
   },
   "outputs": [],
   "source": [
    "def getPaddedImage(img,radius=1):\n",
    "    pad = sitk.BinaryDilateImageFilter()\n",
    "    pad.SetForegroundValue(255)\n",
    "    pad.SetKernelRadius(radius)\n",
    "    #paddedim =pad.Execute(sitk.Cast(img,sitk.sitkUInt8))\n",
    "    return pad.Execute(img)"
   ]
  },
  {
   "cell_type": "code",
   "execution_count": 84,
   "metadata": {
    "collapsed": true
   },
   "outputs": [],
   "source": [
    "def convertToBinary(im):\n",
    "    return sitk.BinaryThreshold(im,1,255,255,0)"
   ]
  },
  {
   "cell_type": "code",
   "execution_count": 85,
   "metadata": {
    "collapsed": true
   },
   "outputs": [],
   "source": [
    "def getNumberOfOverlapClusters(overlapim):    \n",
    "    cc = sitk.ConnectedComponentImageFilter()\n",
    "    cc.SetFullyConnected(True)\n",
    "    ccim = cc.Execute(overlapim)\n",
    "    return cc.GetObjectCount()\n",
    "    "
   ]
  },
  {
   "cell_type": "code",
   "execution_count": 1,
   "metadata": {
    "collapsed": true
   },
   "outputs": [],
   "source": [
    "def getAxonOrDendSegmentStats(croppedim,axonordendsegim,skelim):\n",
    "    a = sitk.GetArrayFromImage(sitk.Mask(croppedim,convertToBinary(axonordendsegim)))\n",
    "    volume = 0\n",
    "    brightness = 0\n",
    "    volume = volume + (a>0).sum()\n",
    "    brightness = brightness + a.sum()\n",
    "    radii,avgrad = getRadii(axonordendsegim,skelim)\n",
    "    mean,std,snr = getSNR(croppedim,axonordendsegim)\n",
    "    return list([brightness,mean,std,snr,volume,volume*XY_RESOLUTION*XY_RESOLUTION*Z_RESOLUTION, brightness/(volume*XY_RESOLUTION*XY_RESOLUTION*Z_RESOLUTION+1), radii, avgrad])"
   ]
  },
  {
   "cell_type": "code",
   "execution_count": 1,
   "metadata": {
    "collapsed": true
   },
   "outputs": [],
   "source": [
    "def getSNR(croppedim,axonordendsegim):\n",
    "    a = sitk.GetArrayFromImage(sitk.Mask(croppedim,convertToBinary(axonordendsegim)))\n",
    "    structure = a[a>0]\n",
    "    signal = np.mean(structure)\n",
    "    b = sitk.GetArrayFromImage(sitk.Mask(croppedim,sitk.Not(axonordendsegim)))\n",
    "    background = b[b>0]\n",
    "    noise = np.var(background)\n",
    "    return list([np.mean(structure),np.std(structure),signal/noise])\n",
    "    "
   ]
  },
  {
   "cell_type": "code",
   "execution_count": 9,
   "metadata": {
    "collapsed": true
   },
   "outputs": [],
   "source": [
    "def getBoutons(im,croppedim):    \n",
    "    a = sitk.GetArrayFromImage(im)\n",
    "    croppedimarr = sitk.GetArrayFromImage(croppedim)\n",
    "    objsizes = []\n",
    "    objvals = np.unique(a)\n",
    "    for objval in objvals:\n",
    "        if objval == 0:\n",
    "            objsizes.append(list([0,0]))\n",
    "        else :\n",
    "            objsizes.append(list([(a == objval).sum(),(croppedimarr[a == objval]).sum()]))\n",
    "    # cluster objs into bouton and non bouton objs based on obj size and brightness\n",
    "    objszarr = np.array(objsizes).reshape([np.array(objsizes).shape[0],2])\n",
    "    centroids, labels, bla = cluster.k_means((objszarr),2)\n",
    "    if np.max((objszarr[labels>0])[:,0]) > np.max((objszarr[labels==0])[:,0]):\n",
    "        boutonszs = (objszarr[labels>0])[:,0]\n",
    "    else:\n",
    "        boutonszs = (objszarr[labels==0])[:,0]\n",
    "    \n",
    "    #for each bouton add it to bouton mask image\n",
    "    b = sitk.GetArrayFromImage(im)\n",
    "    b[:,:,:] = 0\n",
    "    \n",
    "    for boutonsize in boutonszs:\n",
    "        boutonval = objvals[(objszarr[:,0] == boutonsize)][0]\n",
    "        \n",
    "        b[a == boutonval] = boutonval\n",
    "\n",
    "    boutonim = sitk.GetImageFromArray(b)\n",
    "    boutonim.SetOrigin(im.GetOrigin())\n",
    "    return boutonim"
   ]
  },
  {
   "cell_type": "code",
   "execution_count": 24,
   "metadata": {
    "collapsed": true
   },
   "outputs": [],
   "source": [
    "def getRadii(im,skelim):\n",
    "    radii = []\n",
    "    radsum = 0\n",
    "    radavg = 0\n",
    "    a = sitk.GetArrayFromImage(im)\n",
    "\n",
    "    for objval in np.unique(a):\n",
    "        if objval > 0:\n",
    "            b = sitk.GetArrayFromImage(im)\n",
    "            b[:,:,:] = 0\n",
    "            b[a == objval] = 255\n",
    "            bi = convertToBinary(sitk.GetImageFromArray(b))\n",
    "            bi.SetOrigin(im.GetOrigin())\n",
    "            objskel = (sitk.Mask(convertToBinary(skelim),(bi)))\n",
    "            h =(sitk.GetArrayFromImage(objskel) > 0).sum()\n",
    "            v = (b>0).sum()\n",
    "            #print v,h\n",
    "            for r in range(1,20):\n",
    "                ve = np.pi*(r**2)*h\n",
    "                #print ve\n",
    "                #print r\n",
    "                if ve > v:\n",
    "                    break\n",
    "                else:\n",
    "                    r = r+1\n",
    "\n",
    "            radsum = radsum + r-1\n",
    "            radii.append((r-1))\n",
    "    if len(radii) > 0:\n",
    "        radavg = radsum/float(len(radii))\n",
    "    return list([radii,radavg])"
   ]
  },
  {
   "cell_type": "code",
   "execution_count": 2,
   "metadata": {
    "ExecuteTime": {
     "end_time": "2019-02-21T04:01:15.512606Z",
     "start_time": "2019-02-21T04:01:15.461597Z"
    },
    "collapsed": true
   },
   "outputs": [],
   "source": [
    "def writeLandmarkCoords(filename, landmarkList):\n",
    "    with open(filename, 'w') as file:\n",
    "        file.write(\"# Avizo 3D ASCII 2.0 \\n\")\n",
    "        file.write(\"define Markers \")\n",
    "        file.write(\"{}\".format(len(landmarkList)))\n",
    "        file.write(\"\\n\")\n",
    "        file.write(\"Parameters {\\n\")\n",
    "        file.write(\"    NumSets 1,\\n\")\n",
    "        file.write(\"    ContentType \\\"LandmarkSet\\\"\\n\")\n",
    "        file.write(\"}\\n\")\n",
    "\n",
    "        file.write(\"Markers { float[3] Coordinates } @1\\n\")\n",
    "\n",
    "        file.write(\"# Data section follows\\n\")\n",
    "        file.write(\"@1\\n\")\n",
    "        \n",
    "        if len(landmarkList)!=0:\n",
    "            for landmark in landmarkList:\n",
    "                #print(landmark[0][0])\n",
    "                file.write(\"{}\".format(landmark[0]))\n",
    "                file.write(\" \")\n",
    "                file.write(\"{}\".format(landmark[1]))\n",
    "                file.write(\" \")\n",
    "                file.write(\"{}\".format(landmark[2]))\n",
    "                file.write(\"\\n\")"
   ]
  },
  {
   "cell_type": "code",
   "execution_count": 2,
   "metadata": {
    "ExecuteTime": {
     "end_time": "2019-02-21T04:01:15.512606Z",
     "start_time": "2019-02-21T04:01:15.461597Z"
    },
    "collapsed": true
   },
   "outputs": [],
   "source": [
    "def writeLandmarkCoords2D(filename, landmarkList):\n",
    "    with open(filename, 'w') as file:\n",
    "        file.write(\"# Avizo 3D ASCII 2.0 \\n\")\n",
    "        file.write(\"define Markers \")\n",
    "        file.write(\"{}\".format(len(landmarkList)))\n",
    "        file.write(\"\\n\")\n",
    "        file.write(\"Parameters {\\n\")\n",
    "        file.write(\"    NumSets 1,\\n\")\n",
    "        file.write(\"    ContentType \\\"LandmarkSet\\\"\\n\")\n",
    "        file.write(\"}\\n\")\n",
    "\n",
    "        file.write(\"Markers { float[3] Coordinates } @1\\n\")\n",
    "\n",
    "        file.write(\"# Data section follows\\n\")\n",
    "        file.write(\"@1\\n\")\n",
    "        \n",
    "        if len(landmarkList)!=0:\n",
    "            for landmark in landmarkList:\n",
    "                #print(landmark[0][0])\n",
    "                file.write(\"{}\".format(landmark[0]))\n",
    "                file.write(\" \")\n",
    "                file.write(\"{}\".format(landmark[1]))\n",
    "                file.write(\" \")\n",
    "                file.write(\"{}\".format(0))\n",
    "                file.write(\"\\n\")"
   ]
  },
  {
   "cell_type": "code",
   "execution_count": 2,
   "metadata": {
    "ExecuteTime": {
     "end_time": "2019-02-21T04:01:15.512606Z",
     "start_time": "2019-02-21T04:01:15.461597Z"
    },
    "collapsed": true
   },
   "outputs": [],
   "source": [
    "def writeLandmarkCoordsFromLists(filename, landmarkLists):\n",
    "    pt_list = []\n",
    "    for landmarklist in landmarkLists:\n",
    "        for landmark in landmarklist: \n",
    "            pt_list.append(landmark)\n",
    "    with open(filename, 'w') as file:\n",
    "        file.write(\"# Avizo 3D ASCII 2.0 \\n\")\n",
    "        file.write(\"define Markers \")\n",
    "        file.write(\"{}\".format(len(pt_list)))\n",
    "        file.write(\"\\n\")\n",
    "        file.write(\"Parameters {\\n\")\n",
    "        file.write(\"    NumSets 1,\\n\")\n",
    "        file.write(\"    ContentType \\\"LandmarkSet\\\"\\n\")\n",
    "        file.write(\"}\\n\")\n",
    "\n",
    "        file.write(\"Markers { float[3] Coordinates } @1\\n\")\n",
    "\n",
    "        file.write(\"# Data section follows\\n\")\n",
    "        file.write(\"@1\\n\")\n",
    "        \n",
    "        #for landmarklist in landmarkLists:\n",
    "        for landmark in pt_list:\n",
    "            #print(landmark[0][0])\n",
    "            file.write(\"{}\".format(landmark[0]))\n",
    "            file.write(\" \")\n",
    "            file.write(\"{}\".format(landmark[1]))\n",
    "            file.write(\" \")\n",
    "            file.write(\"{}\".format(landmark[2]))\n",
    "            file.write(\"\\n\")"
   ]
  },
  {
   "cell_type": "code",
   "execution_count": 20,
   "metadata": {
    "ExecuteTime": {
     "end_time": "2019-06-11T11:13:48.152297Z",
     "start_time": "2019-06-11T11:13:48.145274Z"
    },
    "collapsed": true
   },
   "outputs": [],
   "source": [
    "def writeLandmarkCoordsFromListofLists(filename, landmarkListslist):\n",
    "    pt_list = []\n",
    "    for landmarklists in landmarkListslist:\n",
    "        for landmarklist in landmarklists: \n",
    "            for landmark in landmarklist: \n",
    "                pt_list.append(landmark)\n",
    "    with open(filename, 'w') as file:\n",
    "        file.write(\"# Avizo 3D ASCII 2.0 \\n\")\n",
    "        file.write(\"define Markers \")\n",
    "        file.write(\"{}\".format(len(pt_list)))\n",
    "        file.write(\"\\n\")\n",
    "        file.write(\"Parameters {\\n\")\n",
    "        file.write(\"    NumSets 1,\\n\")\n",
    "        file.write(\"    ContentType \\\"LandmarkSet\\\"\\n\")\n",
    "        file.write(\"}\\n\")\n",
    "\n",
    "        file.write(\"Markers { float[3] Coordinates } @1\\n\")\n",
    "\n",
    "        file.write(\"# Data section follows\\n\")\n",
    "        file.write(\"@1\\n\")\n",
    "        \n",
    "        #for landmarklist in landmarkLists:\n",
    "        for landmark in pt_list:\n",
    "            #print(landmark[0][0])\n",
    "            file.write(\"{}\".format(landmark[0]))\n",
    "            file.write(\" \")\n",
    "            file.write(\"{}\".format(landmark[1]))\n",
    "            file.write(\" \")\n",
    "            file.write(\"{}\".format(landmark[2]))\n",
    "            file.write(\"\\n\")"
   ]
  },
  {
   "cell_type": "code",
   "execution_count": 19,
   "metadata": {
    "ExecuteTime": {
     "end_time": "2019-06-06T13:55:29.524039Z",
     "start_time": "2019-06-06T13:55:29.519017Z"
    },
    "collapsed": true
   },
   "outputs": [],
   "source": [
    "def appendPolyData(surf1,surf2):\n",
    "    appender = vtk.vtkAppendPolyData()\n",
    "    appender.AddInputData(surf1)\n",
    "    appender.AddInputData(surf2)\n",
    "    appender.Update()\n",
    "    surface = appender.GetOutput()\n",
    "\n",
    "    return surface"
   ]
  },
  {
   "cell_type": "code",
   "execution_count": 18,
   "metadata": {
    "ExecuteTime": {
     "end_time": "2019-06-06T13:55:27.233317Z",
     "start_time": "2019-06-06T13:55:27.229331Z"
    },
    "collapsed": true
   },
   "outputs": [],
   "source": [
    "def appendPolyData(surflist):\n",
    "    appender = vtk.vtkAppendPolyData()\n",
    "    for surf in surflist:\n",
    "        appender.AddInputData(surf)\n",
    "    appender.Update()\n",
    "    surface = appender.GetOutput()\n",
    "\n",
    "    return surface"
   ]
  },
  {
   "cell_type": "code",
   "execution_count": null,
   "metadata": {
    "collapsed": true
   },
   "outputs": [],
   "source": [
    "def apply_icp_transform_to_list(surfaces,icp):\n",
    "    tr_surfaces = []\n",
    "    for surface in surfaces:\n",
    "        icpTransformFilter = vtk.vtkTransformPolyDataFilter()\n",
    "        icpTransformFilter.SetInputData(surface)\n",
    "        icpTransformFilter.SetTransform(icp)\n",
    "        icpTransformFilter.Update()\n",
    "        tr_surfaces.append(icpTransformFilter.GetOutput())\n",
    "        \n",
    "    return tr_surfaces"
   ]
  },
  {
   "cell_type": "code",
   "execution_count": null,
   "metadata": {
    "collapsed": true
   },
   "outputs": [],
   "source": [
    "def writeSurfaceMeshFile(surf,filename):\n",
    "    writer = vtk.vtkPolyDataWriter()\n",
    "    writer.SetInputData(surf)\n",
    "    writer.SetFileName(filename)\n",
    "    writer.Write()"
   ]
  },
  {
   "cell_type": "code",
   "execution_count": null,
   "metadata": {
    "collapsed": true
   },
   "outputs": [],
   "source": [
    "def writeSurfaceMeshFilesList(surfs,filenames):\n",
    "    writer = vtk.vtkPolyDataWriter()\n",
    "    for i in range(len(surfs)):\n",
    "        writer.SetInputData(surfs[i])\n",
    "        writer.SetFileName(filenames[i])\n",
    "        writer.Write()"
   ]
  },
  {
   "cell_type": "code",
   "execution_count": null,
   "metadata": {
    "collapsed": true
   },
   "outputs": [],
   "source": [
    "def resample_contours(contours,res,downscale=1):\n",
    "    resampled_conts_list = []\n",
    "    for cnt in contours:\n",
    "        resampled_cont_list = []\n",
    "        for i in range(len(cnt)):\n",
    "            if i == len(cnt)-1:\n",
    "                pt1 = np.reshape(np.array(cnt)[i,:],[1,3])\n",
    "                pt2 = np.reshape(np.array(cnt)[0,:],[1,3])\n",
    "            else:\n",
    "                pt1 = np.reshape(np.array(cnt)[i,:],[1,3])\n",
    "                pt2 = np.reshape(np.array(cnt)[i+1,:],[1,3])\n",
    "            \n",
    "            dist = (distance.cdist(pt1,pt2))\n",
    "            num_pts_inserted = int(dist / res)\n",
    "            #print('num_pts_inserted: {}'.format(num_pts_inserted))\n",
    "            m = (pt2[:,1]-pt2[:,0]) / (pt1[:,1]-pt1[:,0])\n",
    "\n",
    "            #print('needed_{}'.format(num_pts_inserted))\n",
    "            ptlist = []\n",
    "            ptlist.append(cnt[i])\n",
    "            if i == len(cnt)-1:\n",
    "                ptlist.append(cnt[0])\n",
    "            else:\n",
    "                ptlist.append(cnt[i+1])\n",
    "            ptlist = getMidLine(ptlist,num_pts_inserted)\n",
    "            #print('added{}'.format(len(ptlist)))\n",
    "            for pt in ptlist:\n",
    "                resampled_cont_list.append([pt[0]/downscale,pt[1]/downscale,])\n",
    "        resampled_conts_list.append(resampled_cont_list)\n",
    "    return resampled_conts_list"
   ]
  },
  {
   "cell_type": "code",
   "execution_count": null,
   "metadata": {
    "collapsed": true
   },
   "outputs": [],
   "source": [
    "def getMidLine(ptlist,limit):\n",
    "    newptlist = []\n",
    "    #print(ptlist)\n",
    "    if len(ptlist) < (limit/2):\n",
    "        for i in range(len(ptlist)-1):\n",
    "            newptlist.append(ptlist[i])\n",
    "            newptlist.append([(ptlist[i][0]+ptlist[i+1][0])/2,(ptlist[i][1]+ptlist[i+1][1])/2])\n",
    "        newptlist.append(ptlist[i+1])\n",
    "        ptlist = newptlist\n",
    "        #print(ptlist)\n",
    "        return getMidLine(ptlist,limit)\n",
    "        #return newptlist\n",
    "    else:\n",
    "        return (ptlist)"
   ]
  },
  {
   "cell_type": "code",
   "execution_count": null,
   "metadata": {
    "collapsed": true
   },
   "outputs": [],
   "source": [
    "def erode_image(im,radius):\n",
    "    erode = sitk.BinaryErodeImageFilter()\n",
    "    erode.SetKernelRadius(radius)\n",
    "    erode.SetKernelType(sitk.sitkAnnulus)\n",
    "    erode.SetBackgroundValue(0)\n",
    "    erode.SetForegroundValue(255)\n",
    "    eroded = erode.Execute(im)\n",
    "    \n",
    "    return eroded"
   ]
  },
  {
   "cell_type": "code",
   "execution_count": null,
   "metadata": {
    "collapsed": true
   },
   "outputs": [],
   "source": [
    "def dilate_image(im,radius):\n",
    "    dilate = sitk.BinaryDilateImageFilter()\n",
    "    dilate.SetKernelRadius(radius)\n",
    "    dilate.SetKernelType(sitk.sitkAnnulus)\n",
    "    dilate.SetBackgroundValue(0)\n",
    "    dilate.SetForegroundValue(255)\n",
    "    dilated = dilate.Execute(im)\n",
    "    \n",
    "    return dilated"
   ]
  },
  {
   "cell_type": "code",
   "execution_count": null,
   "metadata": {
    "collapsed": true
   },
   "outputs": [],
   "source": [
    "def convertContourCoordsIntoBinaryImage(cont,im,resample_res = 0):\n",
    "    if resample_res != 0:\n",
    "        [resampled_pia] = resample_contours([cont],resample_res)\n",
    "    pia_imcords = scaleToImageCoords2D(resampled_pia,XY_RESOLUTION=XY_RES)\n",
    "    pia_cont_im = convertPointsToImage2D(pia_imcords,im)\n",
    "    pia_cont_im.SetOrigin(im.GetOrigin())\n",
    "    pia_hole_filled = erode_image(sitk.BinaryFillhole(dilate_image(pia_cont_im,1),foregroundValue=255,fullyConnected=False),1)\n",
    "    \n",
    "    return pia_hole_filled"
   ]
  },
  {
   "cell_type": "code",
   "execution_count": null,
   "metadata": {
    "collapsed": true
   },
   "outputs": [],
   "source": [
    "def showlabel2D(im,label):\n",
    "    overlay = sitk.LabelOverlayImageFilter()\n",
    "    overlay.SetOpacity(0.5)\n",
    "    overlay.SetBackgroundValue(0)\n",
    "    overlay.SetColormap([255,0,0])\n",
    "    image = overlay.Execute(im,label)\n",
    "    img = sitk.GetArrayViewFromImage(image)\n",
    "    #gray = rgb2gray(img)    \n",
    "    plt.imshow(img, )#cmap = plt.get_cmap('gray'))\n",
    "    plt.show()"
   ]
  }
 ],
 "metadata": {
  "kernelspec": {
   "display_name": "Python 3",
   "language": "python",
   "name": "python3"
  },
  "language_info": {
   "codemirror_mode": {
    "name": "ipython",
    "version": 3
   },
   "file_extension": ".py",
   "mimetype": "text/x-python",
   "name": "python",
   "nbconvert_exporter": "python",
   "pygments_lexer": "ipython3",
   "version": "3.7.6"
  },
  "toc": {
   "base_numbering": 1,
   "nav_menu": {},
   "number_sections": true,
   "sideBar": true,
   "skip_h1_title": false,
   "title_cell": "Table of Contents",
   "title_sidebar": "Contents",
   "toc_cell": false,
   "toc_position": {},
   "toc_section_display": true,
   "toc_window_display": false
  },
  "varInspector": {
   "cols": {
    "lenName": 16,
    "lenType": 16,
    "lenVar": 40
   },
   "kernels_config": {
    "python": {
     "delete_cmd_postfix": "",
     "delete_cmd_prefix": "del ",
     "library": "var_list.py",
     "varRefreshCmd": "print(var_dic_list())"
    },
    "r": {
     "delete_cmd_postfix": ") ",
     "delete_cmd_prefix": "rm(",
     "library": "var_list.r",
     "varRefreshCmd": "cat(var_dic_list()) "
    }
   },
   "types_to_exclude": [
    "module",
    "function",
    "builtin_function_or_method",
    "instance",
    "_Feature"
   ],
   "window_display": false
  }
 },
 "nbformat": 4,
 "nbformat_minor": 2
}
