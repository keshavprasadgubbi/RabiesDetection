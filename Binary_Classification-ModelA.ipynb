{
 "cells": [
  {
   "cell_type": "code",
   "execution_count": 34,
   "metadata": {},
   "outputs": [],
   "source": [
    "import tensorflow as tf\n",
    "from keras.models import Sequential\n",
    "from keras.layers import Dense, Dropout, Activation, Flatten, Conv2D, MaxPooling2D\n",
    "from keras.optimizers import Adam\n",
    "from Data_Preparation import *\n",
    "from keras.utils import to_categorical"
   ]
  },
  {
   "cell_type": "code",
   "execution_count": 37,
   "metadata": {},
   "outputs": [
    {
     "name": "stdout",
     "output_type": "stream",
     "text": [
      "Data/Train/Background\n",
      "0\n",
      "Data/Train/Image\n",
      "1\n",
      "Data/Train/Partial\n",
      "2\n",
      "(1730, 50, 50, 1)\n"
     ]
    }
   ],
   "source": [
    "X,y = create_training_data()"
   ]
  },
  {
   "cell_type": "code",
   "execution_count": 38,
   "metadata": {},
   "outputs": [
    {
     "name": "stdout",
     "output_type": "stream",
     "text": [
      "Model: \"sequential_5\"\n",
      "_________________________________________________________________\n",
      "Layer (type)                 Output Shape              Param #   \n",
      "=================================================================\n",
      "conv2d_9 (Conv2D)            (None, 50, 50, 128)       1280      \n",
      "_________________________________________________________________\n",
      "activation_17 (Activation)   (None, 50, 50, 128)       0         \n",
      "_________________________________________________________________\n",
      "max_pooling2d_9 (MaxPooling2 (None, 25, 25, 128)       0         \n",
      "_________________________________________________________________\n",
      "dropout_9 (Dropout)          (None, 25, 25, 128)       0         \n",
      "_________________________________________________________________\n",
      "conv2d_10 (Conv2D)           (None, 25, 25, 64)        73792     \n",
      "_________________________________________________________________\n",
      "activation_18 (Activation)   (None, 25, 25, 64)        0         \n",
      "_________________________________________________________________\n",
      "max_pooling2d_10 (MaxPooling (None, 12, 12, 64)        0         \n",
      "_________________________________________________________________\n",
      "dropout_10 (Dropout)         (None, 12, 12, 64)        0         \n",
      "_________________________________________________________________\n",
      "flatten_5 (Flatten)          (None, 9216)              0         \n",
      "_________________________________________________________________\n",
      "dense_9 (Dense)              (None, 64)                589888    \n",
      "_________________________________________________________________\n",
      "activation_19 (Activation)   (None, 64)                0         \n",
      "_________________________________________________________________\n",
      "dense_10 (Dense)             (None, 3)                 195       \n",
      "_________________________________________________________________\n",
      "activation_20 (Activation)   (None, 3)                 0         \n",
      "=================================================================\n",
      "Total params: 665,155\n",
      "Trainable params: 665,155\n",
      "Non-trainable params: 0\n",
      "_________________________________________________________________\n",
      "Train on 1557 samples, validate on 173 samples\n",
      "Epoch 1/15\n",
      "1557/1557 [==============================] - 20s 13ms/step - loss: 0.6236 - accuracy: 0.7225 - val_loss: 0.4223 - val_accuracy: 0.8266\n",
      "Epoch 2/15\n",
      "1557/1557 [==============================] - 19s 12ms/step - loss: 0.4143 - accuracy: 0.7893 - val_loss: 0.3653 - val_accuracy: 0.8035\n",
      "Epoch 3/15\n",
      "1557/1557 [==============================] - 18s 12ms/step - loss: 0.3612 - accuracy: 0.8266 - val_loss: 0.3718 - val_accuracy: 0.8439\n",
      "Epoch 4/15\n",
      "1557/1557 [==============================] - 18s 12ms/step - loss: 0.3289 - accuracy: 0.8356 - val_loss: 0.3287 - val_accuracy: 0.8439\n",
      "Epoch 5/15\n",
      "1557/1557 [==============================] - 18s 12ms/step - loss: 0.3174 - accuracy: 0.8433 - val_loss: 0.3246 - val_accuracy: 0.8382\n",
      "Epoch 6/15\n",
      "1557/1557 [==============================] - 18s 12ms/step - loss: 0.3267 - accuracy: 0.8317 - val_loss: 0.3254 - val_accuracy: 0.8613\n",
      "Epoch 7/15\n",
      "1557/1557 [==============================] - 19s 12ms/step - loss: 0.3153 - accuracy: 0.8426 - val_loss: 0.3552 - val_accuracy: 0.8439\n",
      "Epoch 8/15\n",
      "1557/1557 [==============================] - 20s 13ms/step - loss: 0.2888 - accuracy: 0.8536 - val_loss: 0.3251 - val_accuracy: 0.8555\n",
      "Epoch 9/15\n",
      "1557/1557 [==============================] - 18s 12ms/step - loss: 0.2825 - accuracy: 0.8484 - val_loss: 0.3486 - val_accuracy: 0.8092\n",
      "Epoch 10/15\n",
      "1557/1557 [==============================] - 18s 12ms/step - loss: 0.2782 - accuracy: 0.8548 - val_loss: 0.3627 - val_accuracy: 0.8266\n",
      "Epoch 11/15\n",
      "1557/1557 [==============================] - 19s 12ms/step - loss: 0.2706 - accuracy: 0.8632 - val_loss: 0.3674 - val_accuracy: 0.8092\n",
      "Epoch 12/15\n",
      "1557/1557 [==============================] - 18s 12ms/step - loss: 0.2737 - accuracy: 0.8536 - val_loss: 0.3919 - val_accuracy: 0.8266\n",
      "Epoch 13/15\n",
      "1557/1557 [==============================] - 18s 12ms/step - loss: 0.2708 - accuracy: 0.8619 - val_loss: 0.4258 - val_accuracy: 0.7977\n",
      "Epoch 14/15\n",
      "1557/1557 [==============================] - 18s 12ms/step - loss: 0.2575 - accuracy: 0.8600 - val_loss: 0.4201 - val_accuracy: 0.7919\n",
      "Epoch 15/15\n",
      "1557/1557 [==============================] - 18s 12ms/step - loss: 0.2562 - accuracy: 0.8619 - val_loss: 0.5934 - val_accuracy: 0.7168\n"
     ]
    }
   ],
   "source": [
    "#def binary_classification_model():\n",
    "model = Sequential()\n",
    "\n",
    "model.add(Conv2D(128,(3,3),padding = 'same',input_shape=(X.shape[1:]),kernel_initializer = 'he_normal'))\n",
    "model.add(Activation(\"relu\"))\n",
    "model.add(MaxPooling2D(pool_size=(2,2)))\n",
    "model.add(Dropout(0.4))\n",
    "\n",
    "model.add(Conv2D(64,(3,3),padding = 'same',kernel_initializer = 'he_normal'))\n",
    "model.add(Activation(\"relu\"))\n",
    "model.add(MaxPooling2D(pool_size=(2,2)))\n",
    "model.add(Dropout(0.3))\n",
    "\n",
    "########NEW LAYERS BEING ADDED###################\n",
    "\n",
    "#model.add(Conv2D(64,(3,3),padding = 'same',kernel_initializer = 'he_normal'))\n",
    "#model.add(Activation(\"relu\"))\n",
    "#model.add(MaxPooling2D(pool_size=(2,2)))\n",
    "#model.add(Dropout(0.6))\n",
    "\n",
    "################################################\n",
    "model.add(Flatten())\n",
    "model.add(Dense(64))\n",
    "model.add(Activation(\"relu\")) # added a new activation layer\n",
    "\n",
    "model.add(Dense(3))\n",
    "model.add(Activation('softmax')) # chaging from sigmoid to softmax to include more classes\n",
    "\n",
    "#filepath=\"weights.best.hdf5\"\n",
    "ada = Adam(learning_rate=0.001, beta_1=0.9, beta_2=0.999, amsgrad=False)\n",
    "model.compile(loss =\"categorical_crossentropy\", optimizer = 'adam', metrics = [\"accuracy\"])\n",
    "y_train=to_categorical(y, num_classes=3)\n",
    "\n",
    "model.summary()\n",
    "lr_model_history=model.fit(X,y_train,batch_size=10,epochs= 15,validation_split=0.1)\n"
   ]
  },
  {
   "cell_type": "code",
   "execution_count": 39,
   "metadata": {},
   "outputs": [
    {
     "data": {
      "image/png": "[encoded data removed]",
      "text/plain": [
       "<Figure size 720x360 with 1 Axes>"
      ]
     },
     "metadata": {
      "needs_background": "light"
     },
     "output_type": "display_data"
    },
    {
     "data": {
      "image/png": "[encoded data removed]",
      "text/plain": [
       "<Figure size 720x360 with 1 Axes>"
      ]
     },
     "metadata": {
      "needs_background": "light"
     },
     "output_type": "display_data"
    }
   ],
   "source": [
    "fig, ax = plt.subplots(1, 1, figsize=(10,5))\n",
    "ax.plot(np.sqrt(lr_model_history.history['loss']), 'r', label='training')\n",
    "ax.plot(np.sqrt(lr_model_history.history['val_loss']), 'b' ,label='validation')\n",
    "ax.set_xlabel(r'Epoch', fontsize=20)\n",
    "ax.set_ylabel(r'Loss', fontsize=20)\n",
    "ax.legend()\n",
    "ax.tick_params(labelsize=20)\n",
    "\n",
    "# Plot the accuracy\n",
    "fig, ax = plt.subplots(1, 1, figsize=(10,5))\n",
    "ax.plot(np.sqrt(lr_model_history.history['accuracy']), 'r', label='training')\n",
    "ax.plot(np.sqrt(lr_model_history.history['val_accuracy']), 'b' ,label='validation')\n",
    "ax.set_xlabel(r'Epoch', fontsize=20)\n",
    "ax.set_ylabel(r'Accuracy', fontsize=20)\n",
    "ax.legend()\n",
    "ax.tick_params(labelsize=20)"
   ]
  },
  {
   "cell_type": "code",
   "execution_count": 57,
   "metadata": {},
   "outputs": [],
   "source": [
    "#import SimpleITK as sitk\n",
    "#import os\n",
    "#import glob\n",
    "#reader = sitk.ImageFileReader()\n",
    "#test_image_path = '/Users/keshavaprasad/Desktop/image/Classification_model/Data/Test/*'"
   ]
  },
  {
   "cell_type": "code",
   "execution_count": 40,
   "metadata": {},
   "outputs": [],
   "source": [
    "img_size = 50 # fix the size of the image\n",
    "Path = \"Data/Test\"\n",
    "Testing_image = []# list of testing images\n",
    "image_name = []# list of image names\n",
    "try:\n",
    "    for img in os.listdir(Path): #gives the images from the path\n",
    "        img_array = cv2.imread(os.path.join(Path,img),cv2.IMREAD_GRAYSCALE) # read every image in gray scale from the given path\n",
    "        Testing_image.append(img_array)\n",
    "        image_name.append(img)\n",
    "        #plt.imshow(img_array,cmap='gray')\n",
    "        #plt.show()\n",
    "        #break\n",
    "except Exception as e:\n",
    "    pass"
   ]
  },
  {
   "cell_type": "code",
   "execution_count": 41,
   "metadata": {},
   "outputs": [
    {
     "name": "stdout",
     "output_type": "stream",
     "text": [
      "None\n",
      ".DS_Store\n"
     ]
    }
   ],
   "source": [
    "#print(Testing_image[8])\n",
    "#print(image_name[8])\n",
    "\n",
    "if image_name[8]== '.DS_Store':\n",
    "    print(Testing_image.pop(8))\n",
    "    print(image_name.pop(8))"
   ]
  },
  {
   "cell_type": "code",
   "execution_count": 42,
   "metadata": {},
   "outputs": [
    {
     "name": "stdout",
     "output_type": "stream",
     "text": [
      "60\n",
      "(50, 50)\n",
      "60\n"
     ]
    },
    {
     "data": {
      "text/plain": [
       "['13.tif',\n",
       " '5569.tif',\n",
       " '12.tif',\n",
       " '1320.tif',\n",
       " '10.tif',\n",
       " '4661.tif',\n",
       " '11.tif',\n",
       " '15.tif',\n",
       " '2228.tif',\n",
       " '4658.tif',\n",
       " '14.tif',\n",
       " '16.tif',\n",
       " '3450.tif',\n",
       " '17.tif',\n",
       " '5442.tif',\n",
       " '1618.tif',\n",
       " '3147.tif',\n",
       " '1779.tif',\n",
       " '1627.tif',\n",
       " '5131.tif',\n",
       " '9.tif',\n",
       " '1784.tif',\n",
       " '3151.tif',\n",
       " '8.tif',\n",
       " '4951.tif',\n",
       " '4809.tif',\n",
       " '1781.tif',\n",
       " '2076.tif',\n",
       " '4822.tif',\n",
       " '6205.tif',\n",
       " '3.tif',\n",
       " '2245.tif',\n",
       " '4350.tif',\n",
       " '2.tif',\n",
       " '0.tif',\n",
       " '1772.tif',\n",
       " '2535.tif',\n",
       " '4353.tif',\n",
       " '1.tif',\n",
       " '3000.tif',\n",
       " '5.tif',\n",
       " '3606.tif',\n",
       " '4.tif',\n",
       " '4975.tif',\n",
       " '6.tif',\n",
       " '2081.tif',\n",
       " '7.tif',\n",
       " '4520.tif',\n",
       " '3139.tif',\n",
       " '2227.tif',\n",
       " '2226.tif',\n",
       " '2391.tif',\n",
       " '1315.tif',\n",
       " '19.tif',\n",
       " '2998.tif',\n",
       " '1936.tif',\n",
       " '2230.tif',\n",
       " '18.tif',\n",
       " '2395.tif',\n",
       " '5410.tif']"
      ]
     },
     "execution_count": 42,
     "metadata": {},
     "output_type": "execute_result"
    }
   ],
   "source": [
    "print(len(Testing_image))\n",
    "print(Testing_image[8].shape)\n",
    "print(len(image_name))\n",
    "image_name"
   ]
  },
  {
   "cell_type": "code",
   "execution_count": 43,
   "metadata": {},
   "outputs": [],
   "source": [
    "Test_image = np.array(Testing_image).reshape(-1,img_size,img_size,1)#make an array of every element of list from Testing_image and then reshape them\n",
    "#Test_image = Test_image/255.0"
   ]
  },
  {
   "cell_type": "code",
   "execution_count": 44,
   "metadata": {},
   "outputs": [],
   "source": [
    "#print(Test_image[8].shape)\n",
    "#print(Test_image[8])"
   ]
  },
  {
   "cell_type": "code",
   "execution_count": 45,
   "metadata": {},
   "outputs": [
    {
     "data": {
      "text/plain": [
       "array([2, 2, 2, 2, 2, 2, 2, 2, 2, 1, 2, 2, 2, 2, 2, 2, 2, 2, 2, 2, 2, 2,\n",
       "       2, 2, 2, 2, 2, 2, 2, 2, 2, 2, 0, 2, 2, 2, 2, 2, 2, 2, 2, 2, 2, 2,\n",
       "       2, 2, 2, 2, 2, 2, 1, 2, 2, 2, 2, 2, 2, 2, 1, 2])"
      ]
     },
     "execution_count": 45,
     "metadata": {},
     "output_type": "execute_result"
    }
   ],
   "source": [
    "scores = model.predict_classes(Test_image)\n",
    "scores"
   ]
  },
  {
   "cell_type": "code",
   "execution_count": 46,
   "metadata": {},
   "outputs": [
    {
     "name": "stdout",
     "output_type": "stream",
     "text": [
      "Image: 13.tif with score: 2\n",
      "Image: 5569.tif with score: 2\n",
      "Image: 12.tif with score: 2\n",
      "Image: 1320.tif with score: 2\n",
      "Image: 10.tif with score: 2\n",
      "Image: 4661.tif with score: 2\n",
      "Image: 11.tif with score: 2\n",
      "Image: 15.tif with score: 2\n",
      "Image: 2228.tif with score: 2\n",
      "Image: 4658.tif with score: 1\n",
      "Image: 14.tif with score: 2\n",
      "Image: 16.tif with score: 2\n",
      "Image: 3450.tif with score: 2\n",
      "Image: 17.tif with score: 2\n",
      "Image: 5442.tif with score: 2\n",
      "Image: 1618.tif with score: 2\n",
      "Image: 3147.tif with score: 2\n",
      "Image: 1779.tif with score: 2\n",
      "Image: 1627.tif with score: 2\n",
      "Image: 5131.tif with score: 2\n",
      "Image: 9.tif with score: 2\n",
      "Image: 1784.tif with score: 2\n",
      "Image: 3151.tif with score: 2\n",
      "Image: 8.tif with score: 2\n",
      "Image: 4951.tif with score: 2\n",
      "Image: 4809.tif with score: 2\n",
      "Image: 1781.tif with score: 2\n",
      "Image: 2076.tif with score: 2\n",
      "Image: 4822.tif with score: 2\n",
      "Image: 6205.tif with score: 2\n",
      "Image: 3.tif with score: 2\n",
      "Image: 2245.tif with score: 2\n",
      "Image: 4350.tif with score: 0\n",
      "Image: 2.tif with score: 2\n",
      "Image: 0.tif with score: 2\n",
      "Image: 1772.tif with score: 2\n",
      "Image: 2535.tif with score: 2\n",
      "Image: 4353.tif with score: 2\n",
      "Image: 1.tif with score: 2\n",
      "Image: 3000.tif with score: 2\n",
      "Image: 5.tif with score: 2\n",
      "Image: 3606.tif with score: 2\n",
      "Image: 4.tif with score: 2\n",
      "Image: 4975.tif with score: 2\n",
      "Image: 6.tif with score: 2\n",
      "Image: 2081.tif with score: 2\n",
      "Image: 7.tif with score: 2\n",
      "Image: 4520.tif with score: 2\n",
      "Image: 3139.tif with score: 2\n",
      "Image: 2227.tif with score: 2\n",
      "Image: 2226.tif with score: 1\n",
      "Image: 2391.tif with score: 2\n",
      "Image: 1315.tif with score: 2\n",
      "Image: 19.tif with score: 2\n",
      "Image: 2998.tif with score: 2\n",
      "Image: 1936.tif with score: 2\n",
      "Image: 2230.tif with score: 2\n",
      "Image: 18.tif with score: 2\n",
      "Image: 2395.tif with score: 1\n",
      "Image: 5410.tif with score: 2\n"
     ]
    }
   ],
   "source": [
    "for i in range(len(Test_image)):\n",
    "    print(\"Image:\",image_name[i],\"with score:\",scores[i])    "
   ]
  },
  {
   "cell_type": "code",
   "execution_count": 47,
   "metadata": {},
   "outputs": [
    {
     "name": "stdout",
     "output_type": "stream",
     "text": [
      "Image: 4658.tif\n",
      "Image: 2226.tif\n",
      "Image: 2395.tif\n"
     ]
    }
   ],
   "source": [
    "# saving the single neuron tiles into a particular for now - as a adhoc fix!\n",
    "import os\n",
    "import cv2\n",
    "dest_path = '/Users/keshavaprasad/Desktop/image/Classification_model/singleneurontiles'\n",
    "directory = '/Users/keshavaprasad/Desktop/image/Classification_model/'\n",
    "#print(os.chdir(dest_path)) \n",
    "#print(os.chdir(directory))  \n",
    "#print(os.getcwd())\n",
    "\n",
    "for i in range(len(Test_image)):\n",
    "    if scores[i]==1:\n",
    "        print(\"Image:\",image_name[i])\n",
    "        #print(\"TestImage:\",Test_image[i])\n",
    "        cv2.imwrite(image_name[i], Test_image[i])\n",
    "        #pass"
   ]
  },
  {
   "cell_type": "code",
   "execution_count": 12,
   "metadata": {},
   "outputs": [],
   "source": [
    "#need the images of class1 to be appended in a separate list\n",
    "sn_list  = [] # contains list of filenames of single neurons\n",
    "sn_images = [] # conatins tiles of single neurons #(actual images itself)\n",
    "for i in range(len(Test_image)):\n",
    "    if scores[i]==1:\n",
    "        #print(Test_image[i])\n",
    "        #print(\"Image \",image_name[i])\n",
    "        sn_images.append(Test_image[i])\n",
    "        sn_list.append(image_name[i])"
   ]
  },
  {
   "cell_type": "code",
   "execution_count": 13,
   "metadata": {},
   "outputs": [],
   "source": [
    "partial_list = []\n",
    "partial_images = []\n",
    "for i in range(len(Test_image)):\n",
    "    if scores[i]==2:\n",
    "        #print(Test_image[i])\n",
    "        #print(\"Image \",image_name[i])\n",
    "        partial_images.append(Test_image[i])\n",
    "        partial_list.append(image_name[i])\n",
    "    \n",
    "#partial_list  "
   ]
  },
  {
   "cell_type": "code",
   "execution_count": 15,
   "metadata": {},
   "outputs": [
    {
     "name": "stdout",
     "output_type": "stream",
     "text": [
      "18\n"
     ]
    }
   ],
   "source": [
    "print(len(sn_list))"
   ]
  },
  {
   "cell_type": "code",
   "execution_count": null,
   "metadata": {},
   "outputs": [],
   "source": [
    "'''# Display these single neurons\n",
    "import matplotlib.pyplot as plt\n",
    "plt.imshow(b[16],cmap='gray')\n",
    "plt.show()\n",
    "'''"
   ]
  },
  {
   "cell_type": "code",
   "execution_count": 16,
   "metadata": {},
   "outputs": [
    {
     "data": {
      "text/plain": [
       "['13.tif',\n",
       " '4661.tif',\n",
       " '15.tif',\n",
       " '4658.tif',\n",
       " '5442.tif',\n",
       " '1618.tif',\n",
       " '5131.tif',\n",
       " '1784.tif',\n",
       " '4951.tif',\n",
       " '2076.tif',\n",
       " '4350.tif',\n",
       " '3000.tif',\n",
       " '3606.tif',\n",
       " '4520.tif',\n",
       " '2226.tif',\n",
       " '1315.tif',\n",
       " '19.tif',\n",
       " '2395.tif']"
      ]
     },
     "execution_count": 16,
     "metadata": {},
     "output_type": "execute_result"
    }
   ],
   "source": [
    "sn_list"
   ]
  },
  {
   "cell_type": "code",
   "execution_count": 32,
   "metadata": {},
   "outputs": [],
   "source": [
    "'''scores = []\n",
    "for file in glob.glob(test_image_path):\n",
    "    reader.SetFileName(file)\n",
    "    a = reader.Execute()\n",
    "    b = sitk.GetArrayFromImage(a)\n",
    "    #b.shape\n",
    "    scores.append(model.predict_classes(b[:,:,0].reshape(1,50,50,1)))\n",
    "    #print(file,\"scores:\",scores)\n",
    "'''"
   ]
  },
  {
   "cell_type": "code",
   "execution_count": 52,
   "metadata": {},
   "outputs": [],
   "source": [
    "#Test_D, img_names = Test_Data()\n",
    "# Test_D is the image itself while img_names is a variable containing list of names of images\n",
    "#print(img_names)\n",
    "#print(\"*************\")\n",
    "#print(Test_D)\n",
    "#scores = model.predict_classes(Test_D)\n",
    "#print(Test_D.shape)\n",
    "#for i in range(len(Test_D)):\n",
    "#     print(\"Image:\",img_names[i],\"with score:\",scores[i])"
   ]
  },
  {
   "cell_type": "code",
   "execution_count": 55,
   "metadata": {},
   "outputs": [],
   "source": [
    "#print(img_names)\n",
    "#os.listdir()"
   ]
  },
  {
   "cell_type": "code",
   "execution_count": 42,
   "metadata": {},
   "outputs": [],
   "source": [
    "#print(type(scores)) # scores is numpy.ndarray. so need to convert it into a list to access list methods!\n",
    "#scores_list = scores.tolist()"
   ]
  },
  {
   "cell_type": "code",
   "execution_count": 49,
   "metadata": {},
   "outputs": [
    {
     "data": {
      "text/plain": [
       "'single_indexes = []\\npartial_indexes = []\\n\\npartial_neuron_list = []\\n\\nfor i in scores_list:\\n    if i ==1:\\n        single = scores_list.index(i)\\n        single_indexes.append(single)\\nfor l in scores_list:\\n    if l ==2:\\n        partial = scores_list.index(l)\\n        partial_indexes.append(partial)\\nfor j in indexes:\\n    partial_neuron_list.append(Test_D[j])\\nfor k in indexes:\\n    single_neuron_list.append(Test_D[k])\\n  '"
      ]
     },
     "execution_count": 49,
     "metadata": {},
     "output_type": "execute_result"
    }
   ],
   "source": [
    "'''single_indexes = []\n",
    "partial_indexes = []\n",
    "\n",
    "partial_neuron_list = []\n",
    "\n",
    "for i in scores_list:\n",
    "    if i ==1:\n",
    "        single = scores_list.index(i)\n",
    "        single_indexes.append(single)\n",
    "for l in scores_list:\n",
    "    if l ==2:\n",
    "        partial = scores_list.index(l)\n",
    "        partial_indexes.append(partial)\n",
    "for j in indexes:\n",
    "    partial_neuron_list.append(Test_D[j])\n",
    "for k in indexes:\n",
    "    single_neuron_list.append(Test_D[k])\n",
    "  '''  "
   ]
  },
  {
   "cell_type": "code",
   "execution_count": 27,
   "metadata": {},
   "outputs": [],
   "source": [
    "#model.save('Model_That_Worked_for_three_classes.h5')"
   ]
  },
  {
   "cell_type": "code",
   "execution_count": 28,
   "metadata": {},
   "outputs": [],
   "source": [
    "#from keras.models import load_model\n",
    "#worked_model = load_model('Model_That_Worked_for_three_classes.h5')"
   ]
  },
  {
   "cell_type": "code",
   "execution_count": 81,
   "metadata": {},
   "outputs": [
    {
     "data": {
      "text/plain": [
       "True"
      ]
     },
     "execution_count": 81,
     "metadata": {},
     "output_type": "execute_result"
    }
   ],
   "source": [
    "#os.path.exists('/Users/keshavaprasad/Desktop/image/Classification_model/Data/Test/2076.tif')"
   ]
  },
  {
   "cell_type": "code",
   "execution_count": 61,
   "metadata": {},
   "outputs": [
    {
     "data": {
      "text/plain": [
       "(50, 50)"
      ]
     },
     "execution_count": 61,
     "metadata": {},
     "output_type": "execute_result"
    }
   ],
   "source": [
    "#b[:,:,0].shape"
   ]
  },
  {
   "cell_type": "code",
   "execution_count": 56,
   "metadata": {},
   "outputs": [
    {
     "data": {
      "text/plain": [
       "2"
      ]
     },
     "execution_count": 56,
     "metadata": {},
     "output_type": "execute_result"
    }
   ],
   "source": [
    "#a.GetDimension()"
   ]
  },
  {
   "cell_type": "code",
   "execution_count": 103,
   "metadata": {},
   "outputs": [],
   "source": [
    "#img_size = 50\n",
    "#Test = np.array(b).reshape(-1,img_size,img_size,1)\n",
    "#C = Test/255.0\n",
    "#print(b.shape)"
   ]
  },
  {
   "cell_type": "code",
   "execution_count": 120,
   "metadata": {},
   "outputs": [
    {
     "data": {
      "text/plain": [
       "array([[[[15],\n",
       "         [15],\n",
       "         [15],\n",
       "         ...,\n",
       "         [30],\n",
       "         [50],\n",
       "         [60]],\n",
       "\n",
       "        [[35],\n",
       "         [45],\n",
       "         [45],\n",
       "         ...,\n",
       "         [15],\n",
       "         [30],\n",
       "         [55]],\n",
       "\n",
       "        [[45],\n",
       "         [60],\n",
       "         [30],\n",
       "         ...,\n",
       "         [20],\n",
       "         [ 5],\n",
       "         [45]],\n",
       "\n",
       "        ...,\n",
       "\n",
       "        [[20],\n",
       "         [20],\n",
       "         [15],\n",
       "         ...,\n",
       "         [40],\n",
       "         [70],\n",
       "         [61]],\n",
       "\n",
       "        [[40],\n",
       "         [ 0],\n",
       "         [10],\n",
       "         ...,\n",
       "         [20],\n",
       "         [55],\n",
       "         [65]],\n",
       "\n",
       "        [[30],\n",
       "         [25],\n",
       "         [40],\n",
       "         ...,\n",
       "         [40],\n",
       "         [40],\n",
       "         [40]]]], dtype=uint8)"
      ]
     },
     "execution_count": 120,
     "metadata": {},
     "output_type": "execute_result"
    }
   ],
   "source": [
    "#b[:,:,0].reshape(1,50,50,1)"
   ]
  }
 ],
 "metadata": {
  "kernelspec": {
   "display_name": "Python 3",
   "language": "python",
   "name": "python3"
  },
  "language_info": {
   "codemirror_mode": {
    "name": "ipython",
    "version": 3
   },
   "file_extension": ".py",
   "mimetype": "text/x-python",
   "name": "python",
   "nbconvert_exporter": "python",
   "pygments_lexer": "ipython3",
   "version": "3.7.6"
  },
  "varInspector": {
   "cols": {
    "lenName": 16,
    "lenType": 16,
    "lenVar": 40
   },
   "kernels_config": {
    "python": {
     "delete_cmd_postfix": "",
     "delete_cmd_prefix": "del ",
     "library": "var_list.py",
     "varRefreshCmd": "print(var_dic_list())"
    },
    "r": {
     "delete_cmd_postfix": ") ",
     "delete_cmd_prefix": "rm(",
     "library": "var_list.r",
     "varRefreshCmd": "cat(var_dic_list()) "
    }
   },
   "types_to_exclude": [
    "module",
    "function",
    "builtin_function_or_method",
    "instance",
    "_Feature"
   ],
   "window_display": false
  }
 },
 "nbformat": 4,
 "nbformat_minor": 2
}
