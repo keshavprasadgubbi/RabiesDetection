{
 "cells": [
  {
   "cell_type": "code",
   "execution_count": 1,
   "metadata": {},
   "outputs": [],
   "source": [
    "#Import Stuff \n",
    "import os\n",
    "import cv2\n",
    "import math\n",
    "import numpy as np"
   ]
  },
  {
   "cell_type": "code",
   "execution_count": 2,
   "metadata": {},
   "outputs": [],
   "source": [
    "#Read the image\n",
    "#source_path = '/Users/keshavaprasad/Desktop/image/MG48_3day_bs/testingcrop/S051_00.tif'\n",
    "#source_path = '/Users/keshavaprasad/Desktop/image/S25/S25_00.tif'\n",
    "source_path = '//ibs9010/current_data/Data_Keshav/masked_for_rabies_auto_detection/MG48_3day_bs/S51_Pia_Only.tif'\n",
    "image=cv2.imread(source_path)"
   ]
  },
  {
   "cell_type": "code",
   "execution_count": 3,
   "metadata": {},
   "outputs": [
    {
     "name": "stdout",
     "output_type": "stream",
     "text": [
      "(9536, 10340, 3)\n",
      "Height: 9536 Width: 10340\n"
     ]
    }
   ],
   "source": [
    "# Image Basics\n",
    "print(image.shape)\n",
    "# Get Shape\n",
    "p = image.shape[0]# p\n",
    "q = image.shape[1]#q\n",
    "print(\"Height:\",p,\"Width:\",q)\n",
    "\n",
    "# Defining the dimensions of a tile \n",
    "a = b = 50\n",
    "\n",
    "#************************\n",
    "cropped_tiles = [] #list for storing all cropped tile images\n",
    "vertices = [] #list for storing lists of vertex values # Defining vertices of tiles for cropping\n",
    "ctc = []#list for storing lists of tile numbers\n",
    "#cropped_tile_list = []\n",
    "mean_values = []# list for storing mean of the pixel values of each cropped tile \n",
    "background_cropped_tiles = [] #list for storing background tile images\n",
    "# Cropping image Sequentially\n",
    "i = j = cropped_tile_counter = correct_tile_counter = wrong_dim_tile_counter = mean= correct_dim_tile_counter= 0\n"
   ]
  },
  {
   "cell_type": "code",
   "execution_count": 4,
   "metadata": {},
   "outputs": [],
   "source": [
    "# Carry oout the sequential cropping store data into respective lists\n",
    "for i in range(0,math.floor(p),a):#range(start, stop, step) # to get the resolution right!\n",
    "    for j in range(0,math.floor(q),b):\n",
    "        #Defining the cropping box\n",
    "        #tile = image[j:j+b,i:i+a]#y1: y2, x1: x2\n",
    "        y1 = j\n",
    "        x1 = i\n",
    "        y2 = j+b\n",
    "        x2 = i+a\n",
    "        \n",
    "        tile = image[x1:x2,y1:y2]# making crops of each subimage and then storing in tile variable and then appended to cropped_tiles list\n",
    "        vertex = [x1,x2,y1,y2] # list of vertex values of each tiles\n",
    "        cropped_tile_counter +=1\n",
    "        \n",
    "        # Calculating mean for each tile and\n",
    "        mean = np.mean(tile)\n",
    "        \n",
    "        # checking for tiles with wrong dimensions\n",
    "        if tile.shape[0]!=50 or tile.shape[1]!= 50:\n",
    "            wrong_dim_tile_counter += 1\n",
    "        \n",
    "        # Keeping only tiles with correct dimensions # Append the vertex for each of these tiles into vertices list \n",
    "        # Append the correct_tile_counter variable into ctc list\n",
    "        if tile.shape[0] == 50 and tile.shape[1] == 50:\n",
    "            correct_dim_tile_counter +=1\n",
    "            if mean > 5 and mean<15:# imposing the mean value filter in order to remove lot of unnecessary background\n",
    "                correct_tile_counter +=1\n",
    "                #cropped_tiles.append(tile)\n",
    "                background_cropped_tiles.append([correct_tile_counter,tile])\n",
    "                ctc.append(correct_tile_counter)\n",
    "                #print(\"correct_tile_counter:\",correct_tile_counter,\"with vertex:\",vertex)\n",
    "                vertices.append(vertex)\n",
    "                # appending these values into mean_values list\n",
    "                mean_values.append(mean)                        \n",
    "### THE TWO KEY TAKEAWAYS:number of croppedtiles and respective vertex of each cropped tile"
   ]
  },
  {
   "cell_type": "code",
   "execution_count": 5,
   "metadata": {},
   "outputs": [
    {
     "name": "stdout",
     "output_type": "stream",
     "text": [
      "5301\n"
     ]
    }
   ],
   "source": [
    "print(len(background_cropped_tiles ))"
   ]
  },
  {
   "cell_type": "code",
   "execution_count": 7,
   "metadata": {},
   "outputs": [],
   "source": [
    "# Saving the tiles in a respective folder\n",
    "\n",
    "Dest_Path = '//ibs9010/current_data/Data_Keshav/Cropped_Images/S051/bkgd/'\n",
    "#Dest_Path = '/Users/keshavaprasad/Desktop/image/S25/'\n",
    "for k in range(len(background_cropped_tiles)):\n",
    "        pass\n",
    "        #print(\"K:\",k)\n",
    "        #cv2.imwrite(str(k)+ \".tif\", tiles[k])\n",
    "        cv2.imwrite(os.path.join(Dest_Path,str(k)+\".tif\"), background_cropped_tiles[k][1])"
   ]
  },
  {
   "cell_type": "code",
   "execution_count": null,
   "metadata": {},
   "outputs": [],
   "source": []
  }
 ],
 "metadata": {
  "kernelspec": {
   "display_name": "Python 3",
   "language": "python",
   "name": "python3"
  },
  "language_info": {
   "codemirror_mode": {
    "name": "ipython",
    "version": 3
   },
   "file_extension": ".py",
   "mimetype": "text/x-python",
   "name": "python",
   "nbconvert_exporter": "python",
   "pygments_lexer": "ipython3",
   "version": "3.7.7"
  }
 },
 "nbformat": 4,
 "nbformat_minor": 4
}
